{
 "cells": [
  {
   "cell_type": "code",
   "execution_count": 1,
   "id": "93311ac0",
   "metadata": {
    "_cell_guid": "b1076dfc-b9ad-4769-8c92-a6c4dae69d19",
    "_uuid": "8f2839f25d086af736a60e9eeb907d3b93b6e0e5",
    "execution": {
     "iopub.execute_input": "2024-08-28T12:37:42.357455Z",
     "iopub.status.busy": "2024-08-28T12:37:42.357007Z",
     "iopub.status.idle": "2024-08-28T12:37:43.958508Z",
     "shell.execute_reply": "2024-08-28T12:37:43.957083Z"
    },
    "papermill": {
     "duration": 1.611838,
     "end_time": "2024-08-28T12:37:43.961399",
     "exception": false,
     "start_time": "2024-08-28T12:37:42.349561",
     "status": "completed"
    },
    "tags": []
   },
   "outputs": [],
   "source": [
    "from sklearn.datasets import load_diabetes\n",
    "import numpy as np\n",
    "from sklearn.model_selection import train_test_split\n",
    "from sklearn.metrics import r2_score\n",
    "from sklearn.linear_model import LinearRegression\n",
    "import random"
   ]
  },
  {
   "cell_type": "code",
   "execution_count": 2,
   "id": "3349408e",
   "metadata": {
    "execution": {
     "iopub.execute_input": "2024-08-28T12:37:43.973893Z",
     "iopub.status.busy": "2024-08-28T12:37:43.973335Z",
     "iopub.status.idle": "2024-08-28T12:37:43.991696Z",
     "shell.execute_reply": "2024-08-28T12:37:43.990583Z"
    },
    "papermill": {
     "duration": 0.028046,
     "end_time": "2024-08-28T12:37:43.994768",
     "exception": false,
     "start_time": "2024-08-28T12:37:43.966722",
     "status": "completed"
    },
    "tags": []
   },
   "outputs": [],
   "source": [
    "X,y = load_diabetes(return_X_y=True)"
   ]
  },
  {
   "cell_type": "code",
   "execution_count": 3,
   "id": "28876ea1",
   "metadata": {
    "execution": {
     "iopub.execute_input": "2024-08-28T12:37:44.006812Z",
     "iopub.status.busy": "2024-08-28T12:37:44.006403Z",
     "iopub.status.idle": "2024-08-28T12:37:44.012412Z",
     "shell.execute_reply": "2024-08-28T12:37:44.011399Z"
    },
    "papermill": {
     "duration": 0.015002,
     "end_time": "2024-08-28T12:37:44.015035",
     "exception": false,
     "start_time": "2024-08-28T12:37:44.000033",
     "status": "completed"
    },
    "tags": []
   },
   "outputs": [
    {
     "name": "stdout",
     "output_type": "stream",
     "text": [
      "(442, 10)\n",
      "(442,)\n"
     ]
    }
   ],
   "source": [
    "print(X.shape)\n",
    "print(y.shape)"
   ]
  },
  {
   "cell_type": "code",
   "execution_count": 4,
   "id": "b4815ff9",
   "metadata": {
    "execution": {
     "iopub.execute_input": "2024-08-28T12:37:44.027077Z",
     "iopub.status.busy": "2024-08-28T12:37:44.026653Z",
     "iopub.status.idle": "2024-08-28T12:37:44.035056Z",
     "shell.execute_reply": "2024-08-28T12:37:44.033958Z"
    },
    "papermill": {
     "duration": 0.017417,
     "end_time": "2024-08-28T12:37:44.037544",
     "exception": false,
     "start_time": "2024-08-28T12:37:44.020127",
     "status": "completed"
    },
    "tags": []
   },
   "outputs": [],
   "source": [
    "X_train,X_test,y_train,y_test = train_test_split(X,y,test_size=0.2,random_state=2)"
   ]
  },
  {
   "cell_type": "code",
   "execution_count": 5,
   "id": "066546a1",
   "metadata": {
    "execution": {
     "iopub.execute_input": "2024-08-28T12:37:44.049812Z",
     "iopub.status.busy": "2024-08-28T12:37:44.049345Z",
     "iopub.status.idle": "2024-08-28T12:37:44.082677Z",
     "shell.execute_reply": "2024-08-28T12:37:44.081538Z"
    },
    "papermill": {
     "duration": 0.042597,
     "end_time": "2024-08-28T12:37:44.085362",
     "exception": false,
     "start_time": "2024-08-28T12:37:44.042765",
     "status": "completed"
    },
    "tags": []
   },
   "outputs": [
    {
     "data": {
      "text/html": [
       "<style>#sk-container-id-1 {color: black;background-color: white;}#sk-container-id-1 pre{padding: 0;}#sk-container-id-1 div.sk-toggleable {background-color: white;}#sk-container-id-1 label.sk-toggleable__label {cursor: pointer;display: block;width: 100%;margin-bottom: 0;padding: 0.3em;box-sizing: border-box;text-align: center;}#sk-container-id-1 label.sk-toggleable__label-arrow:before {content: \"▸\";float: left;margin-right: 0.25em;color: #696969;}#sk-container-id-1 label.sk-toggleable__label-arrow:hover:before {color: black;}#sk-container-id-1 div.sk-estimator:hover label.sk-toggleable__label-arrow:before {color: black;}#sk-container-id-1 div.sk-toggleable__content {max-height: 0;max-width: 0;overflow: hidden;text-align: left;background-color: #f0f8ff;}#sk-container-id-1 div.sk-toggleable__content pre {margin: 0.2em;color: black;border-radius: 0.25em;background-color: #f0f8ff;}#sk-container-id-1 input.sk-toggleable__control:checked~div.sk-toggleable__content {max-height: 200px;max-width: 100%;overflow: auto;}#sk-container-id-1 input.sk-toggleable__control:checked~label.sk-toggleable__label-arrow:before {content: \"▾\";}#sk-container-id-1 div.sk-estimator input.sk-toggleable__control:checked~label.sk-toggleable__label {background-color: #d4ebff;}#sk-container-id-1 div.sk-label input.sk-toggleable__control:checked~label.sk-toggleable__label {background-color: #d4ebff;}#sk-container-id-1 input.sk-hidden--visually {border: 0;clip: rect(1px 1px 1px 1px);clip: rect(1px, 1px, 1px, 1px);height: 1px;margin: -1px;overflow: hidden;padding: 0;position: absolute;width: 1px;}#sk-container-id-1 div.sk-estimator {font-family: monospace;background-color: #f0f8ff;border: 1px dotted black;border-radius: 0.25em;box-sizing: border-box;margin-bottom: 0.5em;}#sk-container-id-1 div.sk-estimator:hover {background-color: #d4ebff;}#sk-container-id-1 div.sk-parallel-item::after {content: \"\";width: 100%;border-bottom: 1px solid gray;flex-grow: 1;}#sk-container-id-1 div.sk-label:hover label.sk-toggleable__label {background-color: #d4ebff;}#sk-container-id-1 div.sk-serial::before {content: \"\";position: absolute;border-left: 1px solid gray;box-sizing: border-box;top: 0;bottom: 0;left: 50%;z-index: 0;}#sk-container-id-1 div.sk-serial {display: flex;flex-direction: column;align-items: center;background-color: white;padding-right: 0.2em;padding-left: 0.2em;position: relative;}#sk-container-id-1 div.sk-item {position: relative;z-index: 1;}#sk-container-id-1 div.sk-parallel {display: flex;align-items: stretch;justify-content: center;background-color: white;position: relative;}#sk-container-id-1 div.sk-item::before, #sk-container-id-1 div.sk-parallel-item::before {content: \"\";position: absolute;border-left: 1px solid gray;box-sizing: border-box;top: 0;bottom: 0;left: 50%;z-index: -1;}#sk-container-id-1 div.sk-parallel-item {display: flex;flex-direction: column;z-index: 1;position: relative;background-color: white;}#sk-container-id-1 div.sk-parallel-item:first-child::after {align-self: flex-end;width: 50%;}#sk-container-id-1 div.sk-parallel-item:last-child::after {align-self: flex-start;width: 50%;}#sk-container-id-1 div.sk-parallel-item:only-child::after {width: 0;}#sk-container-id-1 div.sk-dashed-wrapped {border: 1px dashed gray;margin: 0 0.4em 0.5em 0.4em;box-sizing: border-box;padding-bottom: 0.4em;background-color: white;}#sk-container-id-1 div.sk-label label {font-family: monospace;font-weight: bold;display: inline-block;line-height: 1.2em;}#sk-container-id-1 div.sk-label-container {text-align: center;}#sk-container-id-1 div.sk-container {/* jupyter's `normalize.less` sets `[hidden] { display: none; }` but bootstrap.min.css set `[hidden] { display: none !important; }` so we also need the `!important` here to be able to override the default hidden behavior on the sphinx rendered scikit-learn.org. See: https://github.com/scikit-learn/scikit-learn/issues/21755 */display: inline-block !important;position: relative;}#sk-container-id-1 div.sk-text-repr-fallback {display: none;}</style><div id=\"sk-container-id-1\" class=\"sk-top-container\"><div class=\"sk-text-repr-fallback\"><pre>LinearRegression()</pre><b>In a Jupyter environment, please rerun this cell to show the HTML representation or trust the notebook. <br />On GitHub, the HTML representation is unable to render, please try loading this page with nbviewer.org.</b></div><div class=\"sk-container\" hidden><div class=\"sk-item\"><div class=\"sk-estimator sk-toggleable\"><input class=\"sk-toggleable__control sk-hidden--visually\" id=\"sk-estimator-id-1\" type=\"checkbox\" checked><label for=\"sk-estimator-id-1\" class=\"sk-toggleable__label sk-toggleable__label-arrow\">LinearRegression</label><div class=\"sk-toggleable__content\"><pre>LinearRegression()</pre></div></div></div></div></div>"
      ],
      "text/plain": [
       "LinearRegression()"
      ]
     },
     "execution_count": 5,
     "metadata": {},
     "output_type": "execute_result"
    }
   ],
   "source": [
    "reg = LinearRegression()\n",
    "reg.fit(X_train,y_train)"
   ]
  },
  {
   "cell_type": "code",
   "execution_count": 6,
   "id": "cde39807",
   "metadata": {
    "execution": {
     "iopub.execute_input": "2024-08-28T12:37:44.097991Z",
     "iopub.status.busy": "2024-08-28T12:37:44.097538Z",
     "iopub.status.idle": "2024-08-28T12:37:44.104593Z",
     "shell.execute_reply": "2024-08-28T12:37:44.103482Z"
    },
    "papermill": {
     "duration": 0.016108,
     "end_time": "2024-08-28T12:37:44.106979",
     "exception": false,
     "start_time": "2024-08-28T12:37:44.090871",
     "status": "completed"
    },
    "tags": []
   },
   "outputs": [
    {
     "name": "stdout",
     "output_type": "stream",
     "text": [
      "[  -9.15865318 -205.45432163  516.69374454  340.61999905 -895.5520019\n",
      "  561.22067904  153.89310954  126.73139688  861.12700152   52.42112238]\n",
      "151.88331005254167\n"
     ]
    }
   ],
   "source": [
    "print(reg.coef_)\n",
    "print(reg.intercept_)"
   ]
  },
  {
   "cell_type": "code",
   "execution_count": 7,
   "id": "626e6521",
   "metadata": {
    "execution": {
     "iopub.execute_input": "2024-08-28T12:37:44.119845Z",
     "iopub.status.busy": "2024-08-28T12:37:44.119368Z",
     "iopub.status.idle": "2024-08-28T12:37:44.128321Z",
     "shell.execute_reply": "2024-08-28T12:37:44.127163Z"
    },
    "papermill": {
     "duration": 0.018134,
     "end_time": "2024-08-28T12:37:44.130742",
     "exception": false,
     "start_time": "2024-08-28T12:37:44.112608",
     "status": "completed"
    },
    "tags": []
   },
   "outputs": [
    {
     "data": {
      "text/plain": [
       "0.4399338661568968"
      ]
     },
     "execution_count": 7,
     "metadata": {},
     "output_type": "execute_result"
    }
   ],
   "source": [
    "ypred = reg.predict(X_test)\n",
    "r2_score(y_test,ypred)"
   ]
  },
  {
   "cell_type": "code",
   "execution_count": 8,
   "id": "4bae122c",
   "metadata": {
    "execution": {
     "iopub.execute_input": "2024-08-28T12:37:44.144059Z",
     "iopub.status.busy": "2024-08-28T12:37:44.143641Z",
     "iopub.status.idle": "2024-08-28T12:37:44.155778Z",
     "shell.execute_reply": "2024-08-28T12:37:44.154577Z"
    },
    "papermill": {
     "duration": 0.021971,
     "end_time": "2024-08-28T12:37:44.158542",
     "exception": false,
     "start_time": "2024-08-28T12:37:44.136571",
     "status": "completed"
    },
    "tags": []
   },
   "outputs": [],
   "source": [
    "class MBGDRegressor:\n",
    "    \n",
    "    def __init__(self,batch_size,learning_rate=0.01,epochs=100):\n",
    "        \n",
    "        self.coef_ = None\n",
    "        self.intercept_ = None\n",
    "        self.lr = learning_rate\n",
    "        self.epochs = epochs\n",
    "        self.batch_size = batch_size\n",
    "        \n",
    "    \n",
    "    def fit(self,X_train,y_train):\n",
    "        \n",
    "        self.intercept_ = 0\n",
    "        self.coef_ = np.ones(X_train.shape[1])\n",
    "        \n",
    "        for i in range(self.epochs):\n",
    "            \n",
    "            for j in range(int(X_train.shape[0] / self.batch_size)):\n",
    "                \n",
    "                idx = random.sample(range(X_train.shape[0]),self.batch_size)\n",
    "                \n",
    "                y_hat = np.dot(X_train[idx], self.coef_) + self.intercept_\n",
    "                \n",
    "                intercept_der = -2 * np.mean(y_train[idx] - y_hat)\n",
    "                self.intercept_ = self.intercept_ - (self.lr * intercept_der)\n",
    "                \n",
    "                coef_der = -2 * np.dot((y_train[idx] - y_hat), X_train[idx])\n",
    "                self.coef_ = self.coef_ - (self.lr * coef_der)\n",
    "                \n",
    "        print(self.intercept_,self.coef_)\n",
    "        \n",
    "    def predict(self,X_test):\n",
    "        \n",
    "        return np.dot(X_test,self.coef_) + self.intercept_"
   ]
  },
  {
   "cell_type": "code",
   "execution_count": 9,
   "id": "ef358c71",
   "metadata": {
    "execution": {
     "iopub.execute_input": "2024-08-28T12:37:44.172154Z",
     "iopub.status.busy": "2024-08-28T12:37:44.171318Z",
     "iopub.status.idle": "2024-08-28T12:37:44.177452Z",
     "shell.execute_reply": "2024-08-28T12:37:44.176322Z"
    },
    "papermill": {
     "duration": 0.015501,
     "end_time": "2024-08-28T12:37:44.179885",
     "exception": false,
     "start_time": "2024-08-28T12:37:44.164384",
     "status": "completed"
    },
    "tags": []
   },
   "outputs": [],
   "source": [
    "mbgdr = MBGDRegressor(batch_size=int(X_train.shape[0]/10),learning_rate=0.01,epochs=50)"
   ]
  },
  {
   "cell_type": "code",
   "execution_count": 10,
   "id": "a755936c",
   "metadata": {
    "execution": {
     "iopub.execute_input": "2024-08-28T12:37:44.192904Z",
     "iopub.status.busy": "2024-08-28T12:37:44.192486Z",
     "iopub.status.idle": "2024-08-28T12:37:44.260166Z",
     "shell.execute_reply": "2024-08-28T12:37:44.259014Z"
    },
    "papermill": {
     "duration": 0.077383,
     "end_time": "2024-08-28T12:37:44.262955",
     "exception": false,
     "start_time": "2024-08-28T12:37:44.185572",
     "status": "completed"
    },
    "tags": []
   },
   "outputs": [
    {
     "name": "stdout",
     "output_type": "stream",
     "text": [
      "152.1729973514666 [  52.27448557  -66.67282412  345.1542004   253.19900856   18.73841765\n",
      "  -29.67746189 -163.80523335  121.95673511  319.54410383  140.1902032 ]\n"
     ]
    }
   ],
   "source": [
    "mbgdr.fit(X_train,y_train)"
   ]
  },
  {
   "cell_type": "code",
   "execution_count": 11,
   "id": "cd6e8ceb",
   "metadata": {
    "execution": {
     "iopub.execute_input": "2024-08-28T12:37:44.276915Z",
     "iopub.status.busy": "2024-08-28T12:37:44.276103Z",
     "iopub.status.idle": "2024-08-28T12:37:44.281461Z",
     "shell.execute_reply": "2024-08-28T12:37:44.280251Z"
    },
    "papermill": {
     "duration": 0.015158,
     "end_time": "2024-08-28T12:37:44.283844",
     "exception": false,
     "start_time": "2024-08-28T12:37:44.268686",
     "status": "completed"
    },
    "tags": []
   },
   "outputs": [],
   "source": [
    "ypred = mbgdr.predict(X_test)"
   ]
  },
  {
   "cell_type": "code",
   "execution_count": 12,
   "id": "4dead628",
   "metadata": {
    "execution": {
     "iopub.execute_input": "2024-08-28T12:37:44.297076Z",
     "iopub.status.busy": "2024-08-28T12:37:44.296673Z",
     "iopub.status.idle": "2024-08-28T12:37:44.304796Z",
     "shell.execute_reply": "2024-08-28T12:37:44.303696Z"
    },
    "papermill": {
     "duration": 0.017493,
     "end_time": "2024-08-28T12:37:44.307095",
     "exception": false,
     "start_time": "2024-08-28T12:37:44.289602",
     "status": "completed"
    },
    "tags": []
   },
   "outputs": [
    {
     "data": {
      "text/plain": [
       "0.43231208143648336"
      ]
     },
     "execution_count": 12,
     "metadata": {},
     "output_type": "execute_result"
    }
   ],
   "source": [
    "r2_score(y_test,ypred)"
   ]
  },
  {
   "cell_type": "code",
   "execution_count": null,
   "id": "d733ddc8",
   "metadata": {
    "papermill": {
     "duration": 0.005598,
     "end_time": "2024-08-28T12:37:44.318595",
     "exception": false,
     "start_time": "2024-08-28T12:37:44.312997",
     "status": "completed"
    },
    "tags": []
   },
   "outputs": [],
   "source": []
  }
 ],
 "metadata": {
  "kaggle": {
   "accelerator": "none",
   "dataSources": [],
   "dockerImageVersionId": 30761,
   "isGpuEnabled": false,
   "isInternetEnabled": true,
   "language": "python",
   "sourceType": "notebook"
  },
  "kernelspec": {
   "display_name": "Python 3",
   "language": "python",
   "name": "python3"
  },
  "language_info": {
   "codemirror_mode": {
    "name": "ipython",
    "version": 3
   },
   "file_extension": ".py",
   "mimetype": "text/x-python",
   "name": "python",
   "nbconvert_exporter": "python",
   "pygments_lexer": "ipython3",
   "version": "3.10.14"
  },
  "papermill": {
   "default_parameters": {},
   "duration": 5.424694,
   "end_time": "2024-08-28T12:37:44.847210",
   "environment_variables": {},
   "exception": null,
   "input_path": "__notebook__.ipynb",
   "output_path": "__notebook__.ipynb",
   "parameters": {},
   "start_time": "2024-08-28T12:37:39.422516",
   "version": "2.6.0"
  }
 },
 "nbformat": 4,
 "nbformat_minor": 5
}
