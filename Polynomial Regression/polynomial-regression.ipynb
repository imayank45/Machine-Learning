{
 "cells": [
  {
   "cell_type": "code",
   "execution_count": 1,
   "id": "fac141a6",
   "metadata": {
    "_cell_guid": "b1076dfc-b9ad-4769-8c92-a6c4dae69d19",
    "_uuid": "8f2839f25d086af736a60e9eeb907d3b93b6e0e5",
    "execution": {
     "iopub.execute_input": "2024-08-29T13:51:35.839089Z",
     "iopub.status.busy": "2024-08-29T13:51:35.837928Z",
     "iopub.status.idle": "2024-08-29T13:51:37.473289Z",
     "shell.execute_reply": "2024-08-29T13:51:37.472303Z"
    },
    "papermill": {
     "duration": 1.653438,
     "end_time": "2024-08-29T13:51:37.476072",
     "exception": false,
     "start_time": "2024-08-29T13:51:35.822634",
     "status": "completed"
    },
    "tags": []
   },
   "outputs": [],
   "source": [
    "import numpy as np\n",
    "import matplotlib.pyplot as plt\n",
    "from sklearn.model_selection import train_test_split\n",
    "from sklearn.linear_model import LinearRegression\n",
    "from sklearn.preprocessing import PolynomialFeatures,StandardScaler\n",
    "from sklearn.metrics import r2_score\n",
    "from sklearn.pipeline import Pipeline"
   ]
  },
  {
   "cell_type": "code",
   "execution_count": 2,
   "id": "de89bb93",
   "metadata": {
    "execution": {
     "iopub.execute_input": "2024-08-29T13:51:37.499620Z",
     "iopub.status.busy": "2024-08-29T13:51:37.498520Z",
     "iopub.status.idle": "2024-08-29T13:51:37.504779Z",
     "shell.execute_reply": "2024-08-29T13:51:37.503714Z"
    },
    "papermill": {
     "duration": 0.020691,
     "end_time": "2024-08-29T13:51:37.507278",
     "exception": false,
     "start_time": "2024-08-29T13:51:37.486587",
     "status": "completed"
    },
    "tags": []
   },
   "outputs": [],
   "source": [
    "X = 6 * np.random.rand(200,1) - 3\n",
    "y = 0.8 * X**2 + 0.9 * X + np.random.randn(200,1)\n"
   ]
  },
  {
   "cell_type": "code",
   "execution_count": 3,
   "id": "257314ab",
   "metadata": {
    "execution": {
     "iopub.execute_input": "2024-08-29T13:51:37.528425Z",
     "iopub.status.busy": "2024-08-29T13:51:37.527956Z",
     "iopub.status.idle": "2024-08-29T13:51:37.842096Z",
     "shell.execute_reply": "2024-08-29T13:51:37.840856Z"
    },
    "papermill": {
     "duration": 0.327924,
     "end_time": "2024-08-29T13:51:37.844855",
     "exception": false,
     "start_time": "2024-08-29T13:51:37.516931",
     "status": "completed"
    },
    "tags": []
   },
   "outputs": [
    {
     "data": {
      "text/plain": [
       "[<matplotlib.lines.Line2D at 0x7f4311801540>]"
      ]
     },
     "execution_count": 3,
     "metadata": {},
     "output_type": "execute_result"
    },
    {
     "data": {
      "image/png": "[encoded data removed]",
      "text/plain": [
       "<Figure size 640x480 with 1 Axes>"
      ]
     },
     "metadata": {},
     "output_type": "display_data"
    }
   ],
   "source": [
    "plt.plot(X,y,'b.')"
   ]
  },
  {
   "cell_type": "code",
   "execution_count": 4,
   "id": "aa9bd4fa",
   "metadata": {
    "execution": {
     "iopub.execute_input": "2024-08-29T13:51:37.867959Z",
     "iopub.status.busy": "2024-08-29T13:51:37.867541Z",
     "iopub.status.idle": "2024-08-29T13:51:37.876038Z",
     "shell.execute_reply": "2024-08-29T13:51:37.874855Z"
    },
    "papermill": {
     "duration": 0.023353,
     "end_time": "2024-08-29T13:51:37.878613",
     "exception": false,
     "start_time": "2024-08-29T13:51:37.855260",
     "status": "completed"
    },
    "tags": []
   },
   "outputs": [],
   "source": [
    "X_train,X_test,y_train,y_test = train_test_split(X,y,test_size=0.2,random_state=2)"
   ]
  },
  {
   "cell_type": "code",
   "execution_count": 5,
   "id": "4efc3d7f",
   "metadata": {
    "execution": {
     "iopub.execute_input": "2024-08-29T13:51:37.901634Z",
     "iopub.status.busy": "2024-08-29T13:51:37.901099Z",
     "iopub.status.idle": "2024-08-29T13:51:37.906844Z",
     "shell.execute_reply": "2024-08-29T13:51:37.905537Z"
    },
    "papermill": {
     "duration": 0.020287,
     "end_time": "2024-08-29T13:51:37.909383",
     "exception": false,
     "start_time": "2024-08-29T13:51:37.889096",
     "status": "completed"
    },
    "tags": []
   },
   "outputs": [],
   "source": [
    "lr = LinearRegression()"
   ]
  },
  {
   "cell_type": "code",
   "execution_count": 6,
   "id": "de50107c",
   "metadata": {
    "execution": {
     "iopub.execute_input": "2024-08-29T13:51:37.931763Z",
     "iopub.status.busy": "2024-08-29T13:51:37.931316Z",
     "iopub.status.idle": "2024-08-29T13:51:37.954789Z",
     "shell.execute_reply": "2024-08-29T13:51:37.953576Z"
    },
    "papermill": {
     "duration": 0.037699,
     "end_time": "2024-08-29T13:51:37.957410",
     "exception": false,
     "start_time": "2024-08-29T13:51:37.919711",
     "status": "completed"
    },
    "tags": []
   },
   "outputs": [
    {
     "data": {
      "text/html": [
       "<style>#sk-container-id-1 {color: black;background-color: white;}#sk-container-id-1 pre{padding: 0;}#sk-container-id-1 div.sk-toggleable {background-color: white;}#sk-container-id-1 label.sk-toggleable__label {cursor: pointer;display: block;width: 100%;margin-bottom: 0;padding: 0.3em;box-sizing: border-box;text-align: center;}#sk-container-id-1 label.sk-toggleable__label-arrow:before {content: \"▸\";float: left;margin-right: 0.25em;color: #696969;}#sk-container-id-1 label.sk-toggleable__label-arrow:hover:before {color: black;}#sk-container-id-1 div.sk-estimator:hover label.sk-toggleable__label-arrow:before {color: black;}#sk-container-id-1 div.sk-toggleable__content {max-height: 0;max-width: 0;overflow: hidden;text-align: left;background-color: #f0f8ff;}#sk-container-id-1 div.sk-toggleable__content pre {margin: 0.2em;color: black;border-radius: 0.25em;background-color: #f0f8ff;}#sk-container-id-1 input.sk-toggleable__control:checked~div.sk-toggleable__content {max-height: 200px;max-width: 100%;overflow: auto;}#sk-container-id-1 input.sk-toggleable__control:checked~label.sk-toggleable__label-arrow:before {content: \"▾\";}#sk-container-id-1 div.sk-estimator input.sk-toggleable__control:checked~label.sk-toggleable__label {background-color: #d4ebff;}#sk-container-id-1 div.sk-label input.sk-toggleable__control:checked~label.sk-toggleable__label {background-color: #d4ebff;}#sk-container-id-1 input.sk-hidden--visually {border: 0;clip: rect(1px 1px 1px 1px);clip: rect(1px, 1px, 1px, 1px);height: 1px;margin: -1px;overflow: hidden;padding: 0;position: absolute;width: 1px;}#sk-container-id-1 div.sk-estimator {font-family: monospace;background-color: #f0f8ff;border: 1px dotted black;border-radius: 0.25em;box-sizing: border-box;margin-bottom: 0.5em;}#sk-container-id-1 div.sk-estimator:hover {background-color: #d4ebff;}#sk-container-id-1 div.sk-parallel-item::after {content: \"\";width: 100%;border-bottom: 1px solid gray;flex-grow: 1;}#sk-container-id-1 div.sk-label:hover label.sk-toggleable__label {background-color: #d4ebff;}#sk-container-id-1 div.sk-serial::before {content: \"\";position: absolute;border-left: 1px solid gray;box-sizing: border-box;top: 0;bottom: 0;left: 50%;z-index: 0;}#sk-container-id-1 div.sk-serial {display: flex;flex-direction: column;align-items: center;background-color: white;padding-right: 0.2em;padding-left: 0.2em;position: relative;}#sk-container-id-1 div.sk-item {position: relative;z-index: 1;}#sk-container-id-1 div.sk-parallel {display: flex;align-items: stretch;justify-content: center;background-color: white;position: relative;}#sk-container-id-1 div.sk-item::before, #sk-container-id-1 div.sk-parallel-item::before {content: \"\";position: absolute;border-left: 1px solid gray;box-sizing: border-box;top: 0;bottom: 0;left: 50%;z-index: -1;}#sk-container-id-1 div.sk-parallel-item {display: flex;flex-direction: column;z-index: 1;position: relative;background-color: white;}#sk-container-id-1 div.sk-parallel-item:first-child::after {align-self: flex-end;width: 50%;}#sk-container-id-1 div.sk-parallel-item:last-child::after {align-self: flex-start;width: 50%;}#sk-container-id-1 div.sk-parallel-item:only-child::after {width: 0;}#sk-container-id-1 div.sk-dashed-wrapped {border: 1px dashed gray;margin: 0 0.4em 0.5em 0.4em;box-sizing: border-box;padding-bottom: 0.4em;background-color: white;}#sk-container-id-1 div.sk-label label {font-family: monospace;font-weight: bold;display: inline-block;line-height: 1.2em;}#sk-container-id-1 div.sk-label-container {text-align: center;}#sk-container-id-1 div.sk-container {/* jupyter's `normalize.less` sets `[hidden] { display: none; }` but bootstrap.min.css set `[hidden] { display: none !important; }` so we also need the `!important` here to be able to override the default hidden behavior on the sphinx rendered scikit-learn.org. See: https://github.com/scikit-learn/scikit-learn/issues/21755 */display: inline-block !important;position: relative;}#sk-container-id-1 div.sk-text-repr-fallback {display: none;}</style><div id=\"sk-container-id-1\" class=\"sk-top-container\"><div class=\"sk-text-repr-fallback\"><pre>LinearRegression()</pre><b>In a Jupyter environment, please rerun this cell to show the HTML representation or trust the notebook. <br />On GitHub, the HTML representation is unable to render, please try loading this page with nbviewer.org.</b></div><div class=\"sk-container\" hidden><div class=\"sk-item\"><div class=\"sk-estimator sk-toggleable\"><input class=\"sk-toggleable__control sk-hidden--visually\" id=\"sk-estimator-id-1\" type=\"checkbox\" checked><label for=\"sk-estimator-id-1\" class=\"sk-toggleable__label sk-toggleable__label-arrow\">LinearRegression</label><div class=\"sk-toggleable__content\"><pre>LinearRegression()</pre></div></div></div></div></div>"
      ],
      "text/plain": [
       "LinearRegression()"
      ]
     },
     "execution_count": 6,
     "metadata": {},
     "output_type": "execute_result"
    }
   ],
   "source": [
    "lr.fit(X_train,y_train)"
   ]
  },
  {
   "cell_type": "code",
   "execution_count": 7,
   "id": "04db31e2",
   "metadata": {
    "execution": {
     "iopub.execute_input": "2024-08-29T13:51:37.980866Z",
     "iopub.status.busy": "2024-08-29T13:51:37.980405Z",
     "iopub.status.idle": "2024-08-29T13:51:37.991326Z",
     "shell.execute_reply": "2024-08-29T13:51:37.990112Z"
    },
    "papermill": {
     "duration": 0.025644,
     "end_time": "2024-08-29T13:51:37.993756",
     "exception": false,
     "start_time": "2024-08-29T13:51:37.968112",
     "status": "completed"
    },
    "tags": []
   },
   "outputs": [
    {
     "data": {
      "text/plain": [
       "0.4180175329499156"
      ]
     },
     "execution_count": 7,
     "metadata": {},
     "output_type": "execute_result"
    }
   ],
   "source": [
    "ypred = lr.predict(X_test)\n",
    "r2_score(y_test,ypred)"
   ]
  },
  {
   "cell_type": "markdown",
   "id": "6888d346",
   "metadata": {
    "papermill": {
     "duration": 0.011045,
     "end_time": "2024-08-29T13:51:38.016429",
     "exception": false,
     "start_time": "2024-08-29T13:51:38.005384",
     "status": "completed"
    },
    "tags": []
   },
   "source": [
    "# Result before applying Polynomial Regression"
   ]
  },
  {
   "cell_type": "code",
   "execution_count": 8,
   "id": "e7e3f50f",
   "metadata": {
    "execution": {
     "iopub.execute_input": "2024-08-29T13:51:38.039736Z",
     "iopub.status.busy": "2024-08-29T13:51:38.039265Z",
     "iopub.status.idle": "2024-08-29T13:51:38.324957Z",
     "shell.execute_reply": "2024-08-29T13:51:38.323771Z"
    },
    "papermill": {
     "duration": 0.300415,
     "end_time": "2024-08-29T13:51:38.327372",
     "exception": false,
     "start_time": "2024-08-29T13:51:38.026957",
     "status": "completed"
    },
    "tags": []
   },
   "outputs": [
    {
     "data": {
      "text/plain": [
       "[<matplotlib.lines.Line2D at 0x7f430f6f9930>]"
      ]
     },
     "execution_count": 8,
     "metadata": {},
     "output_type": "execute_result"
    },
    {
     "data": {
      "image/png": "[encoded data removed]",
      "text/plain": [
       "<Figure size 640x480 with 1 Axes>"
      ]
     },
     "metadata": {},
     "output_type": "display_data"
    }
   ],
   "source": [
    "plt.plot(X_train,lr.predict(X_train),color='g')\n",
    "plt.plot(X,y,'b.')"
   ]
  },
  {
   "cell_type": "markdown",
   "id": "adb5c0ad",
   "metadata": {
    "papermill": {
     "duration": 0.011015,
     "end_time": "2024-08-29T13:51:38.349739",
     "exception": false,
     "start_time": "2024-08-29T13:51:38.338724",
     "status": "completed"
    },
    "tags": []
   },
   "source": [
    "# Result after applying Polynomial Regression"
   ]
  },
  {
   "cell_type": "code",
   "execution_count": 9,
   "id": "83fe897e",
   "metadata": {
    "execution": {
     "iopub.execute_input": "2024-08-29T13:51:38.374861Z",
     "iopub.status.busy": "2024-08-29T13:51:38.374420Z",
     "iopub.status.idle": "2024-08-29T13:51:38.381258Z",
     "shell.execute_reply": "2024-08-29T13:51:38.380029Z"
    },
    "papermill": {
     "duration": 0.022126,
     "end_time": "2024-08-29T13:51:38.383667",
     "exception": false,
     "start_time": "2024-08-29T13:51:38.361541",
     "status": "completed"
    },
    "tags": []
   },
   "outputs": [],
   "source": [
    "# applying polynomial regression with degree 2\n",
    "poly = PolynomialFeatures(degree=2)\n",
    "X_train_trans = poly.fit_transform(X_train)\n",
    "X_test_trans = poly.transform(X_test)"
   ]
  },
  {
   "cell_type": "code",
   "execution_count": 10,
   "id": "140b3ae5",
   "metadata": {
    "execution": {
     "iopub.execute_input": "2024-08-29T13:51:38.409016Z",
     "iopub.status.busy": "2024-08-29T13:51:38.408574Z",
     "iopub.status.idle": "2024-08-29T13:51:38.415360Z",
     "shell.execute_reply": "2024-08-29T13:51:38.414134Z"
    },
    "papermill": {
     "duration": 0.022802,
     "end_time": "2024-08-29T13:51:38.418377",
     "exception": false,
     "start_time": "2024-08-29T13:51:38.395575",
     "status": "completed"
    },
    "tags": []
   },
   "outputs": [
    {
     "name": "stdout",
     "output_type": "stream",
     "text": [
      "[-2.81575978]\n",
      "[ 1.         -2.81575978  7.92850316]\n"
     ]
    }
   ],
   "source": [
    "print(X_train[0])\n",
    "print(X_train_trans[0])"
   ]
  },
  {
   "cell_type": "code",
   "execution_count": 11,
   "id": "aa107b09",
   "metadata": {
    "execution": {
     "iopub.execute_input": "2024-08-29T13:51:38.443644Z",
     "iopub.status.busy": "2024-08-29T13:51:38.443208Z",
     "iopub.status.idle": "2024-08-29T13:51:38.461197Z",
     "shell.execute_reply": "2024-08-29T13:51:38.459871Z"
    },
    "papermill": {
     "duration": 0.033999,
     "end_time": "2024-08-29T13:51:38.464070",
     "exception": false,
     "start_time": "2024-08-29T13:51:38.430071",
     "status": "completed"
    },
    "tags": []
   },
   "outputs": [
    {
     "data": {
      "text/html": [
       "<style>#sk-container-id-2 {color: black;background-color: white;}#sk-container-id-2 pre{padding: 0;}#sk-container-id-2 div.sk-toggleable {background-color: white;}#sk-container-id-2 label.sk-toggleable__label {cursor: pointer;display: block;width: 100%;margin-bottom: 0;padding: 0.3em;box-sizing: border-box;text-align: center;}#sk-container-id-2 label.sk-toggleable__label-arrow:before {content: \"▸\";float: left;margin-right: 0.25em;color: #696969;}#sk-container-id-2 label.sk-toggleable__label-arrow:hover:before {color: black;}#sk-container-id-2 div.sk-estimator:hover label.sk-toggleable__label-arrow:before {color: black;}#sk-container-id-2 div.sk-toggleable__content {max-height: 0;max-width: 0;overflow: hidden;text-align: left;background-color: #f0f8ff;}#sk-container-id-2 div.sk-toggleable__content pre {margin: 0.2em;color: black;border-radius: 0.25em;background-color: #f0f8ff;}#sk-container-id-2 input.sk-toggleable__control:checked~div.sk-toggleable__content {max-height: 200px;max-width: 100%;overflow: auto;}#sk-container-id-2 input.sk-toggleable__control:checked~label.sk-toggleable__label-arrow:before {content: \"▾\";}#sk-container-id-2 div.sk-estimator input.sk-toggleable__control:checked~label.sk-toggleable__label {background-color: #d4ebff;}#sk-container-id-2 div.sk-label input.sk-toggleable__control:checked~label.sk-toggleable__label {background-color: #d4ebff;}#sk-container-id-2 input.sk-hidden--visually {border: 0;clip: rect(1px 1px 1px 1px);clip: rect(1px, 1px, 1px, 1px);height: 1px;margin: -1px;overflow: hidden;padding: 0;position: absolute;width: 1px;}#sk-container-id-2 div.sk-estimator {font-family: monospace;background-color: #f0f8ff;border: 1px dotted black;border-radius: 0.25em;box-sizing: border-box;margin-bottom: 0.5em;}#sk-container-id-2 div.sk-estimator:hover {background-color: #d4ebff;}#sk-container-id-2 div.sk-parallel-item::after {content: \"\";width: 100%;border-bottom: 1px solid gray;flex-grow: 1;}#sk-container-id-2 div.sk-label:hover label.sk-toggleable__label {background-color: #d4ebff;}#sk-container-id-2 div.sk-serial::before {content: \"\";position: absolute;border-left: 1px solid gray;box-sizing: border-box;top: 0;bottom: 0;left: 50%;z-index: 0;}#sk-container-id-2 div.sk-serial {display: flex;flex-direction: column;align-items: center;background-color: white;padding-right: 0.2em;padding-left: 0.2em;position: relative;}#sk-container-id-2 div.sk-item {position: relative;z-index: 1;}#sk-container-id-2 div.sk-parallel {display: flex;align-items: stretch;justify-content: center;background-color: white;position: relative;}#sk-container-id-2 div.sk-item::before, #sk-container-id-2 div.sk-parallel-item::before {content: \"\";position: absolute;border-left: 1px solid gray;box-sizing: border-box;top: 0;bottom: 0;left: 50%;z-index: -1;}#sk-container-id-2 div.sk-parallel-item {display: flex;flex-direction: column;z-index: 1;position: relative;background-color: white;}#sk-container-id-2 div.sk-parallel-item:first-child::after {align-self: flex-end;width: 50%;}#sk-container-id-2 div.sk-parallel-item:last-child::after {align-self: flex-start;width: 50%;}#sk-container-id-2 div.sk-parallel-item:only-child::after {width: 0;}#sk-container-id-2 div.sk-dashed-wrapped {border: 1px dashed gray;margin: 0 0.4em 0.5em 0.4em;box-sizing: border-box;padding-bottom: 0.4em;background-color: white;}#sk-container-id-2 div.sk-label label {font-family: monospace;font-weight: bold;display: inline-block;line-height: 1.2em;}#sk-container-id-2 div.sk-label-container {text-align: center;}#sk-container-id-2 div.sk-container {/* jupyter's `normalize.less` sets `[hidden] { display: none; }` but bootstrap.min.css set `[hidden] { display: none !important; }` so we also need the `!important` here to be able to override the default hidden behavior on the sphinx rendered scikit-learn.org. See: https://github.com/scikit-learn/scikit-learn/issues/21755 */display: inline-block !important;position: relative;}#sk-container-id-2 div.sk-text-repr-fallback {display: none;}</style><div id=\"sk-container-id-2\" class=\"sk-top-container\"><div class=\"sk-text-repr-fallback\"><pre>LinearRegression()</pre><b>In a Jupyter environment, please rerun this cell to show the HTML representation or trust the notebook. <br />On GitHub, the HTML representation is unable to render, please try loading this page with nbviewer.org.</b></div><div class=\"sk-container\" hidden><div class=\"sk-item\"><div class=\"sk-estimator sk-toggleable\"><input class=\"sk-toggleable__control sk-hidden--visually\" id=\"sk-estimator-id-2\" type=\"checkbox\" checked><label for=\"sk-estimator-id-2\" class=\"sk-toggleable__label sk-toggleable__label-arrow\">LinearRegression</label><div class=\"sk-toggleable__content\"><pre>LinearRegression()</pre></div></div></div></div></div>"
      ],
      "text/plain": [
       "LinearRegression()"
      ]
     },
     "execution_count": 11,
     "metadata": {},
     "output_type": "execute_result"
    }
   ],
   "source": [
    "lr = LinearRegression()\n",
    "lr.fit(X_train_trans,y_train)"
   ]
  },
  {
   "cell_type": "code",
   "execution_count": 12,
   "id": "05675d10",
   "metadata": {
    "execution": {
     "iopub.execute_input": "2024-08-29T13:51:38.489898Z",
     "iopub.status.busy": "2024-08-29T13:51:38.489368Z",
     "iopub.status.idle": "2024-08-29T13:51:38.499373Z",
     "shell.execute_reply": "2024-08-29T13:51:38.498229Z"
    },
    "papermill": {
     "duration": 0.025963,
     "end_time": "2024-08-29T13:51:38.501940",
     "exception": false,
     "start_time": "2024-08-29T13:51:38.475977",
     "status": "completed"
    },
    "tags": []
   },
   "outputs": [
    {
     "data": {
      "text/plain": [
       "0.9086705724126464"
      ]
     },
     "execution_count": 12,
     "metadata": {},
     "output_type": "execute_result"
    }
   ],
   "source": [
    "ypred = lr.predict(X_test_trans)\n",
    "r2_score(y_test,ypred)"
   ]
  },
  {
   "cell_type": "code",
   "execution_count": 13,
   "id": "b8545a27",
   "metadata": {
    "execution": {
     "iopub.execute_input": "2024-08-29T13:51:38.527871Z",
     "iopub.status.busy": "2024-08-29T13:51:38.527363Z",
     "iopub.status.idle": "2024-08-29T13:51:38.533919Z",
     "shell.execute_reply": "2024-08-29T13:51:38.532774Z"
    },
    "papermill": {
     "duration": 0.022786,
     "end_time": "2024-08-29T13:51:38.536555",
     "exception": false,
     "start_time": "2024-08-29T13:51:38.513769",
     "status": "completed"
    },
    "tags": []
   },
   "outputs": [
    {
     "name": "stdout",
     "output_type": "stream",
     "text": [
      "[[0.         0.93770119 0.77698563]]\n"
     ]
    }
   ],
   "source": [
    "print(lr.coef_)"
   ]
  },
  {
   "cell_type": "code",
   "execution_count": 14,
   "id": "21c3ac8d",
   "metadata": {
    "execution": {
     "iopub.execute_input": "2024-08-29T13:51:38.562115Z",
     "iopub.status.busy": "2024-08-29T13:51:38.561696Z",
     "iopub.status.idle": "2024-08-29T13:51:38.569224Z",
     "shell.execute_reply": "2024-08-29T13:51:38.568087Z"
    },
    "papermill": {
     "duration": 0.023072,
     "end_time": "2024-08-29T13:51:38.571628",
     "exception": false,
     "start_time": "2024-08-29T13:51:38.548556",
     "status": "completed"
    },
    "tags": []
   },
   "outputs": [
    {
     "data": {
      "text/plain": [
       "array([0.10082111])"
      ]
     },
     "execution_count": 14,
     "metadata": {},
     "output_type": "execute_result"
    }
   ],
   "source": [
    "lr.intercept_"
   ]
  },
  {
   "cell_type": "code",
   "execution_count": 15,
   "id": "ebbb3346",
   "metadata": {
    "execution": {
     "iopub.execute_input": "2024-08-29T13:51:38.598136Z",
     "iopub.status.busy": "2024-08-29T13:51:38.597725Z",
     "iopub.status.idle": "2024-08-29T13:51:38.604495Z",
     "shell.execute_reply": "2024-08-29T13:51:38.603251Z"
    },
    "papermill": {
     "duration": 0.023048,
     "end_time": "2024-08-29T13:51:38.606973",
     "exception": false,
     "start_time": "2024-08-29T13:51:38.583925",
     "status": "completed"
    },
    "tags": []
   },
   "outputs": [],
   "source": [
    "X_new = np.linspace(-3,3,200).reshape(200,1)\n",
    "X_new_poly = poly.transform(X_new)\n",
    "y_new = lr.predict(X_new_poly)"
   ]
  },
  {
   "cell_type": "code",
   "execution_count": 16,
   "id": "c3a7c9a9",
   "metadata": {
    "execution": {
     "iopub.execute_input": "2024-08-29T13:51:38.632741Z",
     "iopub.status.busy": "2024-08-29T13:51:38.632263Z",
     "iopub.status.idle": "2024-08-29T13:51:38.927232Z",
     "shell.execute_reply": "2024-08-29T13:51:38.925928Z"
    },
    "papermill": {
     "duration": 0.311248,
     "end_time": "2024-08-29T13:51:38.930068",
     "exception": false,
     "start_time": "2024-08-29T13:51:38.618820",
     "status": "completed"
    },
    "tags": []
   },
   "outputs": [
    {
     "data": {
      "image/png": "[encoded data removed]",
      "text/plain": [
       "<Figure size 640x480 with 1 Axes>"
      ]
     },
     "metadata": {},
     "output_type": "display_data"
    }
   ],
   "source": [
    "plt.plot(X_new,y_new,'r-',linewidth=2,label='Predictions')\n",
    "plt.plot(X_train,y_train,'b.',label='Training Points')\n",
    "plt.plot(X_test,y_test,'g.',label='Testing Points')\n",
    "plt.xlabel('X')\n",
    "plt.ylabel('Y')\n",
    "plt.legend()\n",
    "plt.show()"
   ]
  },
  {
   "cell_type": "markdown",
   "id": "e6c2d268",
   "metadata": {
    "papermill": {
     "duration": 0.012414,
     "end_time": "2024-08-29T13:51:38.955275",
     "exception": false,
     "start_time": "2024-08-29T13:51:38.942861",
     "status": "completed"
    },
    "tags": []
   },
   "source": [
    "# Multiple Polynomial Regression"
   ]
  },
  {
   "cell_type": "code",
   "execution_count": 17,
   "id": "652203eb",
   "metadata": {
    "execution": {
     "iopub.execute_input": "2024-08-29T13:51:38.983077Z",
     "iopub.status.busy": "2024-08-29T13:51:38.982581Z",
     "iopub.status.idle": "2024-08-29T13:51:38.989581Z",
     "shell.execute_reply": "2024-08-29T13:51:38.988396Z"
    },
    "papermill": {
     "duration": 0.023595,
     "end_time": "2024-08-29T13:51:38.992079",
     "exception": false,
     "start_time": "2024-08-29T13:51:38.968484",
     "status": "completed"
    },
    "tags": []
   },
   "outputs": [],
   "source": [
    "x = 7 * np.random.rand(100,1) - 2.8\n",
    "y = 7 * np.random.rand(100,1) - 2.8\n",
    "\n",
    "z = x**2 + y**2 + 0.2*x + 0.2*y + 0.1*x*y + 2 + np.random.randn(100,1)"
   ]
  },
  {
   "cell_type": "code",
   "execution_count": 18,
   "id": "75ef2757",
   "metadata": {
    "execution": {
     "iopub.execute_input": "2024-08-29T13:51:39.021487Z",
     "iopub.status.busy": "2024-08-29T13:51:39.020710Z",
     "iopub.status.idle": "2024-08-29T13:51:42.386302Z",
     "shell.execute_reply": "2024-08-29T13:51:42.385151Z"
    },
    "papermill": {
     "duration": 3.382438,
     "end_time": "2024-08-29T13:51:42.388965",
     "exception": false,
     "start_time": "2024-08-29T13:51:39.006527",
     "status": "completed"
    },
    "tags": []
   },
   "outputs": [
    {
     "data": {
      "text/html": [
       "        <script type=\"text/javascript\">\n",
       "        window.PlotlyConfig = {MathJaxConfig: 'local'};\n",
       "        if (window.MathJax && window.MathJax.Hub && window.MathJax.Hub.Config) {window.MathJax.Hub.Config({SVG: {font: \"STIX-Web\"}});}\n",
       "        if (typeof require !== 'undefined') {\n",
       "        require.undef(\"plotly\");\n",
       "        requirejs.config({\n",
       "            paths: {\n",
       "                'plotly': ['https://cdn.plot.ly/plotly-2.32.0.min']\n",
       "            }\n",
       "        });\n",
       "        require(['plotly'], function(Plotly) {\n",
       "            window._Plotly = Plotly;\n",
       "        });\n",
       "        }\n",
       "        </script>\n",
       "        "
      ]
     },
     "metadata": {},
     "output_type": "display_data"
    },
    {
     "data": {
      "text/html": [
       "<div>                            <div id=\"b00d64bd-1d6f-44bd-8cf8-b0edd5d44635\" class=\"plotly-graph-div\" style=\"height:525px; width:100%;\"></div>            <script type=\"text/javascript\">                require([\"plotly\"], function(Plotly) {                    window.PLOTLYENV=window.PLOTLYENV || {};                                    if (document.getElementById(\"b00d64bd-1d6f-44bd-8cf8-b0edd5d44635\")) {                    Plotly.newPlot(                        \"b00d64bd-1d6f-44bd-8cf8-b0edd5d44635\",                        [{\"hovertemplate\":\"x=%{x}\\u003cbr\\u003ey=%{y}\\u003cbr\\u003ez=%{z}\\u003cextra\\u003e\\u003c\\u002fextra\\u003e\",\"legendgroup\":\"\",\"marker\":{\"color\":\"#636efa\",\"symbol\":\"circle\"},\"mode\":\"markers\",\"name\":\"\",\"scene\":\"scene\",\"showlegend\":false,\"x\":[-1.760225631225361,-1.448149656557982,2.9668658067008646,-0.2714010420910502,0.43303169338673175,1.2548616364209026,0.28413805092476574,3.050948817254744,0.19232271279674684,3.4985037428074666,-1.796416086496944,0.8616467797726362,-1.6472508251004547,-1.2231454148926202,0.6944821771980121,2.7213601832664756,-0.5082462581703129,-2.59956293145433,4.152225841599308,-2.394088617251856,2.478225749537928,3.8300653545627794,2.6988952836230906,-2.4384403791194282,3.596274375634093,-0.07646269551570217,-1.4517635623970109,-2.0199447922019504,2.9854956717174366,1.154547631851913,2.8509155319527757,0.5826747670755328,3.288850990617152,1.0455872928626504,0.8145599542837614,-1.2705872590484883,-1.987859669565169,3.399604382420465,0.09900426084652914,-2.4368676430976812,-2.3022584875350836,3.867463878129276,2.141018950571085,3.9667422378745583,-0.9894291668038273,1.4970788972803852,0.1650673599972885,1.9807084130086698,-0.1488060906985358,-0.9297431743110538,4.122653588845438,0.1421126058939861,-2.5987939788671817,3.7039070680389985,1.047096254829318,3.7889666158104625,-1.205875181652571,2.234835751889099,3.6846889112903476,3.473735163135216,3.4841920776719286,-1.6261890614882142,2.399923518890289,1.2298275024528218,-0.6770226280937672,1.8997549629399906,-0.024477845517100416,-2.6667859217355967,-1.4695191749571963,0.09761747535655108,0.7402534229331481,3.4510794999520726,2.0168593637936363,3.8815310572752013,-0.12216959323993537,-1.3713635742791435,-1.3370176317408031,-0.3278238225689485,-0.5878512413651182,-0.8994229290523637,-0.8283424587860542,-2.2812718654544177,3.933956482423076,-1.7133306306427312,1.1789628760029336,2.3205044284831153,3.873487527613472,0.8039395783959975,2.067721370084887,-1.6231909562015316,-1.019624571191406,-0.04467906998660709,-1.5655598244323001,0.2620335726123906,2.5714087889734722,-2.727855667054539,-0.6188513201693797,2.5409611008289863,0.7612325485138669,2.5615159018384768],\"y\":[-0.5334687819299582,1.5192409954605894,3.5206129775079216,-0.12932572107950602,1.2697486070449608,-2.4709350803200487,-1.294181850681073,3.337900153648225,0.5671851121267064,-2.5872477289797557,-0.40386010882835954,4.081030761696863,2.962230162467046,1.0811339311830674,-2.600789840622206,2.126195181467966,2.446198764963322,2.057013794873712,3.5079431995687287,2.8844660554941752,2.080913499886898,-0.7871375644878267,-0.8101776755183963,1.870281654679169,2.171676882036633,1.765438149405833,4.1989090232456565,-0.7101700741340009,-2.515461471134082,1.885688431368794,-0.8657904111630526,-1.349372244728892,-2.0559304077976104,-0.08183394125488519,4.172545485064867,-2.7712744215818406,1.189677257339362,0.34612774092618714,2.4609649327070438,0.1547645936778279,-1.692449726502482,-1.747276419162201,1.1478659732574794,2.2815573392477004,-2.148342292532101,3.5280113886292916,2.5159789836511415,2.2650664570322165,1.8104606006998427,1.853900762532363,2.1150212775619934,3.0631391080294668,-2.53638093964906,1.2388432603770125,-1.8132814719479469,2.177718606847473,-2.603183786852248,3.4441278970011657,-1.2400201367773915,2.5731636133559554,0.4655996088589216,-2.4466356810894245,-0.909944201063714,-0.5768895039544137,0.2341966222198919,2.6122293206526948,0.8803942547575319,1.846456945067981,-0.3000893945153962,-1.722588033165188,1.8305766051078622,0.7749228786954054,1.754826937732087,1.5997944561502617,-2.2451858837099685,1.380721791751343,-0.6525077835418913,3.219196908790786,1.2194991222223317,2.355231011353614,-2.0800419988052363,1.4794193818504633,-1.5030004630292042,0.2726152887704729,-1.6278860153213746,2.4880970808536853,2.7200636581072164,-0.4872890758447568,-0.46173152466636846,1.4062613500476866,-0.9088938013513104,-2.598311953653628,1.4499939416667011,-0.12094513014876007,0.45955200564294163,0.9956827813746227,0.7915590892330822,-2.703047065082769,-1.8726139837791314,-1.5989566401909068],\"z\":[5.9461274705810006,3.6831686998047526,26.01061665926045,2.2834305810777438,2.3957299893853574,10.087925155207074,2.7942296843602916,25.476290866239665,1.971694666759668,20.484134681351275,1.3932099529756812,21.925196647372992,13.498594667627106,5.607227441961095,9.374625576947997,14.96490920541364,9.5207804250256,12.37815123789183,33.28891268499109,17.019650101402423,15.030424895933642,17.147837081258142,9.451008721967034,9.086476008426793,20.478279147602656,5.4739676116373275,21.835197733976344,6.053174262058687,17.961405705483063,7.8717933259975865,11.205650728314577,4.738673193542784,15.190357568406817,3.3051167667647166,22.06867205169344,10.695042043790592,6.949480003191547,14.770180135139206,8.87113019251995,8.51917456256792,9.650632816948866,17.40793139038144,8.000842381122357,26.45384011019763,6.882833300248797,19.71309608665498,9.281923757659637,12.319126403693852,5.537494078414404,5.928342278937544,24.781352403465185,13.810620758388998,13.740569604109275,16.497731024082892,4.643124167752065,20.41808931647804,9.899420838062511,21.043368750847293,16.821767639438214,22.409175145763424,14.198922455556485,9.33146624060223,8.817594026312602,4.427019411162091,3.662273597948394,12.360490181727386,2.7205061120374507,11.787900778428854,5.653307500823965,5.9617628108823135,6.994334219291697,16.286652146598094,8.460654430015605,21.620713505703073,7.247510425372759,7.254560769642984,3.216669195152671,13.972259810180061,4.4284429595806225,8.225964915335089,5.800386719316308,8.129152492545368,17.971026355731375,4.161420509580939,5.787840142307464,15.84233212308939,26.60381415633448,2.420343605965238,7.169916676488823,5.833554245020605,3.1409767342539974,8.21900331378036,6.424541983401201,1.7667785836048355,9.193396008632948,10.568290580672643,3.04997071746599,14.278285109625934,5.462090836409904,8.766512538161939],\"type\":\"scatter3d\"}],                        {\"template\":{\"data\":{\"histogram2dcontour\":[{\"type\":\"histogram2dcontour\",\"colorbar\":{\"outlinewidth\":0,\"ticks\":\"\"},\"colorscale\":[[0.0,\"#0d0887\"],[0.1111111111111111,\"#46039f\"],[0.2222222222222222,\"#7201a8\"],[0.3333333333333333,\"#9c179e\"],[0.4444444444444444,\"#bd3786\"],[0.5555555555555556,\"#d8576b\"],[0.6666666666666666,\"#ed7953\"],[0.7777777777777778,\"#fb9f3a\"],[0.8888888888888888,\"#fdca26\"],[1.0,\"#f0f921\"]]}],\"choropleth\":[{\"type\":\"choropleth\",\"colorbar\":{\"outlinewidth\":0,\"ticks\":\"\"}}],\"histogram2d\":[{\"type\":\"histogram2d\",\"colorbar\":{\"outlinewidth\":0,\"ticks\":\"\"},\"colorscale\":[[0.0,\"#0d0887\"],[0.1111111111111111,\"#46039f\"],[0.2222222222222222,\"#7201a8\"],[0.3333333333333333,\"#9c179e\"],[0.4444444444444444,\"#bd3786\"],[0.5555555555555556,\"#d8576b\"],[0.6666666666666666,\"#ed7953\"],[0.7777777777777778,\"#fb9f3a\"],[0.8888888888888888,\"#fdca26\"],[1.0,\"#f0f921\"]]}],\"heatmap\":[{\"type\":\"heatmap\",\"colorbar\":{\"outlinewidth\":0,\"ticks\":\"\"},\"colorscale\":[[0.0,\"#0d0887\"],[0.1111111111111111,\"#46039f\"],[0.2222222222222222,\"#7201a8\"],[0.3333333333333333,\"#9c179e\"],[0.4444444444444444,\"#bd3786\"],[0.5555555555555556,\"#d8576b\"],[0.6666666666666666,\"#ed7953\"],[0.7777777777777778,\"#fb9f3a\"],[0.8888888888888888,\"#fdca26\"],[1.0,\"#f0f921\"]]}],\"heatmapgl\":[{\"type\":\"heatmapgl\",\"colorbar\":{\"outlinewidth\":0,\"ticks\":\"\"},\"colorscale\":[[0.0,\"#0d0887\"],[0.1111111111111111,\"#46039f\"],[0.2222222222222222,\"#7201a8\"],[0.3333333333333333,\"#9c179e\"],[0.4444444444444444,\"#bd3786\"],[0.5555555555555556,\"#d8576b\"],[0.6666666666666666,\"#ed7953\"],[0.7777777777777778,\"#fb9f3a\"],[0.8888888888888888,\"#fdca26\"],[1.0,\"#f0f921\"]]}],\"contourcarpet\":[{\"type\":\"contourcarpet\",\"colorbar\":{\"outlinewidth\":0,\"ticks\":\"\"}}],\"contour\":[{\"type\":\"contour\",\"colorbar\":{\"outlinewidth\":0,\"ticks\":\"\"},\"colorscale\":[[0.0,\"#0d0887\"],[0.1111111111111111,\"#46039f\"],[0.2222222222222222,\"#7201a8\"],[0.3333333333333333,\"#9c179e\"],[0.4444444444444444,\"#bd3786\"],[0.5555555555555556,\"#d8576b\"],[0.6666666666666666,\"#ed7953\"],[0.7777777777777778,\"#fb9f3a\"],[0.8888888888888888,\"#fdca26\"],[1.0,\"#f0f921\"]]}],\"surface\":[{\"type\":\"surface\",\"colorbar\":{\"outlinewidth\":0,\"ticks\":\"\"},\"colorscale\":[[0.0,\"#0d0887\"],[0.1111111111111111,\"#46039f\"],[0.2222222222222222,\"#7201a8\"],[0.3333333333333333,\"#9c179e\"],[0.4444444444444444,\"#bd3786\"],[0.5555555555555556,\"#d8576b\"],[0.6666666666666666,\"#ed7953\"],[0.7777777777777778,\"#fb9f3a\"],[0.8888888888888888,\"#fdca26\"],[1.0,\"#f0f921\"]]}],\"mesh3d\":[{\"type\":\"mesh3d\",\"colorbar\":{\"outlinewidth\":0,\"ticks\":\"\"}}],\"scatter\":[{\"fillpattern\":{\"fillmode\":\"overlay\",\"size\":10,\"solidity\":0.2},\"type\":\"scatter\"}],\"parcoords\":[{\"type\":\"parcoords\",\"line\":{\"colorbar\":{\"outlinewidth\":0,\"ticks\":\"\"}}}],\"scatterpolargl\":[{\"type\":\"scatterpolargl\",\"marker\":{\"colorbar\":{\"outlinewidth\":0,\"ticks\":\"\"}}}],\"bar\":[{\"error_x\":{\"color\":\"#2a3f5f\"},\"error_y\":{\"color\":\"#2a3f5f\"},\"marker\":{\"line\":{\"color\":\"#E5ECF6\",\"width\":0.5},\"pattern\":{\"fillmode\":\"overlay\",\"size\":10,\"solidity\":0.2}},\"type\":\"bar\"}],\"scattergeo\":[{\"type\":\"scattergeo\",\"marker\":{\"colorbar\":{\"outlinewidth\":0,\"ticks\":\"\"}}}],\"scatterpolar\":[{\"type\":\"scatterpolar\",\"marker\":{\"colorbar\":{\"outlinewidth\":0,\"ticks\":\"\"}}}],\"histogram\":[{\"marker\":{\"pattern\":{\"fillmode\":\"overlay\",\"size\":10,\"solidity\":0.2}},\"type\":\"histogram\"}],\"scattergl\":[{\"type\":\"scattergl\",\"marker\":{\"colorbar\":{\"outlinewidth\":0,\"ticks\":\"\"}}}],\"scatter3d\":[{\"type\":\"scatter3d\",\"line\":{\"colorbar\":{\"outlinewidth\":0,\"ticks\":\"\"}},\"marker\":{\"colorbar\":{\"outlinewidth\":0,\"ticks\":\"\"}}}],\"scattermapbox\":[{\"type\":\"scattermapbox\",\"marker\":{\"colorbar\":{\"outlinewidth\":0,\"ticks\":\"\"}}}],\"scatterternary\":[{\"type\":\"scatterternary\",\"marker\":{\"colorbar\":{\"outlinewidth\":0,\"ticks\":\"\"}}}],\"scattercarpet\":[{\"type\":\"scattercarpet\",\"marker\":{\"colorbar\":{\"outlinewidth\":0,\"ticks\":\"\"}}}],\"carpet\":[{\"aaxis\":{\"endlinecolor\":\"#2a3f5f\",\"gridcolor\":\"white\",\"linecolor\":\"white\",\"minorgridcolor\":\"white\",\"startlinecolor\":\"#2a3f5f\"},\"baxis\":{\"endlinecolor\":\"#2a3f5f\",\"gridcolor\":\"white\",\"linecolor\":\"white\",\"minorgridcolor\":\"white\",\"startlinecolor\":\"#2a3f5f\"},\"type\":\"carpet\"}],\"table\":[{\"cells\":{\"fill\":{\"color\":\"#EBF0F8\"},\"line\":{\"color\":\"white\"}},\"header\":{\"fill\":{\"color\":\"#C8D4E3\"},\"line\":{\"color\":\"white\"}},\"type\":\"table\"}],\"barpolar\":[{\"marker\":{\"line\":{\"color\":\"#E5ECF6\",\"width\":0.5},\"pattern\":{\"fillmode\":\"overlay\",\"size\":10,\"solidity\":0.2}},\"type\":\"barpolar\"}],\"pie\":[{\"automargin\":true,\"type\":\"pie\"}]},\"layout\":{\"autotypenumbers\":\"strict\",\"colorway\":[\"#636efa\",\"#EF553B\",\"#00cc96\",\"#ab63fa\",\"#FFA15A\",\"#19d3f3\",\"#FF6692\",\"#B6E880\",\"#FF97FF\",\"#FECB52\"],\"font\":{\"color\":\"#2a3f5f\"},\"hovermode\":\"closest\",\"hoverlabel\":{\"align\":\"left\"},\"paper_bgcolor\":\"white\",\"plot_bgcolor\":\"#E5ECF6\",\"polar\":{\"bgcolor\":\"#E5ECF6\",\"angularaxis\":{\"gridcolor\":\"white\",\"linecolor\":\"white\",\"ticks\":\"\"},\"radialaxis\":{\"gridcolor\":\"white\",\"linecolor\":\"white\",\"ticks\":\"\"}},\"ternary\":{\"bgcolor\":\"#E5ECF6\",\"aaxis\":{\"gridcolor\":\"white\",\"linecolor\":\"white\",\"ticks\":\"\"},\"baxis\":{\"gridcolor\":\"white\",\"linecolor\":\"white\",\"ticks\":\"\"},\"caxis\":{\"gridcolor\":\"white\",\"linecolor\":\"white\",\"ticks\":\"\"}},\"coloraxis\":{\"colorbar\":{\"outlinewidth\":0,\"ticks\":\"\"}},\"colorscale\":{\"sequential\":[[0.0,\"#0d0887\"],[0.1111111111111111,\"#46039f\"],[0.2222222222222222,\"#7201a8\"],[0.3333333333333333,\"#9c179e\"],[0.4444444444444444,\"#bd3786\"],[0.5555555555555556,\"#d8576b\"],[0.6666666666666666,\"#ed7953\"],[0.7777777777777778,\"#fb9f3a\"],[0.8888888888888888,\"#fdca26\"],[1.0,\"#f0f921\"]],\"sequentialminus\":[[0.0,\"#0d0887\"],[0.1111111111111111,\"#46039f\"],[0.2222222222222222,\"#7201a8\"],[0.3333333333333333,\"#9c179e\"],[0.4444444444444444,\"#bd3786\"],[0.5555555555555556,\"#d8576b\"],[0.6666666666666666,\"#ed7953\"],[0.7777777777777778,\"#fb9f3a\"],[0.8888888888888888,\"#fdca26\"],[1.0,\"#f0f921\"]],\"diverging\":[[0,\"#8e0152\"],[0.1,\"#c51b7d\"],[0.2,\"#de77ae\"],[0.3,\"#f1b6da\"],[0.4,\"#fde0ef\"],[0.5,\"#f7f7f7\"],[0.6,\"#e6f5d0\"],[0.7,\"#b8e186\"],[0.8,\"#7fbc41\"],[0.9,\"#4d9221\"],[1,\"#276419\"]]},\"xaxis\":{\"gridcolor\":\"white\",\"linecolor\":\"white\",\"ticks\":\"\",\"title\":{\"standoff\":15},\"zerolinecolor\":\"white\",\"automargin\":true,\"zerolinewidth\":2},\"yaxis\":{\"gridcolor\":\"white\",\"linecolor\":\"white\",\"ticks\":\"\",\"title\":{\"standoff\":15},\"zerolinecolor\":\"white\",\"automargin\":true,\"zerolinewidth\":2},\"scene\":{\"xaxis\":{\"backgroundcolor\":\"#E5ECF6\",\"gridcolor\":\"white\",\"linecolor\":\"white\",\"showbackground\":true,\"ticks\":\"\",\"zerolinecolor\":\"white\",\"gridwidth\":2},\"yaxis\":{\"backgroundcolor\":\"#E5ECF6\",\"gridcolor\":\"white\",\"linecolor\":\"white\",\"showbackground\":true,\"ticks\":\"\",\"zerolinecolor\":\"white\",\"gridwidth\":2},\"zaxis\":{\"backgroundcolor\":\"#E5ECF6\",\"gridcolor\":\"white\",\"linecolor\":\"white\",\"showbackground\":true,\"ticks\":\"\",\"zerolinecolor\":\"white\",\"gridwidth\":2}},\"shapedefaults\":{\"line\":{\"color\":\"#2a3f5f\"}},\"annotationdefaults\":{\"arrowcolor\":\"#2a3f5f\",\"arrowhead\":0,\"arrowwidth\":1},\"geo\":{\"bgcolor\":\"white\",\"landcolor\":\"#E5ECF6\",\"subunitcolor\":\"white\",\"showland\":true,\"showlakes\":true,\"lakecolor\":\"white\"},\"title\":{\"x\":0.05},\"mapbox\":{\"style\":\"light\"}}},\"scene\":{\"domain\":{\"x\":[0.0,1.0],\"y\":[0.0,1.0]},\"xaxis\":{\"title\":{\"text\":\"x\"}},\"yaxis\":{\"title\":{\"text\":\"y\"}},\"zaxis\":{\"title\":{\"text\":\"z\"}}},\"legend\":{\"tracegroupgap\":0},\"margin\":{\"t\":60}},                        {\"responsive\": true}                    ).then(function(){\n",
       "                            \n",
       "var gd = document.getElementById('b00d64bd-1d6f-44bd-8cf8-b0edd5d44635');\n",
       "var x = new MutationObserver(function (mutations, observer) {{\n",
       "        var display = window.getComputedStyle(gd).display;\n",
       "        if (!display || display === 'none') {{\n",
       "            console.log([gd, 'removed!']);\n",
       "            Plotly.purge(gd);\n",
       "            observer.disconnect();\n",
       "        }}\n",
       "}});\n",
       "\n",
       "// Listen for the removal of the full notebook cells\n",
       "var notebookContainer = gd.closest('#notebook-container');\n",
       "if (notebookContainer) {{\n",
       "    x.observe(notebookContainer, {childList: true});\n",
       "}}\n",
       "\n",
       "// Listen for the clearing of the current output cell\n",
       "var outputEl = gd.closest('.output');\n",
       "if (outputEl) {{\n",
       "    x.observe(outputEl, {childList: true});\n",
       "}}\n",
       "\n",
       "                        })                };                });            </script>        </div>"
      ]
     },
     "metadata": {},
     "output_type": "display_data"
    }
   ],
   "source": [
    "import plotly.express as px\n",
    "df = px.data.iris()\n",
    "fig = px.scatter_3d(df,x=x.ravel(),y=y.ravel(),z=z.ravel())\n",
    "fig.show()"
   ]
  },
  {
   "cell_type": "code",
   "execution_count": 19,
   "id": "982e673e",
   "metadata": {
    "execution": {
     "iopub.execute_input": "2024-08-29T13:51:42.418470Z",
     "iopub.status.busy": "2024-08-29T13:51:42.418003Z",
     "iopub.status.idle": "2024-08-29T13:51:42.429029Z",
     "shell.execute_reply": "2024-08-29T13:51:42.427751Z"
    },
    "papermill": {
     "duration": 0.028416,
     "end_time": "2024-08-29T13:51:42.431457",
     "exception": false,
     "start_time": "2024-08-29T13:51:42.403041",
     "status": "completed"
    },
    "tags": []
   },
   "outputs": [],
   "source": [
    "lr = LinearRegression()\n",
    "lr.fit(np.array([x,y]).reshape(100,2),z)\n",
    "\n",
    "x_input = np.linspace(x.min(), x.max(), 10)\n",
    "y_input = np.linspace(y.min(), y.max(), 10)\n",
    "xGrid, yGrid = np.meshgrid(x_input,y_input)\n",
    "\n",
    "final = np.vstack((xGrid.ravel().reshape(1,100),yGrid.ravel().reshape(1,100))).T\n",
    "\n",
    "z_final = lr.predict(final).reshape(10,10)"
   ]
  },
  {
   "cell_type": "code",
   "execution_count": 20,
   "id": "751f5758",
   "metadata": {
    "execution": {
     "iopub.execute_input": "2024-08-29T13:51:42.460533Z",
     "iopub.status.busy": "2024-08-29T13:51:42.459672Z",
     "iopub.status.idle": "2024-08-29T13:51:42.543570Z",
     "shell.execute_reply": "2024-08-29T13:51:42.542354Z"
    },
    "papermill": {
     "duration": 0.101638,
     "end_time": "2024-08-29T13:51:42.546365",
     "exception": false,
     "start_time": "2024-08-29T13:51:42.444727",
     "status": "completed"
    },
    "tags": []
   },
   "outputs": [
    {
     "data": {
      "text/html": [
       "<div>                            <div id=\"a66f4aa2-6018-4154-b3c3-6d356e3f6fed\" class=\"plotly-graph-div\" style=\"height:525px; width:100%;\"></div>            <script type=\"text/javascript\">                require([\"plotly\"], function(Plotly) {                    window.PLOTLYENV=window.PLOTLYENV || {};                                    if (document.getElementById(\"a66f4aa2-6018-4154-b3c3-6d356e3f6fed\")) {                    Plotly.newPlot(                        \"a66f4aa2-6018-4154-b3c3-6d356e3f6fed\",                        [{\"hovertemplate\":\"x=%{x}\\u003cbr\\u003ey=%{y}\\u003cbr\\u003ez=%{z}\\u003cextra\\u003e\\u003c\\u002fextra\\u003e\",\"legendgroup\":\"\",\"marker\":{\"color\":\"#636efa\",\"symbol\":\"circle\"},\"mode\":\"markers\",\"name\":\"\",\"scene\":\"scene\",\"showlegend\":false,\"x\":[-1.760225631225361,-1.448149656557982,2.9668658067008646,-0.2714010420910502,0.43303169338673175,1.2548616364209026,0.28413805092476574,3.050948817254744,0.19232271279674684,3.4985037428074666,-1.796416086496944,0.8616467797726362,-1.6472508251004547,-1.2231454148926202,0.6944821771980121,2.7213601832664756,-0.5082462581703129,-2.59956293145433,4.152225841599308,-2.394088617251856,2.478225749537928,3.8300653545627794,2.6988952836230906,-2.4384403791194282,3.596274375634093,-0.07646269551570217,-1.4517635623970109,-2.0199447922019504,2.9854956717174366,1.154547631851913,2.8509155319527757,0.5826747670755328,3.288850990617152,1.0455872928626504,0.8145599542837614,-1.2705872590484883,-1.987859669565169,3.399604382420465,0.09900426084652914,-2.4368676430976812,-2.3022584875350836,3.867463878129276,2.141018950571085,3.9667422378745583,-0.9894291668038273,1.4970788972803852,0.1650673599972885,1.9807084130086698,-0.1488060906985358,-0.9297431743110538,4.122653588845438,0.1421126058939861,-2.5987939788671817,3.7039070680389985,1.047096254829318,3.7889666158104625,-1.205875181652571,2.234835751889099,3.6846889112903476,3.473735163135216,3.4841920776719286,-1.6261890614882142,2.399923518890289,1.2298275024528218,-0.6770226280937672,1.8997549629399906,-0.024477845517100416,-2.6667859217355967,-1.4695191749571963,0.09761747535655108,0.7402534229331481,3.4510794999520726,2.0168593637936363,3.8815310572752013,-0.12216959323993537,-1.3713635742791435,-1.3370176317408031,-0.3278238225689485,-0.5878512413651182,-0.8994229290523637,-0.8283424587860542,-2.2812718654544177,3.933956482423076,-1.7133306306427312,1.1789628760029336,2.3205044284831153,3.873487527613472,0.8039395783959975,2.067721370084887,-1.6231909562015316,-1.019624571191406,-0.04467906998660709,-1.5655598244323001,0.2620335726123906,2.5714087889734722,-2.727855667054539,-0.6188513201693797,2.5409611008289863,0.7612325485138669,2.5615159018384768],\"y\":[-0.5334687819299582,1.5192409954605894,3.5206129775079216,-0.12932572107950602,1.2697486070449608,-2.4709350803200487,-1.294181850681073,3.337900153648225,0.5671851121267064,-2.5872477289797557,-0.40386010882835954,4.081030761696863,2.962230162467046,1.0811339311830674,-2.600789840622206,2.126195181467966,2.446198764963322,2.057013794873712,3.5079431995687287,2.8844660554941752,2.080913499886898,-0.7871375644878267,-0.8101776755183963,1.870281654679169,2.171676882036633,1.765438149405833,4.1989090232456565,-0.7101700741340009,-2.515461471134082,1.885688431368794,-0.8657904111630526,-1.349372244728892,-2.0559304077976104,-0.08183394125488519,4.172545485064867,-2.7712744215818406,1.189677257339362,0.34612774092618714,2.4609649327070438,0.1547645936778279,-1.692449726502482,-1.747276419162201,1.1478659732574794,2.2815573392477004,-2.148342292532101,3.5280113886292916,2.5159789836511415,2.2650664570322165,1.8104606006998427,1.853900762532363,2.1150212775619934,3.0631391080294668,-2.53638093964906,1.2388432603770125,-1.8132814719479469,2.177718606847473,-2.603183786852248,3.4441278970011657,-1.2400201367773915,2.5731636133559554,0.4655996088589216,-2.4466356810894245,-0.909944201063714,-0.5768895039544137,0.2341966222198919,2.6122293206526948,0.8803942547575319,1.846456945067981,-0.3000893945153962,-1.722588033165188,1.8305766051078622,0.7749228786954054,1.754826937732087,1.5997944561502617,-2.2451858837099685,1.380721791751343,-0.6525077835418913,3.219196908790786,1.2194991222223317,2.355231011353614,-2.0800419988052363,1.4794193818504633,-1.5030004630292042,0.2726152887704729,-1.6278860153213746,2.4880970808536853,2.7200636581072164,-0.4872890758447568,-0.46173152466636846,1.4062613500476866,-0.9088938013513104,-2.598311953653628,1.4499939416667011,-0.12094513014876007,0.45955200564294163,0.9956827813746227,0.7915590892330822,-2.703047065082769,-1.8726139837791314,-1.5989566401909068],\"z\":[5.9461274705810006,3.6831686998047526,26.01061665926045,2.2834305810777438,2.3957299893853574,10.087925155207074,2.7942296843602916,25.476290866239665,1.971694666759668,20.484134681351275,1.3932099529756812,21.925196647372992,13.498594667627106,5.607227441961095,9.374625576947997,14.96490920541364,9.5207804250256,12.37815123789183,33.28891268499109,17.019650101402423,15.030424895933642,17.147837081258142,9.451008721967034,9.086476008426793,20.478279147602656,5.4739676116373275,21.835197733976344,6.053174262058687,17.961405705483063,7.8717933259975865,11.205650728314577,4.738673193542784,15.190357568406817,3.3051167667647166,22.06867205169344,10.695042043790592,6.949480003191547,14.770180135139206,8.87113019251995,8.51917456256792,9.650632816948866,17.40793139038144,8.000842381122357,26.45384011019763,6.882833300248797,19.71309608665498,9.281923757659637,12.319126403693852,5.537494078414404,5.928342278937544,24.781352403465185,13.810620758388998,13.740569604109275,16.497731024082892,4.643124167752065,20.41808931647804,9.899420838062511,21.043368750847293,16.821767639438214,22.409175145763424,14.198922455556485,9.33146624060223,8.817594026312602,4.427019411162091,3.662273597948394,12.360490181727386,2.7205061120374507,11.787900778428854,5.653307500823965,5.9617628108823135,6.994334219291697,16.286652146598094,8.460654430015605,21.620713505703073,7.247510425372759,7.254560769642984,3.216669195152671,13.972259810180061,4.4284429595806225,8.225964915335089,5.800386719316308,8.129152492545368,17.971026355731375,4.161420509580939,5.787840142307464,15.84233212308939,26.60381415633448,2.420343605965238,7.169916676488823,5.833554245020605,3.1409767342539974,8.21900331378036,6.424541983401201,1.7667785836048355,9.193396008632948,10.568290580672643,3.04997071746599,14.278285109625934,5.462090836409904,8.766512538161939],\"type\":\"scatter3d\"},{\"x\":[-2.727855667054539,-1.9634021660930006,-1.198948665131462,-0.4344951641699235,0.329958336791615,1.0944118377531535,1.858865338714692,2.6233188396762306,3.387772340637769,4.152225841599308],\"y\":[-2.7712744215818406,-1.9968095943787854,-1.2223447671757302,-0.44787993997267517,0.32658488723038026,1.1010497144334357,1.8755145416364902,2.6499793688395457,3.424444196042601,4.1989090232456565],\"z\":[[8.248239694868342,8.525449334046705,8.80265897322507,9.079868612403434,9.357078251581799,9.634287890760163,9.911497529938528,10.188707169116892,10.465916808295257,10.743126447473621],[8.616595885465085,8.893805524643449,9.171015163821814,9.448224803000178,9.725434442178543,10.002644081356907,10.279853720535272,10.557063359713634,10.834272998891999,11.111482638070363],[8.984952076061827,9.262161715240191,9.539371354418556,9.81658099359692,10.093790632775285,10.37100027195365,10.648209911132014,10.925419550310378,11.202629189488743,11.479838828667107],[9.353308266658571,9.630517905836935,9.9077275450153,10.184937184193664,10.462146823372029,10.739356462550393,11.016566101728756,11.29377574090712,11.570985380085485,11.848195019263851],[9.721664457255313,9.998874096433678,10.276083735612042,10.553293374790407,10.830503013968771,11.107712653147136,11.3849222923255,11.662131931503865,11.93934157068223,12.216551209860594],[10.090020647852057,10.367230287030422,10.644439926208786,10.92164956538715,11.198859204565515,11.47606884374388,11.753278482922244,12.030488122100607,12.307697761278973,12.584907400457336],[10.4583768384488,10.735586477627164,11.012796116805529,11.290005755983893,11.567215395162258,11.844425034340622,12.121634673518987,12.398844312697351,12.676053951875716,12.95326359105408],[10.826733029045544,11.103942668223908,11.381152307402273,11.658361946580637,11.935571585759,12.212781224937366,12.489990864115729,12.767200503294095,13.044410142472458,13.321619781650824],[11.195089219642286,11.47229885882065,11.749508497999015,12.02671813717738,12.303927776355744,12.581137415534108,12.858347054712473,13.135556693890837,13.412766333069202,13.689975972247566],[11.56344541023903,11.840655049417395,12.117864688595759,12.395074327774124,12.672283966952488,12.94949360613085,13.226703245309217,13.50391288448758,13.781122523665946,14.058332162844309]],\"type\":\"surface\"}],                        {\"template\":{\"data\":{\"histogram2dcontour\":[{\"type\":\"histogram2dcontour\",\"colorbar\":{\"outlinewidth\":0,\"ticks\":\"\"},\"colorscale\":[[0.0,\"#0d0887\"],[0.1111111111111111,\"#46039f\"],[0.2222222222222222,\"#7201a8\"],[0.3333333333333333,\"#9c179e\"],[0.4444444444444444,\"#bd3786\"],[0.5555555555555556,\"#d8576b\"],[0.6666666666666666,\"#ed7953\"],[0.7777777777777778,\"#fb9f3a\"],[0.8888888888888888,\"#fdca26\"],[1.0,\"#f0f921\"]]}],\"choropleth\":[{\"type\":\"choropleth\",\"colorbar\":{\"outlinewidth\":0,\"ticks\":\"\"}}],\"histogram2d\":[{\"type\":\"histogram2d\",\"colorbar\":{\"outlinewidth\":0,\"ticks\":\"\"},\"colorscale\":[[0.0,\"#0d0887\"],[0.1111111111111111,\"#46039f\"],[0.2222222222222222,\"#7201a8\"],[0.3333333333333333,\"#9c179e\"],[0.4444444444444444,\"#bd3786\"],[0.5555555555555556,\"#d8576b\"],[0.6666666666666666,\"#ed7953\"],[0.7777777777777778,\"#fb9f3a\"],[0.8888888888888888,\"#fdca26\"],[1.0,\"#f0f921\"]]}],\"heatmap\":[{\"type\":\"heatmap\",\"colorbar\":{\"outlinewidth\":0,\"ticks\":\"\"},\"colorscale\":[[0.0,\"#0d0887\"],[0.1111111111111111,\"#46039f\"],[0.2222222222222222,\"#7201a8\"],[0.3333333333333333,\"#9c179e\"],[0.4444444444444444,\"#bd3786\"],[0.5555555555555556,\"#d8576b\"],[0.6666666666666666,\"#ed7953\"],[0.7777777777777778,\"#fb9f3a\"],[0.8888888888888888,\"#fdca26\"],[1.0,\"#f0f921\"]]}],\"heatmapgl\":[{\"type\":\"heatmapgl\",\"colorbar\":{\"outlinewidth\":0,\"ticks\":\"\"},\"colorscale\":[[0.0,\"#0d0887\"],[0.1111111111111111,\"#46039f\"],[0.2222222222222222,\"#7201a8\"],[0.3333333333333333,\"#9c179e\"],[0.4444444444444444,\"#bd3786\"],[0.5555555555555556,\"#d8576b\"],[0.6666666666666666,\"#ed7953\"],[0.7777777777777778,\"#fb9f3a\"],[0.8888888888888888,\"#fdca26\"],[1.0,\"#f0f921\"]]}],\"contourcarpet\":[{\"type\":\"contourcarpet\",\"colorbar\":{\"outlinewidth\":0,\"ticks\":\"\"}}],\"contour\":[{\"type\":\"contour\",\"colorbar\":{\"outlinewidth\":0,\"ticks\":\"\"},\"colorscale\":[[0.0,\"#0d0887\"],[0.1111111111111111,\"#46039f\"],[0.2222222222222222,\"#7201a8\"],[0.3333333333333333,\"#9c179e\"],[0.4444444444444444,\"#bd3786\"],[0.5555555555555556,\"#d8576b\"],[0.6666666666666666,\"#ed7953\"],[0.7777777777777778,\"#fb9f3a\"],[0.8888888888888888,\"#fdca26\"],[1.0,\"#f0f921\"]]}],\"surface\":[{\"type\":\"surface\",\"colorbar\":{\"outlinewidth\":0,\"ticks\":\"\"},\"colorscale\":[[0.0,\"#0d0887\"],[0.1111111111111111,\"#46039f\"],[0.2222222222222222,\"#7201a8\"],[0.3333333333333333,\"#9c179e\"],[0.4444444444444444,\"#bd3786\"],[0.5555555555555556,\"#d8576b\"],[0.6666666666666666,\"#ed7953\"],[0.7777777777777778,\"#fb9f3a\"],[0.8888888888888888,\"#fdca26\"],[1.0,\"#f0f921\"]]}],\"mesh3d\":[{\"type\":\"mesh3d\",\"colorbar\":{\"outlinewidth\":0,\"ticks\":\"\"}}],\"scatter\":[{\"fillpattern\":{\"fillmode\":\"overlay\",\"size\":10,\"solidity\":0.2},\"type\":\"scatter\"}],\"parcoords\":[{\"type\":\"parcoords\",\"line\":{\"colorbar\":{\"outlinewidth\":0,\"ticks\":\"\"}}}],\"scatterpolargl\":[{\"type\":\"scatterpolargl\",\"marker\":{\"colorbar\":{\"outlinewidth\":0,\"ticks\":\"\"}}}],\"bar\":[{\"error_x\":{\"color\":\"#2a3f5f\"},\"error_y\":{\"color\":\"#2a3f5f\"},\"marker\":{\"line\":{\"color\":\"#E5ECF6\",\"width\":0.5},\"pattern\":{\"fillmode\":\"overlay\",\"size\":10,\"solidity\":0.2}},\"type\":\"bar\"}],\"scattergeo\":[{\"type\":\"scattergeo\",\"marker\":{\"colorbar\":{\"outlinewidth\":0,\"ticks\":\"\"}}}],\"scatterpolar\":[{\"type\":\"scatterpolar\",\"marker\":{\"colorbar\":{\"outlinewidth\":0,\"ticks\":\"\"}}}],\"histogram\":[{\"marker\":{\"pattern\":{\"fillmode\":\"overlay\",\"size\":10,\"solidity\":0.2}},\"type\":\"histogram\"}],\"scattergl\":[{\"type\":\"scattergl\",\"marker\":{\"colorbar\":{\"outlinewidth\":0,\"ticks\":\"\"}}}],\"scatter3d\":[{\"type\":\"scatter3d\",\"line\":{\"colorbar\":{\"outlinewidth\":0,\"ticks\":\"\"}},\"marker\":{\"colorbar\":{\"outlinewidth\":0,\"ticks\":\"\"}}}],\"scattermapbox\":[{\"type\":\"scattermapbox\",\"marker\":{\"colorbar\":{\"outlinewidth\":0,\"ticks\":\"\"}}}],\"scatterternary\":[{\"type\":\"scatterternary\",\"marker\":{\"colorbar\":{\"outlinewidth\":0,\"ticks\":\"\"}}}],\"scattercarpet\":[{\"type\":\"scattercarpet\",\"marker\":{\"colorbar\":{\"outlinewidth\":0,\"ticks\":\"\"}}}],\"carpet\":[{\"aaxis\":{\"endlinecolor\":\"#2a3f5f\",\"gridcolor\":\"white\",\"linecolor\":\"white\",\"minorgridcolor\":\"white\",\"startlinecolor\":\"#2a3f5f\"},\"baxis\":{\"endlinecolor\":\"#2a3f5f\",\"gridcolor\":\"white\",\"linecolor\":\"white\",\"minorgridcolor\":\"white\",\"startlinecolor\":\"#2a3f5f\"},\"type\":\"carpet\"}],\"table\":[{\"cells\":{\"fill\":{\"color\":\"#EBF0F8\"},\"line\":{\"color\":\"white\"}},\"header\":{\"fill\":{\"color\":\"#C8D4E3\"},\"line\":{\"color\":\"white\"}},\"type\":\"table\"}],\"barpolar\":[{\"marker\":{\"line\":{\"color\":\"#E5ECF6\",\"width\":0.5},\"pattern\":{\"fillmode\":\"overlay\",\"size\":10,\"solidity\":0.2}},\"type\":\"barpolar\"}],\"pie\":[{\"automargin\":true,\"type\":\"pie\"}]},\"layout\":{\"autotypenumbers\":\"strict\",\"colorway\":[\"#636efa\",\"#EF553B\",\"#00cc96\",\"#ab63fa\",\"#FFA15A\",\"#19d3f3\",\"#FF6692\",\"#B6E880\",\"#FF97FF\",\"#FECB52\"],\"font\":{\"color\":\"#2a3f5f\"},\"hovermode\":\"closest\",\"hoverlabel\":{\"align\":\"left\"},\"paper_bgcolor\":\"white\",\"plot_bgcolor\":\"#E5ECF6\",\"polar\":{\"bgcolor\":\"#E5ECF6\",\"angularaxis\":{\"gridcolor\":\"white\",\"linecolor\":\"white\",\"ticks\":\"\"},\"radialaxis\":{\"gridcolor\":\"white\",\"linecolor\":\"white\",\"ticks\":\"\"}},\"ternary\":{\"bgcolor\":\"#E5ECF6\",\"aaxis\":{\"gridcolor\":\"white\",\"linecolor\":\"white\",\"ticks\":\"\"},\"baxis\":{\"gridcolor\":\"white\",\"linecolor\":\"white\",\"ticks\":\"\"},\"caxis\":{\"gridcolor\":\"white\",\"linecolor\":\"white\",\"ticks\":\"\"}},\"coloraxis\":{\"colorbar\":{\"outlinewidth\":0,\"ticks\":\"\"}},\"colorscale\":{\"sequential\":[[0.0,\"#0d0887\"],[0.1111111111111111,\"#46039f\"],[0.2222222222222222,\"#7201a8\"],[0.3333333333333333,\"#9c179e\"],[0.4444444444444444,\"#bd3786\"],[0.5555555555555556,\"#d8576b\"],[0.6666666666666666,\"#ed7953\"],[0.7777777777777778,\"#fb9f3a\"],[0.8888888888888888,\"#fdca26\"],[1.0,\"#f0f921\"]],\"sequentialminus\":[[0.0,\"#0d0887\"],[0.1111111111111111,\"#46039f\"],[0.2222222222222222,\"#7201a8\"],[0.3333333333333333,\"#9c179e\"],[0.4444444444444444,\"#bd3786\"],[0.5555555555555556,\"#d8576b\"],[0.6666666666666666,\"#ed7953\"],[0.7777777777777778,\"#fb9f3a\"],[0.8888888888888888,\"#fdca26\"],[1.0,\"#f0f921\"]],\"diverging\":[[0,\"#8e0152\"],[0.1,\"#c51b7d\"],[0.2,\"#de77ae\"],[0.3,\"#f1b6da\"],[0.4,\"#fde0ef\"],[0.5,\"#f7f7f7\"],[0.6,\"#e6f5d0\"],[0.7,\"#b8e186\"],[0.8,\"#7fbc41\"],[0.9,\"#4d9221\"],[1,\"#276419\"]]},\"xaxis\":{\"gridcolor\":\"white\",\"linecolor\":\"white\",\"ticks\":\"\",\"title\":{\"standoff\":15},\"zerolinecolor\":\"white\",\"automargin\":true,\"zerolinewidth\":2},\"yaxis\":{\"gridcolor\":\"white\",\"linecolor\":\"white\",\"ticks\":\"\",\"title\":{\"standoff\":15},\"zerolinecolor\":\"white\",\"automargin\":true,\"zerolinewidth\":2},\"scene\":{\"xaxis\":{\"backgroundcolor\":\"#E5ECF6\",\"gridcolor\":\"white\",\"linecolor\":\"white\",\"showbackground\":true,\"ticks\":\"\",\"zerolinecolor\":\"white\",\"gridwidth\":2},\"yaxis\":{\"backgroundcolor\":\"#E5ECF6\",\"gridcolor\":\"white\",\"linecolor\":\"white\",\"showbackground\":true,\"ticks\":\"\",\"zerolinecolor\":\"white\",\"gridwidth\":2},\"zaxis\":{\"backgroundcolor\":\"#E5ECF6\",\"gridcolor\":\"white\",\"linecolor\":\"white\",\"showbackground\":true,\"ticks\":\"\",\"zerolinecolor\":\"white\",\"gridwidth\":2}},\"shapedefaults\":{\"line\":{\"color\":\"#2a3f5f\"}},\"annotationdefaults\":{\"arrowcolor\":\"#2a3f5f\",\"arrowhead\":0,\"arrowwidth\":1},\"geo\":{\"bgcolor\":\"white\",\"landcolor\":\"#E5ECF6\",\"subunitcolor\":\"white\",\"showland\":true,\"showlakes\":true,\"lakecolor\":\"white\"},\"title\":{\"x\":0.05},\"mapbox\":{\"style\":\"light\"}}},\"scene\":{\"domain\":{\"x\":[0.0,1.0],\"y\":[0.0,1.0]},\"xaxis\":{\"title\":{\"text\":\"x\"}},\"yaxis\":{\"title\":{\"text\":\"y\"}},\"zaxis\":{\"title\":{\"text\":\"z\"}}},\"legend\":{\"tracegroupgap\":0},\"margin\":{\"t\":60}},                        {\"responsive\": true}                    ).then(function(){\n",
       "                            \n",
       "var gd = document.getElementById('a66f4aa2-6018-4154-b3c3-6d356e3f6fed');\n",
       "var x = new MutationObserver(function (mutations, observer) {{\n",
       "        var display = window.getComputedStyle(gd).display;\n",
       "        if (!display || display === 'none') {{\n",
       "            console.log([gd, 'removed!']);\n",
       "            Plotly.purge(gd);\n",
       "            observer.disconnect();\n",
       "        }}\n",
       "}});\n",
       "\n",
       "// Listen for the removal of the full notebook cells\n",
       "var notebookContainer = gd.closest('#notebook-container');\n",
       "if (notebookContainer) {{\n",
       "    x.observe(notebookContainer, {childList: true});\n",
       "}}\n",
       "\n",
       "// Listen for the clearing of the current output cell\n",
       "var outputEl = gd.closest('.output');\n",
       "if (outputEl) {{\n",
       "    x.observe(outputEl, {childList: true});\n",
       "}}\n",
       "\n",
       "                        })                };                });            </script>        </div>"
      ]
     },
     "metadata": {},
     "output_type": "display_data"
    }
   ],
   "source": [
    "import plotly.graph_objects as go\n",
    "\n",
    "fig = px.scatter_3d(df, x=x.ravel(), y=y.ravel(), z=z.ravel())\n",
    "\n",
    "fig.add_trace(go.Surface(x = x_input, y = y_input, z =z_final ))\n",
    "\n",
    "fig.show()"
   ]
  },
  {
   "cell_type": "code",
   "execution_count": 21,
   "id": "b30188a8",
   "metadata": {
    "execution": {
     "iopub.execute_input": "2024-08-29T13:51:42.575754Z",
     "iopub.status.busy": "2024-08-29T13:51:42.575278Z",
     "iopub.status.idle": "2024-08-29T13:51:42.583747Z",
     "shell.execute_reply": "2024-08-29T13:51:42.582381Z"
    },
    "papermill": {
     "duration": 0.026135,
     "end_time": "2024-08-29T13:51:42.586268",
     "exception": false,
     "start_time": "2024-08-29T13:51:42.560133",
     "status": "completed"
    },
    "tags": []
   },
   "outputs": [
    {
     "data": {
      "text/plain": [
       "(100, 2)"
      ]
     },
     "execution_count": 21,
     "metadata": {},
     "output_type": "execute_result"
    }
   ],
   "source": [
    "X_multi = np.array([x,y]).reshape(100,2)\n",
    "X_multi.shape"
   ]
  },
  {
   "cell_type": "code",
   "execution_count": 22,
   "id": "34c35bd5",
   "metadata": {
    "execution": {
     "iopub.execute_input": "2024-08-29T13:51:42.616996Z",
     "iopub.status.busy": "2024-08-29T13:51:42.616521Z",
     "iopub.status.idle": "2024-08-29T13:51:42.623902Z",
     "shell.execute_reply": "2024-08-29T13:51:42.622854Z"
    },
    "papermill": {
     "duration": 0.025581,
     "end_time": "2024-08-29T13:51:42.626330",
     "exception": false,
     "start_time": "2024-08-29T13:51:42.600749",
     "status": "completed"
    },
    "tags": []
   },
   "outputs": [],
   "source": [
    "poly = PolynomialFeatures(degree=30)\n",
    "X_multi_trans = poly.fit_transform(X_multi)"
   ]
  },
  {
   "cell_type": "code",
   "execution_count": 23,
   "id": "cab55270",
   "metadata": {
    "execution": {
     "iopub.execute_input": "2024-08-29T13:51:42.655970Z",
     "iopub.status.busy": "2024-08-29T13:51:42.655511Z",
     "iopub.status.idle": "2024-08-29T13:51:42.672712Z",
     "shell.execute_reply": "2024-08-29T13:51:42.671476Z"
    },
    "papermill": {
     "duration": 0.037172,
     "end_time": "2024-08-29T13:51:42.677648",
     "exception": false,
     "start_time": "2024-08-29T13:51:42.640476",
     "status": "completed"
    },
    "tags": []
   },
   "outputs": [
    {
     "name": "stdout",
     "output_type": "stream",
     "text": [
      "Powers\n",
      " [[ 0  0]\n",
      " [ 1  0]\n",
      " [ 0  1]\n",
      " [ 2  0]\n",
      " [ 1  1]\n",
      " [ 0  2]\n",
      " [ 3  0]\n",
      " [ 2  1]\n",
      " [ 1  2]\n",
      " [ 0  3]\n",
      " [ 4  0]\n",
      " [ 3  1]\n",
      " [ 2  2]\n",
      " [ 1  3]\n",
      " [ 0  4]\n",
      " [ 5  0]\n",
      " [ 4  1]\n",
      " [ 3  2]\n",
      " [ 2  3]\n",
      " [ 1  4]\n",
      " [ 0  5]\n",
      " [ 6  0]\n",
      " [ 5  1]\n",
      " [ 4  2]\n",
      " [ 3  3]\n",
      " [ 2  4]\n",
      " [ 1  5]\n",
      " [ 0  6]\n",
      " [ 7  0]\n",
      " [ 6  1]\n",
      " [ 5  2]\n",
      " [ 4  3]\n",
      " [ 3  4]\n",
      " [ 2  5]\n",
      " [ 1  6]\n",
      " [ 0  7]\n",
      " [ 8  0]\n",
      " [ 7  1]\n",
      " [ 6  2]\n",
      " [ 5  3]\n",
      " [ 4  4]\n",
      " [ 3  5]\n",
      " [ 2  6]\n",
      " [ 1  7]\n",
      " [ 0  8]\n",
      " [ 9  0]\n",
      " [ 8  1]\n",
      " [ 7  2]\n",
      " [ 6  3]\n",
      " [ 5  4]\n",
      " [ 4  5]\n",
      " [ 3  6]\n",
      " [ 2  7]\n",
      " [ 1  8]\n",
      " [ 0  9]\n",
      " [10  0]\n",
      " [ 9  1]\n",
      " [ 8  2]\n",
      " [ 7  3]\n",
      " [ 6  4]\n",
      " [ 5  5]\n",
      " [ 4  6]\n",
      " [ 3  7]\n",
      " [ 2  8]\n",
      " [ 1  9]\n",
      " [ 0 10]\n",
      " [11  0]\n",
      " [10  1]\n",
      " [ 9  2]\n",
      " [ 8  3]\n",
      " [ 7  4]\n",
      " [ 6  5]\n",
      " [ 5  6]\n",
      " [ 4  7]\n",
      " [ 3  8]\n",
      " [ 2  9]\n",
      " [ 1 10]\n",
      " [ 0 11]\n",
      " [12  0]\n",
      " [11  1]\n",
      " [10  2]\n",
      " [ 9  3]\n",
      " [ 8  4]\n",
      " [ 7  5]\n",
      " [ 6  6]\n",
      " [ 5  7]\n",
      " [ 4  8]\n",
      " [ 3  9]\n",
      " [ 2 10]\n",
      " [ 1 11]\n",
      " [ 0 12]\n",
      " [13  0]\n",
      " [12  1]\n",
      " [11  2]\n",
      " [10  3]\n",
      " [ 9  4]\n",
      " [ 8  5]\n",
      " [ 7  6]\n",
      " [ 6  7]\n",
      " [ 5  8]\n",
      " [ 4  9]\n",
      " [ 3 10]\n",
      " [ 2 11]\n",
      " [ 1 12]\n",
      " [ 0 13]\n",
      " [14  0]\n",
      " [13  1]\n",
      " [12  2]\n",
      " [11  3]\n",
      " [10  4]\n",
      " [ 9  5]\n",
      " [ 8  6]\n",
      " [ 7  7]\n",
      " [ 6  8]\n",
      " [ 5  9]\n",
      " [ 4 10]\n",
      " [ 3 11]\n",
      " [ 2 12]\n",
      " [ 1 13]\n",
      " [ 0 14]\n",
      " [15  0]\n",
      " [14  1]\n",
      " [13  2]\n",
      " [12  3]\n",
      " [11  4]\n",
      " [10  5]\n",
      " [ 9  6]\n",
      " [ 8  7]\n",
      " [ 7  8]\n",
      " [ 6  9]\n",
      " [ 5 10]\n",
      " [ 4 11]\n",
      " [ 3 12]\n",
      " [ 2 13]\n",
      " [ 1 14]\n",
      " [ 0 15]\n",
      " [16  0]\n",
      " [15  1]\n",
      " [14  2]\n",
      " [13  3]\n",
      " [12  4]\n",
      " [11  5]\n",
      " [10  6]\n",
      " [ 9  7]\n",
      " [ 8  8]\n",
      " [ 7  9]\n",
      " [ 6 10]\n",
      " [ 5 11]\n",
      " [ 4 12]\n",
      " [ 3 13]\n",
      " [ 2 14]\n",
      " [ 1 15]\n",
      " [ 0 16]\n",
      " [17  0]\n",
      " [16  1]\n",
      " [15  2]\n",
      " [14  3]\n",
      " [13  4]\n",
      " [12  5]\n",
      " [11  6]\n",
      " [10  7]\n",
      " [ 9  8]\n",
      " [ 8  9]\n",
      " [ 7 10]\n",
      " [ 6 11]\n",
      " [ 5 12]\n",
      " [ 4 13]\n",
      " [ 3 14]\n",
      " [ 2 15]\n",
      " [ 1 16]\n",
      " [ 0 17]\n",
      " [18  0]\n",
      " [17  1]\n",
      " [16  2]\n",
      " [15  3]\n",
      " [14  4]\n",
      " [13  5]\n",
      " [12  6]\n",
      " [11  7]\n",
      " [10  8]\n",
      " [ 9  9]\n",
      " [ 8 10]\n",
      " [ 7 11]\n",
      " [ 6 12]\n",
      " [ 5 13]\n",
      " [ 4 14]\n",
      " [ 3 15]\n",
      " [ 2 16]\n",
      " [ 1 17]\n",
      " [ 0 18]\n",
      " [19  0]\n",
      " [18  1]\n",
      " [17  2]\n",
      " [16  3]\n",
      " [15  4]\n",
      " [14  5]\n",
      " [13  6]\n",
      " [12  7]\n",
      " [11  8]\n",
      " [10  9]\n",
      " [ 9 10]\n",
      " [ 8 11]\n",
      " [ 7 12]\n",
      " [ 6 13]\n",
      " [ 5 14]\n",
      " [ 4 15]\n",
      " [ 3 16]\n",
      " [ 2 17]\n",
      " [ 1 18]\n",
      " [ 0 19]\n",
      " [20  0]\n",
      " [19  1]\n",
      " [18  2]\n",
      " [17  3]\n",
      " [16  4]\n",
      " [15  5]\n",
      " [14  6]\n",
      " [13  7]\n",
      " [12  8]\n",
      " [11  9]\n",
      " [10 10]\n",
      " [ 9 11]\n",
      " [ 8 12]\n",
      " [ 7 13]\n",
      " [ 6 14]\n",
      " [ 5 15]\n",
      " [ 4 16]\n",
      " [ 3 17]\n",
      " [ 2 18]\n",
      " [ 1 19]\n",
      " [ 0 20]\n",
      " [21  0]\n",
      " [20  1]\n",
      " [19  2]\n",
      " [18  3]\n",
      " [17  4]\n",
      " [16  5]\n",
      " [15  6]\n",
      " [14  7]\n",
      " [13  8]\n",
      " [12  9]\n",
      " [11 10]\n",
      " [10 11]\n",
      " [ 9 12]\n",
      " [ 8 13]\n",
      " [ 7 14]\n",
      " [ 6 15]\n",
      " [ 5 16]\n",
      " [ 4 17]\n",
      " [ 3 18]\n",
      " [ 2 19]\n",
      " [ 1 20]\n",
      " [ 0 21]\n",
      " [22  0]\n",
      " [21  1]\n",
      " [20  2]\n",
      " [19  3]\n",
      " [18  4]\n",
      " [17  5]\n",
      " [16  6]\n",
      " [15  7]\n",
      " [14  8]\n",
      " [13  9]\n",
      " [12 10]\n",
      " [11 11]\n",
      " [10 12]\n",
      " [ 9 13]\n",
      " [ 8 14]\n",
      " [ 7 15]\n",
      " [ 6 16]\n",
      " [ 5 17]\n",
      " [ 4 18]\n",
      " [ 3 19]\n",
      " [ 2 20]\n",
      " [ 1 21]\n",
      " [ 0 22]\n",
      " [23  0]\n",
      " [22  1]\n",
      " [21  2]\n",
      " [20  3]\n",
      " [19  4]\n",
      " [18  5]\n",
      " [17  6]\n",
      " [16  7]\n",
      " [15  8]\n",
      " [14  9]\n",
      " [13 10]\n",
      " [12 11]\n",
      " [11 12]\n",
      " [10 13]\n",
      " [ 9 14]\n",
      " [ 8 15]\n",
      " [ 7 16]\n",
      " [ 6 17]\n",
      " [ 5 18]\n",
      " [ 4 19]\n",
      " [ 3 20]\n",
      " [ 2 21]\n",
      " [ 1 22]\n",
      " [ 0 23]\n",
      " [24  0]\n",
      " [23  1]\n",
      " [22  2]\n",
      " [21  3]\n",
      " [20  4]\n",
      " [19  5]\n",
      " [18  6]\n",
      " [17  7]\n",
      " [16  8]\n",
      " [15  9]\n",
      " [14 10]\n",
      " [13 11]\n",
      " [12 12]\n",
      " [11 13]\n",
      " [10 14]\n",
      " [ 9 15]\n",
      " [ 8 16]\n",
      " [ 7 17]\n",
      " [ 6 18]\n",
      " [ 5 19]\n",
      " [ 4 20]\n",
      " [ 3 21]\n",
      " [ 2 22]\n",
      " [ 1 23]\n",
      " [ 0 24]\n",
      " [25  0]\n",
      " [24  1]\n",
      " [23  2]\n",
      " [22  3]\n",
      " [21  4]\n",
      " [20  5]\n",
      " [19  6]\n",
      " [18  7]\n",
      " [17  8]\n",
      " [16  9]\n",
      " [15 10]\n",
      " [14 11]\n",
      " [13 12]\n",
      " [12 13]\n",
      " [11 14]\n",
      " [10 15]\n",
      " [ 9 16]\n",
      " [ 8 17]\n",
      " [ 7 18]\n",
      " [ 6 19]\n",
      " [ 5 20]\n",
      " [ 4 21]\n",
      " [ 3 22]\n",
      " [ 2 23]\n",
      " [ 1 24]\n",
      " [ 0 25]\n",
      " [26  0]\n",
      " [25  1]\n",
      " [24  2]\n",
      " [23  3]\n",
      " [22  4]\n",
      " [21  5]\n",
      " [20  6]\n",
      " [19  7]\n",
      " [18  8]\n",
      " [17  9]\n",
      " [16 10]\n",
      " [15 11]\n",
      " [14 12]\n",
      " [13 13]\n",
      " [12 14]\n",
      " [11 15]\n",
      " [10 16]\n",
      " [ 9 17]\n",
      " [ 8 18]\n",
      " [ 7 19]\n",
      " [ 6 20]\n",
      " [ 5 21]\n",
      " [ 4 22]\n",
      " [ 3 23]\n",
      " [ 2 24]\n",
      " [ 1 25]\n",
      " [ 0 26]\n",
      " [27  0]\n",
      " [26  1]\n",
      " [25  2]\n",
      " [24  3]\n",
      " [23  4]\n",
      " [22  5]\n",
      " [21  6]\n",
      " [20  7]\n",
      " [19  8]\n",
      " [18  9]\n",
      " [17 10]\n",
      " [16 11]\n",
      " [15 12]\n",
      " [14 13]\n",
      " [13 14]\n",
      " [12 15]\n",
      " [11 16]\n",
      " [10 17]\n",
      " [ 9 18]\n",
      " [ 8 19]\n",
      " [ 7 20]\n",
      " [ 6 21]\n",
      " [ 5 22]\n",
      " [ 4 23]\n",
      " [ 3 24]\n",
      " [ 2 25]\n",
      " [ 1 26]\n",
      " [ 0 27]\n",
      " [28  0]\n",
      " [27  1]\n",
      " [26  2]\n",
      " [25  3]\n",
      " [24  4]\n",
      " [23  5]\n",
      " [22  6]\n",
      " [21  7]\n",
      " [20  8]\n",
      " [19  9]\n",
      " [18 10]\n",
      " [17 11]\n",
      " [16 12]\n",
      " [15 13]\n",
      " [14 14]\n",
      " [13 15]\n",
      " [12 16]\n",
      " [11 17]\n",
      " [10 18]\n",
      " [ 9 19]\n",
      " [ 8 20]\n",
      " [ 7 21]\n",
      " [ 6 22]\n",
      " [ 5 23]\n",
      " [ 4 24]\n",
      " [ 3 25]\n",
      " [ 2 26]\n",
      " [ 1 27]\n",
      " [ 0 28]\n",
      " [29  0]\n",
      " [28  1]\n",
      " [27  2]\n",
      " [26  3]\n",
      " [25  4]\n",
      " [24  5]\n",
      " [23  6]\n",
      " [22  7]\n",
      " [21  8]\n",
      " [20  9]\n",
      " [19 10]\n",
      " [18 11]\n",
      " [17 12]\n",
      " [16 13]\n",
      " [15 14]\n",
      " [14 15]\n",
      " [13 16]\n",
      " [12 17]\n",
      " [11 18]\n",
      " [10 19]\n",
      " [ 9 20]\n",
      " [ 8 21]\n",
      " [ 7 22]\n",
      " [ 6 23]\n",
      " [ 5 24]\n",
      " [ 4 25]\n",
      " [ 3 26]\n",
      " [ 2 27]\n",
      " [ 1 28]\n",
      " [ 0 29]\n",
      " [30  0]\n",
      " [29  1]\n",
      " [28  2]\n",
      " [27  3]\n",
      " [26  4]\n",
      " [25  5]\n",
      " [24  6]\n",
      " [23  7]\n",
      " [22  8]\n",
      " [21  9]\n",
      " [20 10]\n",
      " [19 11]\n",
      " [18 12]\n",
      " [17 13]\n",
      " [16 14]\n",
      " [15 15]\n",
      " [14 16]\n",
      " [13 17]\n",
      " [12 18]\n",
      " [11 19]\n",
      " [10 20]\n",
      " [ 9 21]\n",
      " [ 8 22]\n",
      " [ 7 23]\n",
      " [ 6 24]\n",
      " [ 5 25]\n",
      " [ 4 26]\n",
      " [ 3 27]\n",
      " [ 2 28]\n",
      " [ 1 29]\n",
      " [ 0 30]]\n"
     ]
    }
   ],
   "source": [
    "\n",
    "print(\"Powers\\n\",poly.powers_)"
   ]
  },
  {
   "cell_type": "code",
   "execution_count": 24,
   "id": "fe3ee007",
   "metadata": {
    "execution": {
     "iopub.execute_input": "2024-08-29T13:51:42.709759Z",
     "iopub.status.busy": "2024-08-29T13:51:42.709315Z",
     "iopub.status.idle": "2024-08-29T13:51:42.729955Z",
     "shell.execute_reply": "2024-08-29T13:51:42.728968Z"
    },
    "papermill": {
     "duration": 0.040517,
     "end_time": "2024-08-29T13:51:42.733231",
     "exception": false,
     "start_time": "2024-08-29T13:51:42.692714",
     "status": "completed"
    },
    "tags": []
   },
   "outputs": [
    {
     "data": {
      "text/html": [
       "<style>#sk-container-id-3 {color: black;background-color: white;}#sk-container-id-3 pre{padding: 0;}#sk-container-id-3 div.sk-toggleable {background-color: white;}#sk-container-id-3 label.sk-toggleable__label {cursor: pointer;display: block;width: 100%;margin-bottom: 0;padding: 0.3em;box-sizing: border-box;text-align: center;}#sk-container-id-3 label.sk-toggleable__label-arrow:before {content: \"▸\";float: left;margin-right: 0.25em;color: #696969;}#sk-container-id-3 label.sk-toggleable__label-arrow:hover:before {color: black;}#sk-container-id-3 div.sk-estimator:hover label.sk-toggleable__label-arrow:before {color: black;}#sk-container-id-3 div.sk-toggleable__content {max-height: 0;max-width: 0;overflow: hidden;text-align: left;background-color: #f0f8ff;}#sk-container-id-3 div.sk-toggleable__content pre {margin: 0.2em;color: black;border-radius: 0.25em;background-color: #f0f8ff;}#sk-container-id-3 input.sk-toggleable__control:checked~div.sk-toggleable__content {max-height: 200px;max-width: 100%;overflow: auto;}#sk-container-id-3 input.sk-toggleable__control:checked~label.sk-toggleable__label-arrow:before {content: \"▾\";}#sk-container-id-3 div.sk-estimator input.sk-toggleable__control:checked~label.sk-toggleable__label {background-color: #d4ebff;}#sk-container-id-3 div.sk-label input.sk-toggleable__control:checked~label.sk-toggleable__label {background-color: #d4ebff;}#sk-container-id-3 input.sk-hidden--visually {border: 0;clip: rect(1px 1px 1px 1px);clip: rect(1px, 1px, 1px, 1px);height: 1px;margin: -1px;overflow: hidden;padding: 0;position: absolute;width: 1px;}#sk-container-id-3 div.sk-estimator {font-family: monospace;background-color: #f0f8ff;border: 1px dotted black;border-radius: 0.25em;box-sizing: border-box;margin-bottom: 0.5em;}#sk-container-id-3 div.sk-estimator:hover {background-color: #d4ebff;}#sk-container-id-3 div.sk-parallel-item::after {content: \"\";width: 100%;border-bottom: 1px solid gray;flex-grow: 1;}#sk-container-id-3 div.sk-label:hover label.sk-toggleable__label {background-color: #d4ebff;}#sk-container-id-3 div.sk-serial::before {content: \"\";position: absolute;border-left: 1px solid gray;box-sizing: border-box;top: 0;bottom: 0;left: 50%;z-index: 0;}#sk-container-id-3 div.sk-serial {display: flex;flex-direction: column;align-items: center;background-color: white;padding-right: 0.2em;padding-left: 0.2em;position: relative;}#sk-container-id-3 div.sk-item {position: relative;z-index: 1;}#sk-container-id-3 div.sk-parallel {display: flex;align-items: stretch;justify-content: center;background-color: white;position: relative;}#sk-container-id-3 div.sk-item::before, #sk-container-id-3 div.sk-parallel-item::before {content: \"\";position: absolute;border-left: 1px solid gray;box-sizing: border-box;top: 0;bottom: 0;left: 50%;z-index: -1;}#sk-container-id-3 div.sk-parallel-item {display: flex;flex-direction: column;z-index: 1;position: relative;background-color: white;}#sk-container-id-3 div.sk-parallel-item:first-child::after {align-self: flex-end;width: 50%;}#sk-container-id-3 div.sk-parallel-item:last-child::after {align-self: flex-start;width: 50%;}#sk-container-id-3 div.sk-parallel-item:only-child::after {width: 0;}#sk-container-id-3 div.sk-dashed-wrapped {border: 1px dashed gray;margin: 0 0.4em 0.5em 0.4em;box-sizing: border-box;padding-bottom: 0.4em;background-color: white;}#sk-container-id-3 div.sk-label label {font-family: monospace;font-weight: bold;display: inline-block;line-height: 1.2em;}#sk-container-id-3 div.sk-label-container {text-align: center;}#sk-container-id-3 div.sk-container {/* jupyter's `normalize.less` sets `[hidden] { display: none; }` but bootstrap.min.css set `[hidden] { display: none !important; }` so we also need the `!important` here to be able to override the default hidden behavior on the sphinx rendered scikit-learn.org. See: https://github.com/scikit-learn/scikit-learn/issues/21755 */display: inline-block !important;position: relative;}#sk-container-id-3 div.sk-text-repr-fallback {display: none;}</style><div id=\"sk-container-id-3\" class=\"sk-top-container\"><div class=\"sk-text-repr-fallback\"><pre>LinearRegression()</pre><b>In a Jupyter environment, please rerun this cell to show the HTML representation or trust the notebook. <br />On GitHub, the HTML representation is unable to render, please try loading this page with nbviewer.org.</b></div><div class=\"sk-container\" hidden><div class=\"sk-item\"><div class=\"sk-estimator sk-toggleable\"><input class=\"sk-toggleable__control sk-hidden--visually\" id=\"sk-estimator-id-3\" type=\"checkbox\" checked><label for=\"sk-estimator-id-3\" class=\"sk-toggleable__label sk-toggleable__label-arrow\">LinearRegression</label><div class=\"sk-toggleable__content\"><pre>LinearRegression()</pre></div></div></div></div></div>"
      ],
      "text/plain": [
       "LinearRegression()"
      ]
     },
     "execution_count": 24,
     "metadata": {},
     "output_type": "execute_result"
    }
   ],
   "source": [
    "lr = LinearRegression()\n",
    "lr.fit(X_multi_trans,z)"
   ]
  },
  {
   "cell_type": "code",
   "execution_count": 25,
   "id": "6df89a4d",
   "metadata": {
    "execution": {
     "iopub.execute_input": "2024-08-29T13:51:42.775387Z",
     "iopub.status.busy": "2024-08-29T13:51:42.774742Z",
     "iopub.status.idle": "2024-08-29T13:51:42.781521Z",
     "shell.execute_reply": "2024-08-29T13:51:42.780511Z"
    },
    "papermill": {
     "duration": 0.031752,
     "end_time": "2024-08-29T13:51:42.784764",
     "exception": false,
     "start_time": "2024-08-29T13:51:42.753012",
     "status": "completed"
    },
    "tags": []
   },
   "outputs": [],
   "source": [
    "X_test_multi = poly.transform(final)\n"
   ]
  },
  {
   "cell_type": "code",
   "execution_count": 26,
   "id": "4a0dc176",
   "metadata": {
    "execution": {
     "iopub.execute_input": "2024-08-29T13:51:42.826944Z",
     "iopub.status.busy": "2024-08-29T13:51:42.826331Z",
     "iopub.status.idle": "2024-08-29T13:51:42.835740Z",
     "shell.execute_reply": "2024-08-29T13:51:42.834465Z"
    },
    "papermill": {
     "duration": 0.039681,
     "end_time": "2024-08-29T13:51:42.844687",
     "exception": false,
     "start_time": "2024-08-29T13:51:42.805006",
     "status": "completed"
    },
    "tags": []
   },
   "outputs": [],
   "source": [
    "z_final = lr.predict(X_multi_trans).reshape(10,10)"
   ]
  },
  {
   "cell_type": "code",
   "execution_count": 27,
   "id": "4374d886",
   "metadata": {
    "execution": {
     "iopub.execute_input": "2024-08-29T13:51:42.909044Z",
     "iopub.status.busy": "2024-08-29T13:51:42.908117Z",
     "iopub.status.idle": "2024-08-29T13:51:43.006666Z",
     "shell.execute_reply": "2024-08-29T13:51:43.005427Z"
    },
    "papermill": {
     "duration": 0.134255,
     "end_time": "2024-08-29T13:51:43.009315",
     "exception": false,
     "start_time": "2024-08-29T13:51:42.875060",
     "status": "completed"
    },
    "tags": []
   },
   "outputs": [
    {
     "data": {
      "text/html": [
       "<div>                            <div id=\"d37b8200-a9b4-4752-9278-932c9e52fd54\" class=\"plotly-graph-div\" style=\"height:525px; width:100%;\"></div>            <script type=\"text/javascript\">                require([\"plotly\"], function(Plotly) {                    window.PLOTLYENV=window.PLOTLYENV || {};                                    if (document.getElementById(\"d37b8200-a9b4-4752-9278-932c9e52fd54\")) {                    Plotly.newPlot(                        \"d37b8200-a9b4-4752-9278-932c9e52fd54\",                        [{\"hovertemplate\":\"x=%{x}\\u003cbr\\u003ey=%{y}\\u003cbr\\u003ez=%{z}\\u003cextra\\u003e\\u003c\\u002fextra\\u003e\",\"legendgroup\":\"\",\"marker\":{\"color\":\"#636efa\",\"symbol\":\"circle\"},\"mode\":\"markers\",\"name\":\"\",\"scene\":\"scene\",\"showlegend\":false,\"x\":[-1.760225631225361,-1.448149656557982,2.9668658067008646,-0.2714010420910502,0.43303169338673175,1.2548616364209026,0.28413805092476574,3.050948817254744,0.19232271279674684,3.4985037428074666,-1.796416086496944,0.8616467797726362,-1.6472508251004547,-1.2231454148926202,0.6944821771980121,2.7213601832664756,-0.5082462581703129,-2.59956293145433,4.152225841599308,-2.394088617251856,2.478225749537928,3.8300653545627794,2.6988952836230906,-2.4384403791194282,3.596274375634093,-0.07646269551570217,-1.4517635623970109,-2.0199447922019504,2.9854956717174366,1.154547631851913,2.8509155319527757,0.5826747670755328,3.288850990617152,1.0455872928626504,0.8145599542837614,-1.2705872590484883,-1.987859669565169,3.399604382420465,0.09900426084652914,-2.4368676430976812,-2.3022584875350836,3.867463878129276,2.141018950571085,3.9667422378745583,-0.9894291668038273,1.4970788972803852,0.1650673599972885,1.9807084130086698,-0.1488060906985358,-0.9297431743110538,4.122653588845438,0.1421126058939861,-2.5987939788671817,3.7039070680389985,1.047096254829318,3.7889666158104625,-1.205875181652571,2.234835751889099,3.6846889112903476,3.473735163135216,3.4841920776719286,-1.6261890614882142,2.399923518890289,1.2298275024528218,-0.6770226280937672,1.8997549629399906,-0.024477845517100416,-2.6667859217355967,-1.4695191749571963,0.09761747535655108,0.7402534229331481,3.4510794999520726,2.0168593637936363,3.8815310572752013,-0.12216959323993537,-1.3713635742791435,-1.3370176317408031,-0.3278238225689485,-0.5878512413651182,-0.8994229290523637,-0.8283424587860542,-2.2812718654544177,3.933956482423076,-1.7133306306427312,1.1789628760029336,2.3205044284831153,3.873487527613472,0.8039395783959975,2.067721370084887,-1.6231909562015316,-1.019624571191406,-0.04467906998660709,-1.5655598244323001,0.2620335726123906,2.5714087889734722,-2.727855667054539,-0.6188513201693797,2.5409611008289863,0.7612325485138669,2.5615159018384768],\"y\":[-0.5334687819299582,1.5192409954605894,3.5206129775079216,-0.12932572107950602,1.2697486070449608,-2.4709350803200487,-1.294181850681073,3.337900153648225,0.5671851121267064,-2.5872477289797557,-0.40386010882835954,4.081030761696863,2.962230162467046,1.0811339311830674,-2.600789840622206,2.126195181467966,2.446198764963322,2.057013794873712,3.5079431995687287,2.8844660554941752,2.080913499886898,-0.7871375644878267,-0.8101776755183963,1.870281654679169,2.171676882036633,1.765438149405833,4.1989090232456565,-0.7101700741340009,-2.515461471134082,1.885688431368794,-0.8657904111630526,-1.349372244728892,-2.0559304077976104,-0.08183394125488519,4.172545485064867,-2.7712744215818406,1.189677257339362,0.34612774092618714,2.4609649327070438,0.1547645936778279,-1.692449726502482,-1.747276419162201,1.1478659732574794,2.2815573392477004,-2.148342292532101,3.5280113886292916,2.5159789836511415,2.2650664570322165,1.8104606006998427,1.853900762532363,2.1150212775619934,3.0631391080294668,-2.53638093964906,1.2388432603770125,-1.8132814719479469,2.177718606847473,-2.603183786852248,3.4441278970011657,-1.2400201367773915,2.5731636133559554,0.4655996088589216,-2.4466356810894245,-0.909944201063714,-0.5768895039544137,0.2341966222198919,2.6122293206526948,0.8803942547575319,1.846456945067981,-0.3000893945153962,-1.722588033165188,1.8305766051078622,0.7749228786954054,1.754826937732087,1.5997944561502617,-2.2451858837099685,1.380721791751343,-0.6525077835418913,3.219196908790786,1.2194991222223317,2.355231011353614,-2.0800419988052363,1.4794193818504633,-1.5030004630292042,0.2726152887704729,-1.6278860153213746,2.4880970808536853,2.7200636581072164,-0.4872890758447568,-0.46173152466636846,1.4062613500476866,-0.9088938013513104,-2.598311953653628,1.4499939416667011,-0.12094513014876007,0.45955200564294163,0.9956827813746227,0.7915590892330822,-2.703047065082769,-1.8726139837791314,-1.5989566401909068],\"z\":[5.9461274705810006,3.6831686998047526,26.01061665926045,2.2834305810777438,2.3957299893853574,10.087925155207074,2.7942296843602916,25.476290866239665,1.971694666759668,20.484134681351275,1.3932099529756812,21.925196647372992,13.498594667627106,5.607227441961095,9.374625576947997,14.96490920541364,9.5207804250256,12.37815123789183,33.28891268499109,17.019650101402423,15.030424895933642,17.147837081258142,9.451008721967034,9.086476008426793,20.478279147602656,5.4739676116373275,21.835197733976344,6.053174262058687,17.961405705483063,7.8717933259975865,11.205650728314577,4.738673193542784,15.190357568406817,3.3051167667647166,22.06867205169344,10.695042043790592,6.949480003191547,14.770180135139206,8.87113019251995,8.51917456256792,9.650632816948866,17.40793139038144,8.000842381122357,26.45384011019763,6.882833300248797,19.71309608665498,9.281923757659637,12.319126403693852,5.537494078414404,5.928342278937544,24.781352403465185,13.810620758388998,13.740569604109275,16.497731024082892,4.643124167752065,20.41808931647804,9.899420838062511,21.043368750847293,16.821767639438214,22.409175145763424,14.198922455556485,9.33146624060223,8.817594026312602,4.427019411162091,3.662273597948394,12.360490181727386,2.7205061120374507,11.787900778428854,5.653307500823965,5.9617628108823135,6.994334219291697,16.286652146598094,8.460654430015605,21.620713505703073,7.247510425372759,7.254560769642984,3.216669195152671,13.972259810180061,4.4284429595806225,8.225964915335089,5.800386719316308,8.129152492545368,17.971026355731375,4.161420509580939,5.787840142307464,15.84233212308939,26.60381415633448,2.420343605965238,7.169916676488823,5.833554245020605,3.1409767342539974,8.21900331378036,6.424541983401201,1.7667785836048355,9.193396008632948,10.568290580672643,3.04997071746599,14.278285109625934,5.462090836409904,8.766512538161939],\"type\":\"scatter3d\"},{\"x\":[-2.727855667054539,-1.9634021660930006,-1.198948665131462,-0.4344951641699235,0.329958336791615,1.0944118377531535,1.858865338714692,2.6233188396762306,3.387772340637769,4.152225841599308],\"y\":[-2.7712744215818406,-1.9968095943787854,-1.2223447671757302,-0.44787993997267517,0.32658488723038026,1.1010497144334357,1.8755145416364902,2.6499793688395457,3.424444196042601,4.1989090232456565],\"z\":[[5.605802293468468,3.285389907457965,14.260650269091645,2.3034207334603245,2.3923993183161194,10.04328875078836,3.7452428788274226,24.7619391195803,2.703870201748895,20.486230380633014],[1.395410068133014,21.921284265616077,13.475244052508014,5.583178609865126,10.07763577232613,16.206020481684345,9.537980563738483,14.259781048663255,33.28789282570138,16.935615655533137],[15.032861240008014,17.152001865008014,13.87336465991095,9.13448956910197,14.248010283226066,5.458886630633014,21.834680087664264,6.052222735979694,17.964303700620757,7.876367099383014],[11.205041415789264,4.7344857303286965,15.438983441685263,3.292363691874879,12.76094383492667,10.698810584643024,6.950646884539264,14.2256974384826,13.966594721169267,14.248007273474565],[9.647426161132852,17.408105380633014,7.89476578066019,26.452538974383014,6.85781103797849,14.24673706607763,10.370215057376868,12.318971760370868,5.757130308924342,5.715237643660611],[14.565491465474718,13.848504550554889,14.094107215209032,16.495335586168903,4.00379251575573,20.426049716570514,8.582864053347247,20.867453455724853,16.92694774250044,22.408227450945514],[14.175684223682719,8.980933553008423,8.80866022015466,4.423730380633014,4.494117179685372,14.33205589679016,2.7092185706751017,11.826074130633014,14.087648571173837,6.055674508013862],[6.969964988596939,16.340558761203237,8.459970004656451,21.73099703321709,7.223395626509909,7.255440480806964,2.8576028400893385,13.984526984309877,4.427850253679889,8.678926715427178],[5.589043605057622,14.247823827339028,18.029862190222,3.3802250853975515,5.924522508202809,15.783631377623305,26.604409497556343,2.453618071423943,7.173099905052322,5.819875943914621],[3.133023485646799,11.950585633083932,6.9763308416913326,1.4833381546522553,14.35304309485637,10.157781312042015,2.4984717970252746,14.248249533306947,5.531951457993227,8.777697317515003]],\"type\":\"surface\"}],                        {\"template\":{\"data\":{\"histogram2dcontour\":[{\"type\":\"histogram2dcontour\",\"colorbar\":{\"outlinewidth\":0,\"ticks\":\"\"},\"colorscale\":[[0.0,\"#0d0887\"],[0.1111111111111111,\"#46039f\"],[0.2222222222222222,\"#7201a8\"],[0.3333333333333333,\"#9c179e\"],[0.4444444444444444,\"#bd3786\"],[0.5555555555555556,\"#d8576b\"],[0.6666666666666666,\"#ed7953\"],[0.7777777777777778,\"#fb9f3a\"],[0.8888888888888888,\"#fdca26\"],[1.0,\"#f0f921\"]]}],\"choropleth\":[{\"type\":\"choropleth\",\"colorbar\":{\"outlinewidth\":0,\"ticks\":\"\"}}],\"histogram2d\":[{\"type\":\"histogram2d\",\"colorbar\":{\"outlinewidth\":0,\"ticks\":\"\"},\"colorscale\":[[0.0,\"#0d0887\"],[0.1111111111111111,\"#46039f\"],[0.2222222222222222,\"#7201a8\"],[0.3333333333333333,\"#9c179e\"],[0.4444444444444444,\"#bd3786\"],[0.5555555555555556,\"#d8576b\"],[0.6666666666666666,\"#ed7953\"],[0.7777777777777778,\"#fb9f3a\"],[0.8888888888888888,\"#fdca26\"],[1.0,\"#f0f921\"]]}],\"heatmap\":[{\"type\":\"heatmap\",\"colorbar\":{\"outlinewidth\":0,\"ticks\":\"\"},\"colorscale\":[[0.0,\"#0d0887\"],[0.1111111111111111,\"#46039f\"],[0.2222222222222222,\"#7201a8\"],[0.3333333333333333,\"#9c179e\"],[0.4444444444444444,\"#bd3786\"],[0.5555555555555556,\"#d8576b\"],[0.6666666666666666,\"#ed7953\"],[0.7777777777777778,\"#fb9f3a\"],[0.8888888888888888,\"#fdca26\"],[1.0,\"#f0f921\"]]}],\"heatmapgl\":[{\"type\":\"heatmapgl\",\"colorbar\":{\"outlinewidth\":0,\"ticks\":\"\"},\"colorscale\":[[0.0,\"#0d0887\"],[0.1111111111111111,\"#46039f\"],[0.2222222222222222,\"#7201a8\"],[0.3333333333333333,\"#9c179e\"],[0.4444444444444444,\"#bd3786\"],[0.5555555555555556,\"#d8576b\"],[0.6666666666666666,\"#ed7953\"],[0.7777777777777778,\"#fb9f3a\"],[0.8888888888888888,\"#fdca26\"],[1.0,\"#f0f921\"]]}],\"contourcarpet\":[{\"type\":\"contourcarpet\",\"colorbar\":{\"outlinewidth\":0,\"ticks\":\"\"}}],\"contour\":[{\"type\":\"contour\",\"colorbar\":{\"outlinewidth\":0,\"ticks\":\"\"},\"colorscale\":[[0.0,\"#0d0887\"],[0.1111111111111111,\"#46039f\"],[0.2222222222222222,\"#7201a8\"],[0.3333333333333333,\"#9c179e\"],[0.4444444444444444,\"#bd3786\"],[0.5555555555555556,\"#d8576b\"],[0.6666666666666666,\"#ed7953\"],[0.7777777777777778,\"#fb9f3a\"],[0.8888888888888888,\"#fdca26\"],[1.0,\"#f0f921\"]]}],\"surface\":[{\"type\":\"surface\",\"colorbar\":{\"outlinewidth\":0,\"ticks\":\"\"},\"colorscale\":[[0.0,\"#0d0887\"],[0.1111111111111111,\"#46039f\"],[0.2222222222222222,\"#7201a8\"],[0.3333333333333333,\"#9c179e\"],[0.4444444444444444,\"#bd3786\"],[0.5555555555555556,\"#d8576b\"],[0.6666666666666666,\"#ed7953\"],[0.7777777777777778,\"#fb9f3a\"],[0.8888888888888888,\"#fdca26\"],[1.0,\"#f0f921\"]]}],\"mesh3d\":[{\"type\":\"mesh3d\",\"colorbar\":{\"outlinewidth\":0,\"ticks\":\"\"}}],\"scatter\":[{\"fillpattern\":{\"fillmode\":\"overlay\",\"size\":10,\"solidity\":0.2},\"type\":\"scatter\"}],\"parcoords\":[{\"type\":\"parcoords\",\"line\":{\"colorbar\":{\"outlinewidth\":0,\"ticks\":\"\"}}}],\"scatterpolargl\":[{\"type\":\"scatterpolargl\",\"marker\":{\"colorbar\":{\"outlinewidth\":0,\"ticks\":\"\"}}}],\"bar\":[{\"error_x\":{\"color\":\"#2a3f5f\"},\"error_y\":{\"color\":\"#2a3f5f\"},\"marker\":{\"line\":{\"color\":\"#E5ECF6\",\"width\":0.5},\"pattern\":{\"fillmode\":\"overlay\",\"size\":10,\"solidity\":0.2}},\"type\":\"bar\"}],\"scattergeo\":[{\"type\":\"scattergeo\",\"marker\":{\"colorbar\":{\"outlinewidth\":0,\"ticks\":\"\"}}}],\"scatterpolar\":[{\"type\":\"scatterpolar\",\"marker\":{\"colorbar\":{\"outlinewidth\":0,\"ticks\":\"\"}}}],\"histogram\":[{\"marker\":{\"pattern\":{\"fillmode\":\"overlay\",\"size\":10,\"solidity\":0.2}},\"type\":\"histogram\"}],\"scattergl\":[{\"type\":\"scattergl\",\"marker\":{\"colorbar\":{\"outlinewidth\":0,\"ticks\":\"\"}}}],\"scatter3d\":[{\"type\":\"scatter3d\",\"line\":{\"colorbar\":{\"outlinewidth\":0,\"ticks\":\"\"}},\"marker\":{\"colorbar\":{\"outlinewidth\":0,\"ticks\":\"\"}}}],\"scattermapbox\":[{\"type\":\"scattermapbox\",\"marker\":{\"colorbar\":{\"outlinewidth\":0,\"ticks\":\"\"}}}],\"scatterternary\":[{\"type\":\"scatterternary\",\"marker\":{\"colorbar\":{\"outlinewidth\":0,\"ticks\":\"\"}}}],\"scattercarpet\":[{\"type\":\"scattercarpet\",\"marker\":{\"colorbar\":{\"outlinewidth\":0,\"ticks\":\"\"}}}],\"carpet\":[{\"aaxis\":{\"endlinecolor\":\"#2a3f5f\",\"gridcolor\":\"white\",\"linecolor\":\"white\",\"minorgridcolor\":\"white\",\"startlinecolor\":\"#2a3f5f\"},\"baxis\":{\"endlinecolor\":\"#2a3f5f\",\"gridcolor\":\"white\",\"linecolor\":\"white\",\"minorgridcolor\":\"white\",\"startlinecolor\":\"#2a3f5f\"},\"type\":\"carpet\"}],\"table\":[{\"cells\":{\"fill\":{\"color\":\"#EBF0F8\"},\"line\":{\"color\":\"white\"}},\"header\":{\"fill\":{\"color\":\"#C8D4E3\"},\"line\":{\"color\":\"white\"}},\"type\":\"table\"}],\"barpolar\":[{\"marker\":{\"line\":{\"color\":\"#E5ECF6\",\"width\":0.5},\"pattern\":{\"fillmode\":\"overlay\",\"size\":10,\"solidity\":0.2}},\"type\":\"barpolar\"}],\"pie\":[{\"automargin\":true,\"type\":\"pie\"}]},\"layout\":{\"autotypenumbers\":\"strict\",\"colorway\":[\"#636efa\",\"#EF553B\",\"#00cc96\",\"#ab63fa\",\"#FFA15A\",\"#19d3f3\",\"#FF6692\",\"#B6E880\",\"#FF97FF\",\"#FECB52\"],\"font\":{\"color\":\"#2a3f5f\"},\"hovermode\":\"closest\",\"hoverlabel\":{\"align\":\"left\"},\"paper_bgcolor\":\"white\",\"plot_bgcolor\":\"#E5ECF6\",\"polar\":{\"bgcolor\":\"#E5ECF6\",\"angularaxis\":{\"gridcolor\":\"white\",\"linecolor\":\"white\",\"ticks\":\"\"},\"radialaxis\":{\"gridcolor\":\"white\",\"linecolor\":\"white\",\"ticks\":\"\"}},\"ternary\":{\"bgcolor\":\"#E5ECF6\",\"aaxis\":{\"gridcolor\":\"white\",\"linecolor\":\"white\",\"ticks\":\"\"},\"baxis\":{\"gridcolor\":\"white\",\"linecolor\":\"white\",\"ticks\":\"\"},\"caxis\":{\"gridcolor\":\"white\",\"linecolor\":\"white\",\"ticks\":\"\"}},\"coloraxis\":{\"colorbar\":{\"outlinewidth\":0,\"ticks\":\"\"}},\"colorscale\":{\"sequential\":[[0.0,\"#0d0887\"],[0.1111111111111111,\"#46039f\"],[0.2222222222222222,\"#7201a8\"],[0.3333333333333333,\"#9c179e\"],[0.4444444444444444,\"#bd3786\"],[0.5555555555555556,\"#d8576b\"],[0.6666666666666666,\"#ed7953\"],[0.7777777777777778,\"#fb9f3a\"],[0.8888888888888888,\"#fdca26\"],[1.0,\"#f0f921\"]],\"sequentialminus\":[[0.0,\"#0d0887\"],[0.1111111111111111,\"#46039f\"],[0.2222222222222222,\"#7201a8\"],[0.3333333333333333,\"#9c179e\"],[0.4444444444444444,\"#bd3786\"],[0.5555555555555556,\"#d8576b\"],[0.6666666666666666,\"#ed7953\"],[0.7777777777777778,\"#fb9f3a\"],[0.8888888888888888,\"#fdca26\"],[1.0,\"#f0f921\"]],\"diverging\":[[0,\"#8e0152\"],[0.1,\"#c51b7d\"],[0.2,\"#de77ae\"],[0.3,\"#f1b6da\"],[0.4,\"#fde0ef\"],[0.5,\"#f7f7f7\"],[0.6,\"#e6f5d0\"],[0.7,\"#b8e186\"],[0.8,\"#7fbc41\"],[0.9,\"#4d9221\"],[1,\"#276419\"]]},\"xaxis\":{\"gridcolor\":\"white\",\"linecolor\":\"white\",\"ticks\":\"\",\"title\":{\"standoff\":15},\"zerolinecolor\":\"white\",\"automargin\":true,\"zerolinewidth\":2},\"yaxis\":{\"gridcolor\":\"white\",\"linecolor\":\"white\",\"ticks\":\"\",\"title\":{\"standoff\":15},\"zerolinecolor\":\"white\",\"automargin\":true,\"zerolinewidth\":2},\"scene\":{\"xaxis\":{\"backgroundcolor\":\"#E5ECF6\",\"gridcolor\":\"white\",\"linecolor\":\"white\",\"showbackground\":true,\"ticks\":\"\",\"zerolinecolor\":\"white\",\"gridwidth\":2},\"yaxis\":{\"backgroundcolor\":\"#E5ECF6\",\"gridcolor\":\"white\",\"linecolor\":\"white\",\"showbackground\":true,\"ticks\":\"\",\"zerolinecolor\":\"white\",\"gridwidth\":2},\"zaxis\":{\"backgroundcolor\":\"#E5ECF6\",\"gridcolor\":\"white\",\"linecolor\":\"white\",\"showbackground\":true,\"ticks\":\"\",\"zerolinecolor\":\"white\",\"gridwidth\":2}},\"shapedefaults\":{\"line\":{\"color\":\"#2a3f5f\"}},\"annotationdefaults\":{\"arrowcolor\":\"#2a3f5f\",\"arrowhead\":0,\"arrowwidth\":1},\"geo\":{\"bgcolor\":\"white\",\"landcolor\":\"#E5ECF6\",\"subunitcolor\":\"white\",\"showland\":true,\"showlakes\":true,\"lakecolor\":\"white\"},\"title\":{\"x\":0.05},\"mapbox\":{\"style\":\"light\"}}},\"scene\":{\"domain\":{\"x\":[0.0,1.0],\"y\":[0.0,1.0]},\"xaxis\":{\"title\":{\"text\":\"x\"}},\"yaxis\":{\"title\":{\"text\":\"y\"}},\"zaxis\":{\"title\":{\"text\":\"z\"},\"range\":[0,35]}},\"legend\":{\"tracegroupgap\":0},\"margin\":{\"t\":60}},                        {\"responsive\": true}                    ).then(function(){\n",
       "                            \n",
       "var gd = document.getElementById('d37b8200-a9b4-4752-9278-932c9e52fd54');\n",
       "var x = new MutationObserver(function (mutations, observer) {{\n",
       "        var display = window.getComputedStyle(gd).display;\n",
       "        if (!display || display === 'none') {{\n",
       "            console.log([gd, 'removed!']);\n",
       "            Plotly.purge(gd);\n",
       "            observer.disconnect();\n",
       "        }}\n",
       "}});\n",
       "\n",
       "// Listen for the removal of the full notebook cells\n",
       "var notebookContainer = gd.closest('#notebook-container');\n",
       "if (notebookContainer) {{\n",
       "    x.observe(notebookContainer, {childList: true});\n",
       "}}\n",
       "\n",
       "// Listen for the clearing of the current output cell\n",
       "var outputEl = gd.closest('.output');\n",
       "if (outputEl) {{\n",
       "    x.observe(outputEl, {childList: true});\n",
       "}}\n",
       "\n",
       "                        })                };                });            </script>        </div>"
      ]
     },
     "metadata": {},
     "output_type": "display_data"
    }
   ],
   "source": [
    "fig = px.scatter_3d(x=x.ravel(), y=y.ravel(), z=z.ravel())\n",
    "\n",
    "fig.add_trace(go.Surface(x = x_input, y = y_input, z =z_final))\n",
    "\n",
    "fig.update_layout(scene = dict(zaxis = dict(range=[0,35])))\n",
    "\n",
    "fig.show()"
   ]
  },
  {
   "cell_type": "code",
   "execution_count": null,
   "id": "a377e4fa",
   "metadata": {
    "papermill": {
     "duration": 0.015739,
     "end_time": "2024-08-29T13:51:43.040703",
     "exception": false,
     "start_time": "2024-08-29T13:51:43.024964",
     "status": "completed"
    },
    "tags": []
   },
   "outputs": [],
   "source": []
  }
 ],
 "metadata": {
  "kaggle": {
   "accelerator": "none",
   "dataSources": [],
   "dockerImageVersionId": 30761,
   "isGpuEnabled": false,
   "isInternetEnabled": true,
   "language": "python",
   "sourceType": "notebook"
  },
  "kernelspec": {
   "display_name": "Python 3",
   "language": "python",
   "name": "python3"
  },
  "language_info": {
   "codemirror_mode": {
    "name": "ipython",
    "version": 3
   },
   "file_extension": ".py",
   "mimetype": "text/x-python",
   "name": "python",
   "nbconvert_exporter": "python",
   "pygments_lexer": "ipython3",
   "version": "3.10.14"
  },
  "papermill": {
   "default_parameters": {},
   "duration": 10.953985,
   "end_time": "2024-08-29T13:51:43.779229",
   "environment_variables": {},
   "exception": null,
   "input_path": "__notebook__.ipynb",
   "output_path": "__notebook__.ipynb",
   "parameters": {},
   "start_time": "2024-08-29T13:51:32.825244",
   "version": "2.6.0"
  }
 },
 "nbformat": 4,
 "nbformat_minor": 5
}
