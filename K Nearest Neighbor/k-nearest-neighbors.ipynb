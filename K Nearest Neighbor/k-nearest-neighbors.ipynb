{
 "cells": [
  {
   "cell_type": "code",
   "execution_count": 1,
   "id": "1c17859b",
   "metadata": {
    "_cell_guid": "b1076dfc-b9ad-4769-8c92-a6c4dae69d19",
    "_uuid": "8f2839f25d086af736a60e9eeb907d3b93b6e0e5",
    "execution": {
     "iopub.execute_input": "2024-08-17T11:24:49.437752Z",
     "iopub.status.busy": "2024-08-17T11:24:49.436303Z",
     "iopub.status.idle": "2024-08-17T11:24:50.423964Z",
     "shell.execute_reply": "2024-08-17T11:24:50.422619Z"
    },
    "papermill": {
     "duration": 1.001728,
     "end_time": "2024-08-17T11:24:50.426929",
     "exception": false,
     "start_time": "2024-08-17T11:24:49.425201",
     "status": "completed"
    },
    "tags": []
   },
   "outputs": [
    {
     "name": "stdout",
     "output_type": "stream",
     "text": [
      "/kaggle/input/breast-cancer-wisconsin-data/data.csv\n"
     ]
    }
   ],
   "source": [
    "# This Python 3 environment comes with many helpful analytics libraries installed\n",
    "# It is defined by the kaggle/python Docker image: https://github.com/kaggle/docker-python\n",
    "# For example, here's several helpful packages to load\n",
    "\n",
    "import numpy as np # linear algebra\n",
    "import pandas as pd # data processing, CSV file I/O (e.g. pd.read_csv)\n",
    "\n",
    "# Input data files are available in the read-only \"../input/\" directory\n",
    "# For example, running this (by clicking run or pressing Shift+Enter) will list all files under the input directory\n",
    "\n",
    "import os\n",
    "for dirname, _, filenames in os.walk('/kaggle/input'):\n",
    "    for filename in filenames:\n",
    "        print(os.path.join(dirname, filename))\n",
    "\n",
    "# You can write up to 20GB to the current directory (/kaggle/working/) that gets preserved as output when you create a version using \"Save & Run All\" \n",
    "# You can also write temporary files to /kaggle/temp/, but they won't be saved outside of the current session"
   ]
  },
  {
   "cell_type": "code",
   "execution_count": 2,
   "id": "bb7dc2cc",
   "metadata": {
    "execution": {
     "iopub.execute_input": "2024-08-17T11:24:50.443572Z",
     "iopub.status.busy": "2024-08-17T11:24:50.442924Z",
     "iopub.status.idle": "2024-08-17T11:24:50.473023Z",
     "shell.execute_reply": "2024-08-17T11:24:50.471765Z"
    },
    "papermill": {
     "duration": 0.041638,
     "end_time": "2024-08-17T11:24:50.475931",
     "exception": false,
     "start_time": "2024-08-17T11:24:50.434293",
     "status": "completed"
    },
    "tags": []
   },
   "outputs": [],
   "source": [
    "data = pd.read_csv('/kaggle/input/breast-cancer-wisconsin-data/data.csv')"
   ]
  },
  {
   "cell_type": "code",
   "execution_count": 3,
   "id": "bc60c5f6",
   "metadata": {
    "execution": {
     "iopub.execute_input": "2024-08-17T11:24:50.491782Z",
     "iopub.status.busy": "2024-08-17T11:24:50.491319Z",
     "iopub.status.idle": "2024-08-17T11:24:50.542188Z",
     "shell.execute_reply": "2024-08-17T11:24:50.540608Z"
    },
    "papermill": {
     "duration": 0.062087,
     "end_time": "2024-08-17T11:24:50.545016",
     "exception": false,
     "start_time": "2024-08-17T11:24:50.482929",
     "status": "completed"
    },
    "tags": []
   },
   "outputs": [
    {
     "data": {
      "text/html": [
       "<div>\n",
       "<style scoped>\n",
       "    .dataframe tbody tr th:only-of-type {\n",
       "        vertical-align: middle;\n",
       "    }\n",
       "\n",
       "    .dataframe tbody tr th {\n",
       "        vertical-align: top;\n",
       "    }\n",
       "\n",
       "    .dataframe thead th {\n",
       "        text-align: right;\n",
       "    }\n",
       "</style>\n",
       "<table border=\"1\" class=\"dataframe\">\n",
       "  <thead>\n",
       "    <tr style=\"text-align: right;\">\n",
       "      <th></th>\n",
       "      <th>id</th>\n",
       "      <th>diagnosis</th>\n",
       "      <th>radius_mean</th>\n",
       "      <th>texture_mean</th>\n",
       "      <th>perimeter_mean</th>\n",
       "      <th>area_mean</th>\n",
       "      <th>smoothness_mean</th>\n",
       "      <th>compactness_mean</th>\n",
       "      <th>concavity_mean</th>\n",
       "      <th>concave points_mean</th>\n",
       "      <th>...</th>\n",
       "      <th>texture_worst</th>\n",
       "      <th>perimeter_worst</th>\n",
       "      <th>area_worst</th>\n",
       "      <th>smoothness_worst</th>\n",
       "      <th>compactness_worst</th>\n",
       "      <th>concavity_worst</th>\n",
       "      <th>concave points_worst</th>\n",
       "      <th>symmetry_worst</th>\n",
       "      <th>fractal_dimension_worst</th>\n",
       "      <th>Unnamed: 32</th>\n",
       "    </tr>\n",
       "  </thead>\n",
       "  <tbody>\n",
       "    <tr>\n",
       "      <th>0</th>\n",
       "      <td>842302</td>\n",
       "      <td>M</td>\n",
       "      <td>17.99</td>\n",
       "      <td>10.38</td>\n",
       "      <td>122.80</td>\n",
       "      <td>1001.0</td>\n",
       "      <td>0.11840</td>\n",
       "      <td>0.27760</td>\n",
       "      <td>0.3001</td>\n",
       "      <td>0.14710</td>\n",
       "      <td>...</td>\n",
       "      <td>17.33</td>\n",
       "      <td>184.60</td>\n",
       "      <td>2019.0</td>\n",
       "      <td>0.1622</td>\n",
       "      <td>0.6656</td>\n",
       "      <td>0.7119</td>\n",
       "      <td>0.2654</td>\n",
       "      <td>0.4601</td>\n",
       "      <td>0.11890</td>\n",
       "      <td>NaN</td>\n",
       "    </tr>\n",
       "    <tr>\n",
       "      <th>1</th>\n",
       "      <td>842517</td>\n",
       "      <td>M</td>\n",
       "      <td>20.57</td>\n",
       "      <td>17.77</td>\n",
       "      <td>132.90</td>\n",
       "      <td>1326.0</td>\n",
       "      <td>0.08474</td>\n",
       "      <td>0.07864</td>\n",
       "      <td>0.0869</td>\n",
       "      <td>0.07017</td>\n",
       "      <td>...</td>\n",
       "      <td>23.41</td>\n",
       "      <td>158.80</td>\n",
       "      <td>1956.0</td>\n",
       "      <td>0.1238</td>\n",
       "      <td>0.1866</td>\n",
       "      <td>0.2416</td>\n",
       "      <td>0.1860</td>\n",
       "      <td>0.2750</td>\n",
       "      <td>0.08902</td>\n",
       "      <td>NaN</td>\n",
       "    </tr>\n",
       "    <tr>\n",
       "      <th>2</th>\n",
       "      <td>84300903</td>\n",
       "      <td>M</td>\n",
       "      <td>19.69</td>\n",
       "      <td>21.25</td>\n",
       "      <td>130.00</td>\n",
       "      <td>1203.0</td>\n",
       "      <td>0.10960</td>\n",
       "      <td>0.15990</td>\n",
       "      <td>0.1974</td>\n",
       "      <td>0.12790</td>\n",
       "      <td>...</td>\n",
       "      <td>25.53</td>\n",
       "      <td>152.50</td>\n",
       "      <td>1709.0</td>\n",
       "      <td>0.1444</td>\n",
       "      <td>0.4245</td>\n",
       "      <td>0.4504</td>\n",
       "      <td>0.2430</td>\n",
       "      <td>0.3613</td>\n",
       "      <td>0.08758</td>\n",
       "      <td>NaN</td>\n",
       "    </tr>\n",
       "    <tr>\n",
       "      <th>3</th>\n",
       "      <td>84348301</td>\n",
       "      <td>M</td>\n",
       "      <td>11.42</td>\n",
       "      <td>20.38</td>\n",
       "      <td>77.58</td>\n",
       "      <td>386.1</td>\n",
       "      <td>0.14250</td>\n",
       "      <td>0.28390</td>\n",
       "      <td>0.2414</td>\n",
       "      <td>0.10520</td>\n",
       "      <td>...</td>\n",
       "      <td>26.50</td>\n",
       "      <td>98.87</td>\n",
       "      <td>567.7</td>\n",
       "      <td>0.2098</td>\n",
       "      <td>0.8663</td>\n",
       "      <td>0.6869</td>\n",
       "      <td>0.2575</td>\n",
       "      <td>0.6638</td>\n",
       "      <td>0.17300</td>\n",
       "      <td>NaN</td>\n",
       "    </tr>\n",
       "    <tr>\n",
       "      <th>4</th>\n",
       "      <td>84358402</td>\n",
       "      <td>M</td>\n",
       "      <td>20.29</td>\n",
       "      <td>14.34</td>\n",
       "      <td>135.10</td>\n",
       "      <td>1297.0</td>\n",
       "      <td>0.10030</td>\n",
       "      <td>0.13280</td>\n",
       "      <td>0.1980</td>\n",
       "      <td>0.10430</td>\n",
       "      <td>...</td>\n",
       "      <td>16.67</td>\n",
       "      <td>152.20</td>\n",
       "      <td>1575.0</td>\n",
       "      <td>0.1374</td>\n",
       "      <td>0.2050</td>\n",
       "      <td>0.4000</td>\n",
       "      <td>0.1625</td>\n",
       "      <td>0.2364</td>\n",
       "      <td>0.07678</td>\n",
       "      <td>NaN</td>\n",
       "    </tr>\n",
       "  </tbody>\n",
       "</table>\n",
       "<p>5 rows × 33 columns</p>\n",
       "</div>"
      ],
      "text/plain": [
       "         id diagnosis  radius_mean  texture_mean  perimeter_mean  area_mean  \\\n",
       "0    842302         M        17.99         10.38          122.80     1001.0   \n",
       "1    842517         M        20.57         17.77          132.90     1326.0   \n",
       "2  84300903         M        19.69         21.25          130.00     1203.0   \n",
       "3  84348301         M        11.42         20.38           77.58      386.1   \n",
       "4  84358402         M        20.29         14.34          135.10     1297.0   \n",
       "\n",
       "   smoothness_mean  compactness_mean  concavity_mean  concave points_mean  \\\n",
       "0          0.11840           0.27760          0.3001              0.14710   \n",
       "1          0.08474           0.07864          0.0869              0.07017   \n",
       "2          0.10960           0.15990          0.1974              0.12790   \n",
       "3          0.14250           0.28390          0.2414              0.10520   \n",
       "4          0.10030           0.13280          0.1980              0.10430   \n",
       "\n",
       "   ...  texture_worst  perimeter_worst  area_worst  smoothness_worst  \\\n",
       "0  ...          17.33           184.60      2019.0            0.1622   \n",
       "1  ...          23.41           158.80      1956.0            0.1238   \n",
       "2  ...          25.53           152.50      1709.0            0.1444   \n",
       "3  ...          26.50            98.87       567.7            0.2098   \n",
       "4  ...          16.67           152.20      1575.0            0.1374   \n",
       "\n",
       "   compactness_worst  concavity_worst  concave points_worst  symmetry_worst  \\\n",
       "0             0.6656           0.7119                0.2654          0.4601   \n",
       "1             0.1866           0.2416                0.1860          0.2750   \n",
       "2             0.4245           0.4504                0.2430          0.3613   \n",
       "3             0.8663           0.6869                0.2575          0.6638   \n",
       "4             0.2050           0.4000                0.1625          0.2364   \n",
       "\n",
       "   fractal_dimension_worst  Unnamed: 32  \n",
       "0                  0.11890          NaN  \n",
       "1                  0.08902          NaN  \n",
       "2                  0.08758          NaN  \n",
       "3                  0.17300          NaN  \n",
       "4                  0.07678          NaN  \n",
       "\n",
       "[5 rows x 33 columns]"
      ]
     },
     "execution_count": 3,
     "metadata": {},
     "output_type": "execute_result"
    }
   ],
   "source": [
    "data.head()"
   ]
  },
  {
   "cell_type": "code",
   "execution_count": 4,
   "id": "04a692d9",
   "metadata": {
    "execution": {
     "iopub.execute_input": "2024-08-17T11:24:50.562086Z",
     "iopub.status.busy": "2024-08-17T11:24:50.561688Z",
     "iopub.status.idle": "2024-08-17T11:24:50.569631Z",
     "shell.execute_reply": "2024-08-17T11:24:50.568324Z"
    },
    "papermill": {
     "duration": 0.019756,
     "end_time": "2024-08-17T11:24:50.572222",
     "exception": false,
     "start_time": "2024-08-17T11:24:50.552466",
     "status": "completed"
    },
    "tags": []
   },
   "outputs": [
    {
     "data": {
      "text/plain": [
       "(569, 33)"
      ]
     },
     "execution_count": 4,
     "metadata": {},
     "output_type": "execute_result"
    }
   ],
   "source": [
    "data.shape"
   ]
  },
  {
   "cell_type": "code",
   "execution_count": 5,
   "id": "943395a1",
   "metadata": {
    "execution": {
     "iopub.execute_input": "2024-08-17T11:24:50.590606Z",
     "iopub.status.busy": "2024-08-17T11:24:50.589082Z",
     "iopub.status.idle": "2024-08-17T11:24:50.597842Z",
     "shell.execute_reply": "2024-08-17T11:24:50.596422Z"
    },
    "papermill": {
     "duration": 0.020858,
     "end_time": "2024-08-17T11:24:50.600742",
     "exception": false,
     "start_time": "2024-08-17T11:24:50.579884",
     "status": "completed"
    },
    "tags": []
   },
   "outputs": [],
   "source": [
    "data = data.drop(columns=['id','Unnamed: 32'])"
   ]
  },
  {
   "cell_type": "code",
   "execution_count": 6,
   "id": "e7ec31a5",
   "metadata": {
    "execution": {
     "iopub.execute_input": "2024-08-17T11:24:50.619116Z",
     "iopub.status.busy": "2024-08-17T11:24:50.617929Z",
     "iopub.status.idle": "2024-08-17T11:24:50.654685Z",
     "shell.execute_reply": "2024-08-17T11:24:50.653316Z"
    },
    "papermill": {
     "duration": 0.049562,
     "end_time": "2024-08-17T11:24:50.658003",
     "exception": false,
     "start_time": "2024-08-17T11:24:50.608441",
     "status": "completed"
    },
    "tags": []
   },
   "outputs": [
    {
     "data": {
      "text/html": [
       "<div>\n",
       "<style scoped>\n",
       "    .dataframe tbody tr th:only-of-type {\n",
       "        vertical-align: middle;\n",
       "    }\n",
       "\n",
       "    .dataframe tbody tr th {\n",
       "        vertical-align: top;\n",
       "    }\n",
       "\n",
       "    .dataframe thead th {\n",
       "        text-align: right;\n",
       "    }\n",
       "</style>\n",
       "<table border=\"1\" class=\"dataframe\">\n",
       "  <thead>\n",
       "    <tr style=\"text-align: right;\">\n",
       "      <th></th>\n",
       "      <th>diagnosis</th>\n",
       "      <th>radius_mean</th>\n",
       "      <th>texture_mean</th>\n",
       "      <th>perimeter_mean</th>\n",
       "      <th>area_mean</th>\n",
       "      <th>smoothness_mean</th>\n",
       "      <th>compactness_mean</th>\n",
       "      <th>concavity_mean</th>\n",
       "      <th>concave points_mean</th>\n",
       "      <th>symmetry_mean</th>\n",
       "      <th>...</th>\n",
       "      <th>radius_worst</th>\n",
       "      <th>texture_worst</th>\n",
       "      <th>perimeter_worst</th>\n",
       "      <th>area_worst</th>\n",
       "      <th>smoothness_worst</th>\n",
       "      <th>compactness_worst</th>\n",
       "      <th>concavity_worst</th>\n",
       "      <th>concave points_worst</th>\n",
       "      <th>symmetry_worst</th>\n",
       "      <th>fractal_dimension_worst</th>\n",
       "    </tr>\n",
       "  </thead>\n",
       "  <tbody>\n",
       "    <tr>\n",
       "      <th>0</th>\n",
       "      <td>M</td>\n",
       "      <td>17.99</td>\n",
       "      <td>10.38</td>\n",
       "      <td>122.80</td>\n",
       "      <td>1001.0</td>\n",
       "      <td>0.11840</td>\n",
       "      <td>0.27760</td>\n",
       "      <td>0.3001</td>\n",
       "      <td>0.14710</td>\n",
       "      <td>0.2419</td>\n",
       "      <td>...</td>\n",
       "      <td>25.38</td>\n",
       "      <td>17.33</td>\n",
       "      <td>184.60</td>\n",
       "      <td>2019.0</td>\n",
       "      <td>0.1622</td>\n",
       "      <td>0.6656</td>\n",
       "      <td>0.7119</td>\n",
       "      <td>0.2654</td>\n",
       "      <td>0.4601</td>\n",
       "      <td>0.11890</td>\n",
       "    </tr>\n",
       "    <tr>\n",
       "      <th>1</th>\n",
       "      <td>M</td>\n",
       "      <td>20.57</td>\n",
       "      <td>17.77</td>\n",
       "      <td>132.90</td>\n",
       "      <td>1326.0</td>\n",
       "      <td>0.08474</td>\n",
       "      <td>0.07864</td>\n",
       "      <td>0.0869</td>\n",
       "      <td>0.07017</td>\n",
       "      <td>0.1812</td>\n",
       "      <td>...</td>\n",
       "      <td>24.99</td>\n",
       "      <td>23.41</td>\n",
       "      <td>158.80</td>\n",
       "      <td>1956.0</td>\n",
       "      <td>0.1238</td>\n",
       "      <td>0.1866</td>\n",
       "      <td>0.2416</td>\n",
       "      <td>0.1860</td>\n",
       "      <td>0.2750</td>\n",
       "      <td>0.08902</td>\n",
       "    </tr>\n",
       "    <tr>\n",
       "      <th>2</th>\n",
       "      <td>M</td>\n",
       "      <td>19.69</td>\n",
       "      <td>21.25</td>\n",
       "      <td>130.00</td>\n",
       "      <td>1203.0</td>\n",
       "      <td>0.10960</td>\n",
       "      <td>0.15990</td>\n",
       "      <td>0.1974</td>\n",
       "      <td>0.12790</td>\n",
       "      <td>0.2069</td>\n",
       "      <td>...</td>\n",
       "      <td>23.57</td>\n",
       "      <td>25.53</td>\n",
       "      <td>152.50</td>\n",
       "      <td>1709.0</td>\n",
       "      <td>0.1444</td>\n",
       "      <td>0.4245</td>\n",
       "      <td>0.4504</td>\n",
       "      <td>0.2430</td>\n",
       "      <td>0.3613</td>\n",
       "      <td>0.08758</td>\n",
       "    </tr>\n",
       "    <tr>\n",
       "      <th>3</th>\n",
       "      <td>M</td>\n",
       "      <td>11.42</td>\n",
       "      <td>20.38</td>\n",
       "      <td>77.58</td>\n",
       "      <td>386.1</td>\n",
       "      <td>0.14250</td>\n",
       "      <td>0.28390</td>\n",
       "      <td>0.2414</td>\n",
       "      <td>0.10520</td>\n",
       "      <td>0.2597</td>\n",
       "      <td>...</td>\n",
       "      <td>14.91</td>\n",
       "      <td>26.50</td>\n",
       "      <td>98.87</td>\n",
       "      <td>567.7</td>\n",
       "      <td>0.2098</td>\n",
       "      <td>0.8663</td>\n",
       "      <td>0.6869</td>\n",
       "      <td>0.2575</td>\n",
       "      <td>0.6638</td>\n",
       "      <td>0.17300</td>\n",
       "    </tr>\n",
       "    <tr>\n",
       "      <th>4</th>\n",
       "      <td>M</td>\n",
       "      <td>20.29</td>\n",
       "      <td>14.34</td>\n",
       "      <td>135.10</td>\n",
       "      <td>1297.0</td>\n",
       "      <td>0.10030</td>\n",
       "      <td>0.13280</td>\n",
       "      <td>0.1980</td>\n",
       "      <td>0.10430</td>\n",
       "      <td>0.1809</td>\n",
       "      <td>...</td>\n",
       "      <td>22.54</td>\n",
       "      <td>16.67</td>\n",
       "      <td>152.20</td>\n",
       "      <td>1575.0</td>\n",
       "      <td>0.1374</td>\n",
       "      <td>0.2050</td>\n",
       "      <td>0.4000</td>\n",
       "      <td>0.1625</td>\n",
       "      <td>0.2364</td>\n",
       "      <td>0.07678</td>\n",
       "    </tr>\n",
       "  </tbody>\n",
       "</table>\n",
       "<p>5 rows × 31 columns</p>\n",
       "</div>"
      ],
      "text/plain": [
       "  diagnosis  radius_mean  texture_mean  perimeter_mean  area_mean  \\\n",
       "0         M        17.99         10.38          122.80     1001.0   \n",
       "1         M        20.57         17.77          132.90     1326.0   \n",
       "2         M        19.69         21.25          130.00     1203.0   \n",
       "3         M        11.42         20.38           77.58      386.1   \n",
       "4         M        20.29         14.34          135.10     1297.0   \n",
       "\n",
       "   smoothness_mean  compactness_mean  concavity_mean  concave points_mean  \\\n",
       "0          0.11840           0.27760          0.3001              0.14710   \n",
       "1          0.08474           0.07864          0.0869              0.07017   \n",
       "2          0.10960           0.15990          0.1974              0.12790   \n",
       "3          0.14250           0.28390          0.2414              0.10520   \n",
       "4          0.10030           0.13280          0.1980              0.10430   \n",
       "\n",
       "   symmetry_mean  ...  radius_worst  texture_worst  perimeter_worst  \\\n",
       "0         0.2419  ...         25.38          17.33           184.60   \n",
       "1         0.1812  ...         24.99          23.41           158.80   \n",
       "2         0.2069  ...         23.57          25.53           152.50   \n",
       "3         0.2597  ...         14.91          26.50            98.87   \n",
       "4         0.1809  ...         22.54          16.67           152.20   \n",
       "\n",
       "   area_worst  smoothness_worst  compactness_worst  concavity_worst  \\\n",
       "0      2019.0            0.1622             0.6656           0.7119   \n",
       "1      1956.0            0.1238             0.1866           0.2416   \n",
       "2      1709.0            0.1444             0.4245           0.4504   \n",
       "3       567.7            0.2098             0.8663           0.6869   \n",
       "4      1575.0            0.1374             0.2050           0.4000   \n",
       "\n",
       "   concave points_worst  symmetry_worst  fractal_dimension_worst  \n",
       "0                0.2654          0.4601                  0.11890  \n",
       "1                0.1860          0.2750                  0.08902  \n",
       "2                0.2430          0.3613                  0.08758  \n",
       "3                0.2575          0.6638                  0.17300  \n",
       "4                0.1625          0.2364                  0.07678  \n",
       "\n",
       "[5 rows x 31 columns]"
      ]
     },
     "execution_count": 6,
     "metadata": {},
     "output_type": "execute_result"
    }
   ],
   "source": [
    "data.head()"
   ]
  },
  {
   "cell_type": "code",
   "execution_count": 7,
   "id": "2cec478e",
   "metadata": {
    "execution": {
     "iopub.execute_input": "2024-08-17T11:24:50.679284Z",
     "iopub.status.busy": "2024-08-17T11:24:50.678050Z",
     "iopub.status.idle": "2024-08-17T11:24:50.686234Z",
     "shell.execute_reply": "2024-08-17T11:24:50.684952Z"
    },
    "papermill": {
     "duration": 0.020778,
     "end_time": "2024-08-17T11:24:50.688844",
     "exception": false,
     "start_time": "2024-08-17T11:24:50.668066",
     "status": "completed"
    },
    "tags": []
   },
   "outputs": [
    {
     "data": {
      "text/plain": [
       "(569, 31)"
      ]
     },
     "execution_count": 7,
     "metadata": {},
     "output_type": "execute_result"
    }
   ],
   "source": [
    "data.shape"
   ]
  },
  {
   "cell_type": "code",
   "execution_count": 8,
   "id": "5c92db03",
   "metadata": {
    "execution": {
     "iopub.execute_input": "2024-08-17T11:24:50.708654Z",
     "iopub.status.busy": "2024-08-17T11:24:50.707443Z",
     "iopub.status.idle": "2024-08-17T11:24:51.953781Z",
     "shell.execute_reply": "2024-08-17T11:24:51.952635Z"
    },
    "papermill": {
     "duration": 1.259668,
     "end_time": "2024-08-17T11:24:51.957005",
     "exception": false,
     "start_time": "2024-08-17T11:24:50.697337",
     "status": "completed"
    },
    "tags": []
   },
   "outputs": [],
   "source": [
    "from sklearn.model_selection import train_test_split\n",
    "X_train,X_test,y_train,y_test = train_test_split(data.iloc[:,1:],data.iloc[:,0],test_size=0.2,random_state=42)"
   ]
  },
  {
   "cell_type": "code",
   "execution_count": 9,
   "id": "c6a21493",
   "metadata": {
    "execution": {
     "iopub.execute_input": "2024-08-17T11:24:51.976285Z",
     "iopub.status.busy": "2024-08-17T11:24:51.975896Z",
     "iopub.status.idle": "2024-08-17T11:24:51.984002Z",
     "shell.execute_reply": "2024-08-17T11:24:51.982752Z"
    },
    "papermill": {
     "duration": 0.021168,
     "end_time": "2024-08-17T11:24:51.986889",
     "exception": false,
     "start_time": "2024-08-17T11:24:51.965721",
     "status": "completed"
    },
    "tags": []
   },
   "outputs": [
    {
     "data": {
      "text/plain": [
       "(455, 30)"
      ]
     },
     "execution_count": 9,
     "metadata": {},
     "output_type": "execute_result"
    }
   ],
   "source": [
    "X_train.shape"
   ]
  },
  {
   "cell_type": "code",
   "execution_count": 10,
   "id": "95e20cb7",
   "metadata": {
    "execution": {
     "iopub.execute_input": "2024-08-17T11:24:52.007185Z",
     "iopub.status.busy": "2024-08-17T11:24:52.006725Z",
     "iopub.status.idle": "2024-08-17T11:24:52.023699Z",
     "shell.execute_reply": "2024-08-17T11:24:52.022175Z"
    },
    "papermill": {
     "duration": 0.030737,
     "end_time": "2024-08-17T11:24:52.027056",
     "exception": false,
     "start_time": "2024-08-17T11:24:51.996319",
     "status": "completed"
    },
    "tags": []
   },
   "outputs": [],
   "source": [
    "from sklearn.preprocessing import StandardScaler\n",
    "scaler = StandardScaler()\n",
    "\n",
    "X_train = scaler.fit_transform(X_train)\n",
    "X_test = scaler.transform(X_test)"
   ]
  },
  {
   "cell_type": "code",
   "execution_count": 11,
   "id": "0238c522",
   "metadata": {
    "execution": {
     "iopub.execute_input": "2024-08-17T11:24:52.047640Z",
     "iopub.status.busy": "2024-08-17T11:24:52.047123Z",
     "iopub.status.idle": "2024-08-17T11:24:52.056630Z",
     "shell.execute_reply": "2024-08-17T11:24:52.055253Z"
    },
    "papermill": {
     "duration": 0.023107,
     "end_time": "2024-08-17T11:24:52.059226",
     "exception": false,
     "start_time": "2024-08-17T11:24:52.036119",
     "status": "completed"
    },
    "tags": []
   },
   "outputs": [
    {
     "data": {
      "text/plain": [
       "array([[-1.44075296, -0.43531947, -1.36208497, ...,  0.9320124 ,\n",
       "         2.09724217,  1.88645014],\n",
       "       [ 1.97409619,  1.73302577,  2.09167167, ...,  2.6989469 ,\n",
       "         1.89116053,  2.49783848],\n",
       "       [-1.39998202, -1.24962228, -1.34520926, ..., -0.97023893,\n",
       "         0.59760192,  0.0578942 ],\n",
       "       ...,\n",
       "       [ 0.04880192, -0.55500086, -0.06512547, ..., -1.23903365,\n",
       "        -0.70863864, -1.27145475],\n",
       "       [-0.03896885,  0.10207345, -0.03137406, ...,  1.05001236,\n",
       "         0.43432185,  1.21336207],\n",
       "       [-0.54860557,  0.31327591, -0.60350155, ..., -0.61102866,\n",
       "        -0.3345212 , -0.84628745]])"
      ]
     },
     "execution_count": 11,
     "metadata": {},
     "output_type": "execute_result"
    }
   ],
   "source": [
    "X_train"
   ]
  },
  {
   "cell_type": "code",
   "execution_count": 12,
   "id": "a8ba793d",
   "metadata": {
    "execution": {
     "iopub.execute_input": "2024-08-17T11:24:52.079341Z",
     "iopub.status.busy": "2024-08-17T11:24:52.078904Z",
     "iopub.status.idle": "2024-08-17T11:24:52.088115Z",
     "shell.execute_reply": "2024-08-17T11:24:52.086959Z"
    },
    "papermill": {
     "duration": 0.022131,
     "end_time": "2024-08-17T11:24:52.090796",
     "exception": false,
     "start_time": "2024-08-17T11:24:52.068665",
     "status": "completed"
    },
    "tags": []
   },
   "outputs": [
    {
     "data": {
      "text/plain": [
       "array([[-0.46649743, -0.13728933, -0.44421138, ..., -0.19435087,\n",
       "         0.17275669,  0.20372995],\n",
       "       [ 1.36536344,  0.49866473,  1.30551088, ...,  0.99177862,\n",
       "        -0.561211  , -1.00838949],\n",
       "       [ 0.38006578,  0.06921974,  0.40410139, ...,  0.57035018,\n",
       "        -0.10783139, -0.20629287],\n",
       "       ...,\n",
       "       [-0.73547237, -0.99852603, -0.74138839, ..., -0.27741059,\n",
       "        -0.3820785 , -0.32408328],\n",
       "       [ 0.02898271,  2.0334026 ,  0.0274851 , ..., -0.49027026,\n",
       "        -1.60905688, -0.33137507],\n",
       "       [ 1.87216885,  2.80077153,  1.80354992, ...,  0.7925579 ,\n",
       "        -0.05868885, -0.09467243]])"
      ]
     },
     "execution_count": 12,
     "metadata": {},
     "output_type": "execute_result"
    }
   ],
   "source": [
    "X_test"
   ]
  },
  {
   "cell_type": "code",
   "execution_count": 13,
   "id": "318352bf",
   "metadata": {
    "execution": {
     "iopub.execute_input": "2024-08-17T11:24:52.110519Z",
     "iopub.status.busy": "2024-08-17T11:24:52.110070Z",
     "iopub.status.idle": "2024-08-17T11:24:52.288979Z",
     "shell.execute_reply": "2024-08-17T11:24:52.287344Z"
    },
    "papermill": {
     "duration": 0.192455,
     "end_time": "2024-08-17T11:24:52.292183",
     "exception": false,
     "start_time": "2024-08-17T11:24:52.099728",
     "status": "completed"
    },
    "tags": []
   },
   "outputs": [],
   "source": [
    "from sklearn.neighbors import KNeighborsClassifier\n",
    "knn = KNeighborsClassifier(n_neighbors=9)"
   ]
  },
  {
   "cell_type": "code",
   "execution_count": 14,
   "id": "cbe87954",
   "metadata": {
    "execution": {
     "iopub.execute_input": "2024-08-17T11:24:52.313180Z",
     "iopub.status.busy": "2024-08-17T11:24:52.312720Z",
     "iopub.status.idle": "2024-08-17T11:24:52.328703Z",
     "shell.execute_reply": "2024-08-17T11:24:52.327136Z"
    },
    "papermill": {
     "duration": 0.029841,
     "end_time": "2024-08-17T11:24:52.331725",
     "exception": false,
     "start_time": "2024-08-17T11:24:52.301884",
     "status": "completed"
    },
    "tags": []
   },
   "outputs": [
    {
     "data": {
      "text/html": [
       "<style>#sk-container-id-1 {color: black;background-color: white;}#sk-container-id-1 pre{padding: 0;}#sk-container-id-1 div.sk-toggleable {background-color: white;}#sk-container-id-1 label.sk-toggleable__label {cursor: pointer;display: block;width: 100%;margin-bottom: 0;padding: 0.3em;box-sizing: border-box;text-align: center;}#sk-container-id-1 label.sk-toggleable__label-arrow:before {content: \"▸\";float: left;margin-right: 0.25em;color: #696969;}#sk-container-id-1 label.sk-toggleable__label-arrow:hover:before {color: black;}#sk-container-id-1 div.sk-estimator:hover label.sk-toggleable__label-arrow:before {color: black;}#sk-container-id-1 div.sk-toggleable__content {max-height: 0;max-width: 0;overflow: hidden;text-align: left;background-color: #f0f8ff;}#sk-container-id-1 div.sk-toggleable__content pre {margin: 0.2em;color: black;border-radius: 0.25em;background-color: #f0f8ff;}#sk-container-id-1 input.sk-toggleable__control:checked~div.sk-toggleable__content {max-height: 200px;max-width: 100%;overflow: auto;}#sk-container-id-1 input.sk-toggleable__control:checked~label.sk-toggleable__label-arrow:before {content: \"▾\";}#sk-container-id-1 div.sk-estimator input.sk-toggleable__control:checked~label.sk-toggleable__label {background-color: #d4ebff;}#sk-container-id-1 div.sk-label input.sk-toggleable__control:checked~label.sk-toggleable__label {background-color: #d4ebff;}#sk-container-id-1 input.sk-hidden--visually {border: 0;clip: rect(1px 1px 1px 1px);clip: rect(1px, 1px, 1px, 1px);height: 1px;margin: -1px;overflow: hidden;padding: 0;position: absolute;width: 1px;}#sk-container-id-1 div.sk-estimator {font-family: monospace;background-color: #f0f8ff;border: 1px dotted black;border-radius: 0.25em;box-sizing: border-box;margin-bottom: 0.5em;}#sk-container-id-1 div.sk-estimator:hover {background-color: #d4ebff;}#sk-container-id-1 div.sk-parallel-item::after {content: \"\";width: 100%;border-bottom: 1px solid gray;flex-grow: 1;}#sk-container-id-1 div.sk-label:hover label.sk-toggleable__label {background-color: #d4ebff;}#sk-container-id-1 div.sk-serial::before {content: \"\";position: absolute;border-left: 1px solid gray;box-sizing: border-box;top: 0;bottom: 0;left: 50%;z-index: 0;}#sk-container-id-1 div.sk-serial {display: flex;flex-direction: column;align-items: center;background-color: white;padding-right: 0.2em;padding-left: 0.2em;position: relative;}#sk-container-id-1 div.sk-item {position: relative;z-index: 1;}#sk-container-id-1 div.sk-parallel {display: flex;align-items: stretch;justify-content: center;background-color: white;position: relative;}#sk-container-id-1 div.sk-item::before, #sk-container-id-1 div.sk-parallel-item::before {content: \"\";position: absolute;border-left: 1px solid gray;box-sizing: border-box;top: 0;bottom: 0;left: 50%;z-index: -1;}#sk-container-id-1 div.sk-parallel-item {display: flex;flex-direction: column;z-index: 1;position: relative;background-color: white;}#sk-container-id-1 div.sk-parallel-item:first-child::after {align-self: flex-end;width: 50%;}#sk-container-id-1 div.sk-parallel-item:last-child::after {align-self: flex-start;width: 50%;}#sk-container-id-1 div.sk-parallel-item:only-child::after {width: 0;}#sk-container-id-1 div.sk-dashed-wrapped {border: 1px dashed gray;margin: 0 0.4em 0.5em 0.4em;box-sizing: border-box;padding-bottom: 0.4em;background-color: white;}#sk-container-id-1 div.sk-label label {font-family: monospace;font-weight: bold;display: inline-block;line-height: 1.2em;}#sk-container-id-1 div.sk-label-container {text-align: center;}#sk-container-id-1 div.sk-container {/* jupyter's `normalize.less` sets `[hidden] { display: none; }` but bootstrap.min.css set `[hidden] { display: none !important; }` so we also need the `!important` here to be able to override the default hidden behavior on the sphinx rendered scikit-learn.org. See: https://github.com/scikit-learn/scikit-learn/issues/21755 */display: inline-block !important;position: relative;}#sk-container-id-1 div.sk-text-repr-fallback {display: none;}</style><div id=\"sk-container-id-1\" class=\"sk-top-container\"><div class=\"sk-text-repr-fallback\"><pre>KNeighborsClassifier(n_neighbors=9)</pre><b>In a Jupyter environment, please rerun this cell to show the HTML representation or trust the notebook. <br />On GitHub, the HTML representation is unable to render, please try loading this page with nbviewer.org.</b></div><div class=\"sk-container\" hidden><div class=\"sk-item\"><div class=\"sk-estimator sk-toggleable\"><input class=\"sk-toggleable__control sk-hidden--visually\" id=\"sk-estimator-id-1\" type=\"checkbox\" checked><label for=\"sk-estimator-id-1\" class=\"sk-toggleable__label sk-toggleable__label-arrow\">KNeighborsClassifier</label><div class=\"sk-toggleable__content\"><pre>KNeighborsClassifier(n_neighbors=9)</pre></div></div></div></div></div>"
      ],
      "text/plain": [
       "KNeighborsClassifier(n_neighbors=9)"
      ]
     },
     "execution_count": 14,
     "metadata": {},
     "output_type": "execute_result"
    }
   ],
   "source": [
    "knn.fit(X_train,y_train)"
   ]
  },
  {
   "cell_type": "code",
   "execution_count": 15,
   "id": "690d15d7",
   "metadata": {
    "execution": {
     "iopub.execute_input": "2024-08-17T11:24:52.354881Z",
     "iopub.status.busy": "2024-08-17T11:24:52.354354Z",
     "iopub.status.idle": "2024-08-17T11:24:52.432269Z",
     "shell.execute_reply": "2024-08-17T11:24:52.431130Z"
    },
    "papermill": {
     "duration": 0.093802,
     "end_time": "2024-08-17T11:24:52.434818",
     "exception": false,
     "start_time": "2024-08-17T11:24:52.341016",
     "status": "completed"
    },
    "tags": []
   },
   "outputs": [
    {
     "data": {
      "text/plain": [
       "0.9649122807017544"
      ]
     },
     "execution_count": 15,
     "metadata": {},
     "output_type": "execute_result"
    }
   ],
   "source": [
    "from sklearn.metrics import accuracy_score\n",
    "\n",
    "y_pred = knn.predict(X_test)\n",
    "accuracy_score(y_test,y_pred)"
   ]
  },
  {
   "cell_type": "code",
   "execution_count": 16,
   "id": "e72459ef",
   "metadata": {
    "execution": {
     "iopub.execute_input": "2024-08-17T11:24:52.455888Z",
     "iopub.status.busy": "2024-08-17T11:24:52.455365Z",
     "iopub.status.idle": "2024-08-17T11:24:52.665961Z",
     "shell.execute_reply": "2024-08-17T11:24:52.664581Z"
    },
    "papermill": {
     "duration": 0.225241,
     "end_time": "2024-08-17T11:24:52.669166",
     "exception": false,
     "start_time": "2024-08-17T11:24:52.443925",
     "status": "completed"
    },
    "tags": []
   },
   "outputs": [
    {
     "name": "stdout",
     "output_type": "stream",
     "text": [
      "[0.9385964912280702, 0.9473684210526315, 0.9473684210526315, 0.956140350877193, 0.9473684210526315, 0.956140350877193, 0.9473684210526315, 0.956140350877193, 0.9649122807017544, 0.956140350877193, 0.956140350877193, 0.956140350877193, 0.956140350877193, 0.956140350877193, 0.956140350877193]\n"
     ]
    }
   ],
   "source": [
    "scores = []\n",
    "\n",
    "for i in range(1,16):\n",
    "    knn = KNeighborsClassifier(n_neighbors=i)\n",
    "    \n",
    "    knn.fit(X_train,y_train)\n",
    "    \n",
    "    y_pred = knn.predict(X_test)\n",
    "    \n",
    "    scores.append(accuracy_score(y_test,y_pred))\n",
    "    \n",
    "print(scores)"
   ]
  },
  {
   "cell_type": "code",
   "execution_count": 17,
   "id": "5ccaa1d9",
   "metadata": {
    "execution": {
     "iopub.execute_input": "2024-08-17T11:24:52.689616Z",
     "iopub.status.busy": "2024-08-17T11:24:52.689060Z",
     "iopub.status.idle": "2024-08-17T11:24:53.134375Z",
     "shell.execute_reply": "2024-08-17T11:24:53.132860Z"
    },
    "papermill": {
     "duration": 0.458685,
     "end_time": "2024-08-17T11:24:53.136965",
     "exception": false,
     "start_time": "2024-08-17T11:24:52.678280",
     "status": "completed"
    },
    "tags": []
   },
   "outputs": [
    {
     "data": {
      "text/plain": [
       "[<matplotlib.lines.Line2D at 0x7d1909b8e7a0>]"
      ]
     },
     "execution_count": 17,
     "metadata": {},
     "output_type": "execute_result"
    },
    {
     "data": {
      "image/png": "[encoded data removed]",
      "text/plain": [
       "<Figure size 640x480 with 1 Axes>"
      ]
     },
     "metadata": {},
     "output_type": "display_data"
    }
   ],
   "source": [
    "import matplotlib.pyplot as plt\n",
    "plt.plot(range(1,16),scores)"
   ]
  },
  {
   "cell_type": "code",
   "execution_count": 18,
   "id": "25b1efd8",
   "metadata": {
    "execution": {
     "iopub.execute_input": "2024-08-17T11:24:53.158534Z",
     "iopub.status.busy": "2024-08-17T11:24:53.158031Z",
     "iopub.status.idle": "2024-08-17T11:25:04.879803Z",
     "shell.execute_reply": "2024-08-17T11:25:04.878462Z"
    },
    "papermill": {
     "duration": 11.737955,
     "end_time": "2024-08-17T11:25:04.884656",
     "exception": false,
     "start_time": "2024-08-17T11:24:53.146701",
     "status": "completed"
    },
    "tags": []
   },
   "outputs": [
    {
     "data": {
      "application/vnd.jupyter.widget-view+json": {
       "model_id": "0c63cae7bd0745a8bc824258c6f23b0c",
       "version_major": 2,
       "version_minor": 0
      },
      "text/plain": [
       "interactive(children=(IntSlider(value=10, description='n_neighbors', max=20, min=1), Output()), _dom_classes=(…"
      ]
     },
     "metadata": {},
     "output_type": "display_data"
    }
   ],
   "source": [
    "import numpy as np\n",
    "import matplotlib.pyplot as plt\n",
    "from matplotlib.colors import ListedColormap\n",
    "from sklearn import neighbors, datasets\n",
    "from sklearn.preprocessing import StandardScaler\n",
    "from ipywidgets import interact, fixed\n",
    "\n",
    "def load_data():\n",
    "    cancer = datasets.load_breast_cancer()\n",
    "    return cancer\n",
    "\n",
    "def plot_decision_boundaries(n_neighbors, data, labels):\n",
    "    h = .02\n",
    "    cmap_light = ListedColormap(['orange', 'blue'])\n",
    "    cmap_bold = ListedColormap(['darkorange', 'darkblue'])\n",
    "\n",
    "    clf = neighbors.KNeighborsClassifier(n_neighbors)\n",
    "    clf.fit(data, labels)\n",
    "\n",
    "    x_min, x_max = data[:, 0].min() - 1, data[:, 0].max() + 1\n",
    "    y_min, y_max = data[:, 1].min() - 1, data[:, 1].max() + 1\n",
    "\n",
    "    xx, yy = np.meshgrid(np.arange(x_min, x_max, h), np.arange(y_min, y_max, h))\n",
    "    Z = clf.predict(np.c_[xx.ravel(), yy.ravel()])\n",
    "\n",
    "    Z = Z.reshape(xx.shape)\n",
    "    plt.figure(figsize=(8, 6))\n",
    "    plt.pcolormesh(xx, yy, Z, cmap=cmap_light)\n",
    "\n",
    "    plt.scatter(data[:, 0], data[:, 1], c=labels, cmap=cmap_bold, edgecolor='k', s=20)\n",
    "    plt.xlim(xx.min(), xx.max())\n",
    "    plt.ylim(yy.min(), yy.max())\n",
    "    plt.title(f'2-Class classification (k = {n_neighbors})')\n",
    "    plt.show()\n",
    "\n",
    "cancer = load_data()\n",
    "\n",
    "# Use only the first two features and standardize them.\n",
    "X = StandardScaler().fit_transform(cancer.data[:, :2])\n",
    "y = cancer.target\n",
    "\n",
    "# Interactive widget\n",
    "interact(plot_decision_boundaries, n_neighbors=(1, 20), data=fixed(X), labels=fixed(y));\n"
   ]
  },
  {
   "cell_type": "code",
   "execution_count": null,
   "id": "4b2e16a7",
   "metadata": {
    "papermill": {
     "duration": 0.011043,
     "end_time": "2024-08-17T11:25:04.911369",
     "exception": false,
     "start_time": "2024-08-17T11:25:04.900326",
     "status": "completed"
    },
    "tags": []
   },
   "outputs": [],
   "source": []
  }
 ],
 "metadata": {
  "kaggle": {
   "accelerator": "none",
   "dataSources": [
    {
     "datasetId": 180,
     "sourceId": 408,
     "sourceType": "datasetVersion"
    }
   ],
   "dockerImageVersionId": 30746,
   "isGpuEnabled": false,
   "isInternetEnabled": true,
   "language": "python",
   "sourceType": "notebook"
  },
  "kernelspec": {
   "display_name": "Python 3",
   "language": "python",
   "name": "python3"
  },
  "language_info": {
   "codemirror_mode": {
    "name": "ipython",
    "version": 3
   },
   "file_extension": ".py",
   "mimetype": "text/x-python",
   "name": "python",
   "nbconvert_exporter": "python",
   "pygments_lexer": "ipython3",
   "version": "3.10.13"
  },
  "papermill": {
   "default_parameters": {},
   "duration": 19.381803,
   "end_time": "2024-08-17T11:25:05.646298",
   "environment_variables": {},
   "exception": null,
   "input_path": "__notebook__.ipynb",
   "output_path": "__notebook__.ipynb",
   "parameters": {},
   "start_time": "2024-08-17T11:24:46.264495",
   "version": "2.5.0"
  },
  "widgets": {
   "application/vnd.jupyter.widget-state+json": {
    "state": {
     "019a0ad6d2fa4547ad372b76c220a8f0": {
      "model_module": "@jupyter-widgets/base",
      "model_module_version": "1.2.0",
      "model_name": "LayoutModel",
      "state": {
       "_model_module": "@jupyter-widgets/base",
       "_model_module_version": "1.2.0",
       "_model_name": "LayoutModel",
       "_view_count": null,
       "_view_module": "@jupyter-widgets/base",
       "_view_module_version": "1.2.0",
       "_view_name": "LayoutView",
       "align_content": null,
       "align_items": null,
       "align_self": null,
       "border": null,
       "bottom": null,
       "display": null,
       "flex": null,
       "flex_flow": null,
       "grid_area": null,
       "grid_auto_columns": null,
       "grid_auto_flow": null,
       "grid_auto_rows": null,
       "grid_column": null,
       "grid_gap": null,
       "grid_row": null,
       "grid_template_areas": null,
       "grid_template_columns": null,
       "grid_template_rows": null,
       "height": null,
       "justify_content": null,
       "justify_items": null,
       "left": null,
       "margin": null,
       "max_height": null,
       "max_width": null,
       "min_height": null,
       "min_width": null,
       "object_fit": null,
       "object_position": null,
       "order": null,
       "overflow": null,
       "overflow_x": null,
       "overflow_y": null,
       "padding": null,
       "right": null,
       "top": null,
       "visibility": null,
       "width": null
      }
     },
     "0c63cae7bd0745a8bc824258c6f23b0c": {
      "model_module": "@jupyter-widgets/controls",
      "model_module_version": "1.5.0",
      "model_name": "VBoxModel",
      "state": {
       "_dom_classes": [
        "widget-interact"
       ],
       "_model_module": "@jupyter-widgets/controls",
       "_model_module_version": "1.5.0",
       "_model_name": "VBoxModel",
       "_view_count": null,
       "_view_module": "@jupyter-widgets/controls",
       "_view_module_version": "1.5.0",
       "_view_name": "VBoxView",
       "box_style": "",
       "children": [
        "IPY_MODEL_b1c36672ed264f8bb33fa2391cc4f4d0",
        "IPY_MODEL_cf82cb79ef744d2fbf59a44480a331a0"
       ],
       "layout": "IPY_MODEL_019a0ad6d2fa4547ad372b76c220a8f0"
      }
     },
     "157c529c36e3483ab1bc560d2fed6398": {
      "model_module": "@jupyter-widgets/base",
      "model_module_version": "1.2.0",
      "model_name": "LayoutModel",
      "state": {
       "_model_module": "@jupyter-widgets/base",
       "_model_module_version": "1.2.0",
       "_model_name": "LayoutModel",
       "_view_count": null,
       "_view_module": "@jupyter-widgets/base",
       "_view_module_version": "1.2.0",
       "_view_name": "LayoutView",
       "align_content": null,
       "align_items": null,
       "align_self": null,
       "border": null,
       "bottom": null,
       "display": null,
       "flex": null,
       "flex_flow": null,
       "grid_area": null,
       "grid_auto_columns": null,
       "grid_auto_flow": null,
       "grid_auto_rows": null,
       "grid_column": null,
       "grid_gap": null,
       "grid_row": null,
       "grid_template_areas": null,
       "grid_template_columns": null,
       "grid_template_rows": null,
       "height": null,
       "justify_content": null,
       "justify_items": null,
       "left": null,
       "margin": null,
       "max_height": null,
       "max_width": null,
       "min_height": null,
       "min_width": null,
       "object_fit": null,
       "object_position": null,
       "order": null,
       "overflow": null,
       "overflow_x": null,
       "overflow_y": null,
       "padding": null,
       "right": null,
       "top": null,
       "visibility": null,
       "width": null
      }
     },
     "b132cc47e7f94400b582ba200d677a7d": {
      "model_module": "@jupyter-widgets/controls",
      "model_module_version": "1.5.0",
      "model_name": "SliderStyleModel",
      "state": {
       "_model_module": "@jupyter-widgets/controls",
       "_model_module_version": "1.5.0",
       "_model_name": "SliderStyleModel",
       "_view_count": null,
       "_view_module": "@jupyter-widgets/base",
       "_view_module_version": "1.2.0",
       "_view_name": "StyleView",
       "description_width": "",
       "handle_color": null
      }
     },
     "b1c36672ed264f8bb33fa2391cc4f4d0": {
      "model_module": "@jupyter-widgets/controls",
      "model_module_version": "1.5.0",
      "model_name": "IntSliderModel",
      "state": {
       "_dom_classes": [],
       "_model_module": "@jupyter-widgets/controls",
       "_model_module_version": "1.5.0",
       "_model_name": "IntSliderModel",
       "_view_count": null,
       "_view_module": "@jupyter-widgets/controls",
       "_view_module_version": "1.5.0",
       "_view_name": "IntSliderView",
       "continuous_update": true,
       "description": "n_neighbors",
       "description_tooltip": null,
       "disabled": false,
       "layout": "IPY_MODEL_157c529c36e3483ab1bc560d2fed6398",
       "max": 20,
       "min": 1,
       "orientation": "horizontal",
       "readout": true,
       "readout_format": "d",
       "step": 1,
       "style": "IPY_MODEL_b132cc47e7f94400b582ba200d677a7d",
       "value": 10
      }
     },
     "b3ab7e5a37484c3f92a83219469023c7": {
      "model_module": "@jupyter-widgets/base",
      "model_module_version": "1.2.0",
      "model_name": "LayoutModel",
      "state": {
       "_model_module": "@jupyter-widgets/base",
       "_model_module_version": "1.2.0",
       "_model_name": "LayoutModel",
       "_view_count": null,
       "_view_module": "@jupyter-widgets/base",
       "_view_module_version": "1.2.0",
       "_view_name": "LayoutView",
       "align_content": null,
       "align_items": null,
       "align_self": null,
       "border": null,
       "bottom": null,
       "display": null,
       "flex": null,
       "flex_flow": null,
       "grid_area": null,
       "grid_auto_columns": null,
       "grid_auto_flow": null,
       "grid_auto_rows": null,
       "grid_column": null,
       "grid_gap": null,
       "grid_row": null,
       "grid_template_areas": null,
       "grid_template_columns": null,
       "grid_template_rows": null,
       "height": null,
       "justify_content": null,
       "justify_items": null,
       "left": null,
       "margin": null,
       "max_height": null,
       "max_width": null,
       "min_height": null,
       "min_width": null,
       "object_fit": null,
       "object_position": null,
       "order": null,
       "overflow": null,
       "overflow_x": null,
       "overflow_y": null,
       "padding": null,
       "right": null,
       "top": null,
       "visibility": null,
       "width": null
      }
     },
     "cf82cb79ef744d2fbf59a44480a331a0": {
      "model_module": "@jupyter-widgets/output",
      "model_module_version": "1.0.0",
      "model_name": "OutputModel",
      "state": {
       "_dom_classes": [],
       "_model_module": "@jupyter-widgets/output",
       "_model_module_version": "1.0.0",
       "_model_name": "OutputModel",
       "_view_count": null,
       "_view_module": "@jupyter-widgets/output",
       "_view_module_version": "1.0.0",
       "_view_name": "OutputView",
       "layout": "IPY_MODEL_b3ab7e5a37484c3f92a83219469023c7",
       "msg_id": "",
       "outputs": [
        {
         "data": {
          "image/png": "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",
          "text/plain": "<Figure size 800x600 with 1 Axes>"
         },
         "metadata": {},
         "output_type": "display_data"
        }
       ]
      }
     }
    },
    "version_major": 2,
    "version_minor": 0
   }
  }
 },
 "nbformat": 4,
 "nbformat_minor": 5
}
