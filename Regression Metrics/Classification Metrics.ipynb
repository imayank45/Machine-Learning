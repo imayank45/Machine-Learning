{
 "cells": [
  {
   "cell_type": "code",
   "execution_count": 21,
   "id": "ca5fa0f2",
   "metadata": {},
   "outputs": [],
   "source": [
    "import pandas as pd\n",
    "from sklearn.linear_model import LogisticRegression\n",
    "from sklearn.metrics import confusion_matrix, accuracy_score, precision_score, recall_score, f1_score, roc_curve, roc_auc_score,auc\n",
    "from sklearn.model_selection import train_test_split\n",
    "import matplotlib.pyplot as plt"
   ]
  },
  {
   "cell_type": "code",
   "execution_count": 2,
   "id": "f2e9304d",
   "metadata": {},
   "outputs": [],
   "source": [
    "data = pd.read_csv('Loan.csv')"
   ]
  },
  {
   "cell_type": "code",
   "execution_count": 3,
   "id": "cbcc8be6",
   "metadata": {},
   "outputs": [
    {
     "data": {
      "text/html": [
       "<div>\n",
       "<style scoped>\n",
       "    .dataframe tbody tr th:only-of-type {\n",
       "        vertical-align: middle;\n",
       "    }\n",
       "\n",
       "    .dataframe tbody tr th {\n",
       "        vertical-align: top;\n",
       "    }\n",
       "\n",
       "    .dataframe thead th {\n",
       "        text-align: right;\n",
       "    }\n",
       "</style>\n",
       "<table border=\"1\" class=\"dataframe\">\n",
       "  <thead>\n",
       "    <tr style=\"text-align: right;\">\n",
       "      <th></th>\n",
       "      <th>ApplicationDate</th>\n",
       "      <th>Age</th>\n",
       "      <th>AnnualIncome</th>\n",
       "      <th>CreditScore</th>\n",
       "      <th>EmploymentStatus</th>\n",
       "      <th>EducationLevel</th>\n",
       "      <th>Experience</th>\n",
       "      <th>LoanAmount</th>\n",
       "      <th>LoanDuration</th>\n",
       "      <th>MaritalStatus</th>\n",
       "      <th>...</th>\n",
       "      <th>MonthlyIncome</th>\n",
       "      <th>UtilityBillsPaymentHistory</th>\n",
       "      <th>JobTenure</th>\n",
       "      <th>NetWorth</th>\n",
       "      <th>BaseInterestRate</th>\n",
       "      <th>InterestRate</th>\n",
       "      <th>MonthlyLoanPayment</th>\n",
       "      <th>TotalDebtToIncomeRatio</th>\n",
       "      <th>LoanApproved</th>\n",
       "      <th>RiskScore</th>\n",
       "    </tr>\n",
       "  </thead>\n",
       "  <tbody>\n",
       "    <tr>\n",
       "      <th>0</th>\n",
       "      <td>2018-01-01</td>\n",
       "      <td>45</td>\n",
       "      <td>39948</td>\n",
       "      <td>617</td>\n",
       "      <td>Employed</td>\n",
       "      <td>Master</td>\n",
       "      <td>22</td>\n",
       "      <td>13152</td>\n",
       "      <td>48</td>\n",
       "      <td>Married</td>\n",
       "      <td>...</td>\n",
       "      <td>3329.000000</td>\n",
       "      <td>0.724972</td>\n",
       "      <td>11</td>\n",
       "      <td>126928</td>\n",
       "      <td>0.199652</td>\n",
       "      <td>0.227590</td>\n",
       "      <td>419.805992</td>\n",
       "      <td>0.181077</td>\n",
       "      <td>0</td>\n",
       "      <td>49.0</td>\n",
       "    </tr>\n",
       "    <tr>\n",
       "      <th>1</th>\n",
       "      <td>2018-01-02</td>\n",
       "      <td>38</td>\n",
       "      <td>39709</td>\n",
       "      <td>628</td>\n",
       "      <td>Employed</td>\n",
       "      <td>Associate</td>\n",
       "      <td>15</td>\n",
       "      <td>26045</td>\n",
       "      <td>48</td>\n",
       "      <td>Single</td>\n",
       "      <td>...</td>\n",
       "      <td>3309.083333</td>\n",
       "      <td>0.935132</td>\n",
       "      <td>3</td>\n",
       "      <td>43609</td>\n",
       "      <td>0.207045</td>\n",
       "      <td>0.201077</td>\n",
       "      <td>794.054238</td>\n",
       "      <td>0.389852</td>\n",
       "      <td>0</td>\n",
       "      <td>52.0</td>\n",
       "    </tr>\n",
       "    <tr>\n",
       "      <th>2</th>\n",
       "      <td>2018-01-03</td>\n",
       "      <td>47</td>\n",
       "      <td>40724</td>\n",
       "      <td>570</td>\n",
       "      <td>Employed</td>\n",
       "      <td>Bachelor</td>\n",
       "      <td>26</td>\n",
       "      <td>17627</td>\n",
       "      <td>36</td>\n",
       "      <td>Married</td>\n",
       "      <td>...</td>\n",
       "      <td>3393.666667</td>\n",
       "      <td>0.872241</td>\n",
       "      <td>6</td>\n",
       "      <td>5205</td>\n",
       "      <td>0.217627</td>\n",
       "      <td>0.212548</td>\n",
       "      <td>666.406688</td>\n",
       "      <td>0.462157</td>\n",
       "      <td>0</td>\n",
       "      <td>52.0</td>\n",
       "    </tr>\n",
       "    <tr>\n",
       "      <th>3</th>\n",
       "      <td>2018-01-04</td>\n",
       "      <td>58</td>\n",
       "      <td>69084</td>\n",
       "      <td>545</td>\n",
       "      <td>Employed</td>\n",
       "      <td>High School</td>\n",
       "      <td>34</td>\n",
       "      <td>37898</td>\n",
       "      <td>96</td>\n",
       "      <td>Single</td>\n",
       "      <td>...</td>\n",
       "      <td>5757.000000</td>\n",
       "      <td>0.896155</td>\n",
       "      <td>5</td>\n",
       "      <td>99452</td>\n",
       "      <td>0.300398</td>\n",
       "      <td>0.300911</td>\n",
       "      <td>1047.506980</td>\n",
       "      <td>0.313098</td>\n",
       "      <td>0</td>\n",
       "      <td>54.0</td>\n",
       "    </tr>\n",
       "    <tr>\n",
       "      <th>4</th>\n",
       "      <td>2018-01-05</td>\n",
       "      <td>37</td>\n",
       "      <td>103264</td>\n",
       "      <td>594</td>\n",
       "      <td>Employed</td>\n",
       "      <td>Associate</td>\n",
       "      <td>17</td>\n",
       "      <td>9184</td>\n",
       "      <td>36</td>\n",
       "      <td>Married</td>\n",
       "      <td>...</td>\n",
       "      <td>8605.333333</td>\n",
       "      <td>0.941369</td>\n",
       "      <td>5</td>\n",
       "      <td>227019</td>\n",
       "      <td>0.197184</td>\n",
       "      <td>0.175990</td>\n",
       "      <td>330.179140</td>\n",
       "      <td>0.070210</td>\n",
       "      <td>1</td>\n",
       "      <td>36.0</td>\n",
       "    </tr>\n",
       "  </tbody>\n",
       "</table>\n",
       "<p>5 rows × 36 columns</p>\n",
       "</div>"
      ],
      "text/plain": [
       "  ApplicationDate  Age  AnnualIncome  CreditScore EmploymentStatus  \\\n",
       "0      2018-01-01   45         39948          617         Employed   \n",
       "1      2018-01-02   38         39709          628         Employed   \n",
       "2      2018-01-03   47         40724          570         Employed   \n",
       "3      2018-01-04   58         69084          545         Employed   \n",
       "4      2018-01-05   37        103264          594         Employed   \n",
       "\n",
       "  EducationLevel  Experience  LoanAmount  LoanDuration MaritalStatus  ...  \\\n",
       "0         Master          22       13152            48       Married  ...   \n",
       "1      Associate          15       26045            48        Single  ...   \n",
       "2       Bachelor          26       17627            36       Married  ...   \n",
       "3    High School          34       37898            96        Single  ...   \n",
       "4      Associate          17        9184            36       Married  ...   \n",
       "\n",
       "   MonthlyIncome UtilityBillsPaymentHistory  JobTenure  NetWorth  \\\n",
       "0    3329.000000                   0.724972         11    126928   \n",
       "1    3309.083333                   0.935132          3     43609   \n",
       "2    3393.666667                   0.872241          6      5205   \n",
       "3    5757.000000                   0.896155          5     99452   \n",
       "4    8605.333333                   0.941369          5    227019   \n",
       "\n",
       "   BaseInterestRate  InterestRate  MonthlyLoanPayment  TotalDebtToIncomeRatio  \\\n",
       "0          0.199652      0.227590          419.805992                0.181077   \n",
       "1          0.207045      0.201077          794.054238                0.389852   \n",
       "2          0.217627      0.212548          666.406688                0.462157   \n",
       "3          0.300398      0.300911         1047.506980                0.313098   \n",
       "4          0.197184      0.175990          330.179140                0.070210   \n",
       "\n",
       "  LoanApproved  RiskScore  \n",
       "0            0       49.0  \n",
       "1            0       52.0  \n",
       "2            0       52.0  \n",
       "3            0       54.0  \n",
       "4            1       36.0  \n",
       "\n",
       "[5 rows x 36 columns]"
      ]
     },
     "execution_count": 3,
     "metadata": {},
     "output_type": "execute_result"
    }
   ],
   "source": [
    "data.head()"
   ]
  },
  {
   "cell_type": "code",
   "execution_count": 4,
   "id": "f760ce78",
   "metadata": {},
   "outputs": [
    {
     "data": {
      "text/plain": [
       "(20000, 36)"
      ]
     },
     "execution_count": 4,
     "metadata": {},
     "output_type": "execute_result"
    }
   ],
   "source": [
    "data.shapeb"
   ]
  },
  {
   "cell_type": "code",
   "execution_count": 10,
   "id": "a4cd4b33",
   "metadata": {},
   "outputs": [
    {
     "name": "stdout",
     "output_type": "stream",
     "text": [
      "<class 'pandas.core.frame.DataFrame'>\n",
      "RangeIndex: 20000 entries, 0 to 19999\n",
      "Data columns (total 36 columns):\n",
      " #   Column                      Non-Null Count  Dtype  \n",
      "---  ------                      --------------  -----  \n",
      " 0   ApplicationDate             20000 non-null  object \n",
      " 1   Age                         20000 non-null  int64  \n",
      " 2   AnnualIncome                20000 non-null  int64  \n",
      " 3   CreditScore                 20000 non-null  int64  \n",
      " 4   EmploymentStatus            20000 non-null  object \n",
      " 5   EducationLevel              20000 non-null  object \n",
      " 6   Experience                  20000 non-null  int64  \n",
      " 7   LoanAmount                  20000 non-null  int64  \n",
      " 8   LoanDuration                20000 non-null  int64  \n",
      " 9   MaritalStatus               20000 non-null  object \n",
      " 10  NumberOfDependents          20000 non-null  int64  \n",
      " 11  HomeOwnershipStatus         20000 non-null  object \n",
      " 12  MonthlyDebtPayments         20000 non-null  int64  \n",
      " 13  CreditCardUtilizationRate   20000 non-null  float64\n",
      " 14  NumberOfOpenCreditLines     20000 non-null  int64  \n",
      " 15  NumberOfCreditInquiries     20000 non-null  int64  \n",
      " 16  DebtToIncomeRatio           20000 non-null  float64\n",
      " 17  BankruptcyHistory           20000 non-null  int64  \n",
      " 18  LoanPurpose                 20000 non-null  object \n",
      " 19  PreviousLoanDefaults        20000 non-null  int64  \n",
      " 20  PaymentHistory              20000 non-null  int64  \n",
      " 21  LengthOfCreditHistory       20000 non-null  int64  \n",
      " 22  SavingsAccountBalance       20000 non-null  int64  \n",
      " 23  CheckingAccountBalance      20000 non-null  int64  \n",
      " 24  TotalAssets                 20000 non-null  int64  \n",
      " 25  TotalLiabilities            20000 non-null  int64  \n",
      " 26  MonthlyIncome               20000 non-null  float64\n",
      " 27  UtilityBillsPaymentHistory  20000 non-null  float64\n",
      " 28  JobTenure                   20000 non-null  int64  \n",
      " 29  NetWorth                    20000 non-null  int64  \n",
      " 30  BaseInterestRate            20000 non-null  float64\n",
      " 31  InterestRate                20000 non-null  float64\n",
      " 32  MonthlyLoanPayment          20000 non-null  float64\n",
      " 33  TotalDebtToIncomeRatio      20000 non-null  float64\n",
      " 34  LoanApproved                20000 non-null  int64  \n",
      " 35  RiskScore                   20000 non-null  float64\n",
      "dtypes: float64(9), int64(21), object(6)\n",
      "memory usage: 5.5+ MB\n"
     ]
    }
   ],
   "source": [
    "data.info()"
   ]
  },
  {
   "cell_type": "code",
   "execution_count": 12,
   "id": "b1d18ead",
   "metadata": {},
   "outputs": [],
   "source": [
    "data = data.drop(columns=data.select_dtypes(include=['object']).columns)\n"
   ]
  },
  {
   "cell_type": "code",
   "execution_count": 13,
   "id": "5a413ce5",
   "metadata": {},
   "outputs": [],
   "source": [
    "X = data.drop(columns=['LoanApproved'])\n",
    "y = data['LoanApproved']"
   ]
  },
  {
   "cell_type": "code",
   "execution_count": 14,
   "id": "71be529e",
   "metadata": {},
   "outputs": [],
   "source": [
    "X_train, X_test, y_train, y_test = train_test_split(X, y, test_size=0.3, random_state=42)"
   ]
  },
  {
   "cell_type": "code",
   "execution_count": 15,
   "id": "279a2f8c",
   "metadata": {},
   "outputs": [
    {
     "name": "stderr",
     "output_type": "stream",
     "text": [
      "C:\\Users\\Mayank\\anaconda3\\Lib\\site-packages\\sklearn\\linear_model\\_logistic.py:458: ConvergenceWarning: lbfgs failed to converge (status=1):\n",
      "STOP: TOTAL NO. of ITERATIONS REACHED LIMIT.\n",
      "\n",
      "Increase the number of iterations (max_iter) or scale the data as shown in:\n",
      "    https://scikit-learn.org/stable/modules/preprocessing.html\n",
      "Please also refer to the documentation for alternative solver options:\n",
      "    https://scikit-learn.org/stable/modules/linear_model.html#logistic-regression\n",
      "  n_iter_i = _check_optimize_result(\n"
     ]
    },
    {
     "data": {
      "text/html": [
       "<style>#sk-container-id-1 {color: black;background-color: white;}#sk-container-id-1 pre{padding: 0;}#sk-container-id-1 div.sk-toggleable {background-color: white;}#sk-container-id-1 label.sk-toggleable__label {cursor: pointer;display: block;width: 100%;margin-bottom: 0;padding: 0.3em;box-sizing: border-box;text-align: center;}#sk-container-id-1 label.sk-toggleable__label-arrow:before {content: \"▸\";float: left;margin-right: 0.25em;color: #696969;}#sk-container-id-1 label.sk-toggleable__label-arrow:hover:before {color: black;}#sk-container-id-1 div.sk-estimator:hover label.sk-toggleable__label-arrow:before {color: black;}#sk-container-id-1 div.sk-toggleable__content {max-height: 0;max-width: 0;overflow: hidden;text-align: left;background-color: #f0f8ff;}#sk-container-id-1 div.sk-toggleable__content pre {margin: 0.2em;color: black;border-radius: 0.25em;background-color: #f0f8ff;}#sk-container-id-1 input.sk-toggleable__control:checked~div.sk-toggleable__content {max-height: 200px;max-width: 100%;overflow: auto;}#sk-container-id-1 input.sk-toggleable__control:checked~label.sk-toggleable__label-arrow:before {content: \"▾\";}#sk-container-id-1 div.sk-estimator input.sk-toggleable__control:checked~label.sk-toggleable__label {background-color: #d4ebff;}#sk-container-id-1 div.sk-label input.sk-toggleable__control:checked~label.sk-toggleable__label {background-color: #d4ebff;}#sk-container-id-1 input.sk-hidden--visually {border: 0;clip: rect(1px 1px 1px 1px);clip: rect(1px, 1px, 1px, 1px);height: 1px;margin: -1px;overflow: hidden;padding: 0;position: absolute;width: 1px;}#sk-container-id-1 div.sk-estimator {font-family: monospace;background-color: #f0f8ff;border: 1px dotted black;border-radius: 0.25em;box-sizing: border-box;margin-bottom: 0.5em;}#sk-container-id-1 div.sk-estimator:hover {background-color: #d4ebff;}#sk-container-id-1 div.sk-parallel-item::after {content: \"\";width: 100%;border-bottom: 1px solid gray;flex-grow: 1;}#sk-container-id-1 div.sk-label:hover label.sk-toggleable__label {background-color: #d4ebff;}#sk-container-id-1 div.sk-serial::before {content: \"\";position: absolute;border-left: 1px solid gray;box-sizing: border-box;top: 0;bottom: 0;left: 50%;z-index: 0;}#sk-container-id-1 div.sk-serial {display: flex;flex-direction: column;align-items: center;background-color: white;padding-right: 0.2em;padding-left: 0.2em;position: relative;}#sk-container-id-1 div.sk-item {position: relative;z-index: 1;}#sk-container-id-1 div.sk-parallel {display: flex;align-items: stretch;justify-content: center;background-color: white;position: relative;}#sk-container-id-1 div.sk-item::before, #sk-container-id-1 div.sk-parallel-item::before {content: \"\";position: absolute;border-left: 1px solid gray;box-sizing: border-box;top: 0;bottom: 0;left: 50%;z-index: -1;}#sk-container-id-1 div.sk-parallel-item {display: flex;flex-direction: column;z-index: 1;position: relative;background-color: white;}#sk-container-id-1 div.sk-parallel-item:first-child::after {align-self: flex-end;width: 50%;}#sk-container-id-1 div.sk-parallel-item:last-child::after {align-self: flex-start;width: 50%;}#sk-container-id-1 div.sk-parallel-item:only-child::after {width: 0;}#sk-container-id-1 div.sk-dashed-wrapped {border: 1px dashed gray;margin: 0 0.4em 0.5em 0.4em;box-sizing: border-box;padding-bottom: 0.4em;background-color: white;}#sk-container-id-1 div.sk-label label {font-family: monospace;font-weight: bold;display: inline-block;line-height: 1.2em;}#sk-container-id-1 div.sk-label-container {text-align: center;}#sk-container-id-1 div.sk-container {/* jupyter's `normalize.less` sets `[hidden] { display: none; }` but bootstrap.min.css set `[hidden] { display: none !important; }` so we also need the `!important` here to be able to override the default hidden behavior on the sphinx rendered scikit-learn.org. See: https://github.com/scikit-learn/scikit-learn/issues/21755 */display: inline-block !important;position: relative;}#sk-container-id-1 div.sk-text-repr-fallback {display: none;}</style><div id=\"sk-container-id-1\" class=\"sk-top-container\"><div class=\"sk-text-repr-fallback\"><pre>LogisticRegression()</pre><b>In a Jupyter environment, please rerun this cell to show the HTML representation or trust the notebook. <br />On GitHub, the HTML representation is unable to render, please try loading this page with nbviewer.org.</b></div><div class=\"sk-container\" hidden><div class=\"sk-item\"><div class=\"sk-estimator sk-toggleable\"><input class=\"sk-toggleable__control sk-hidden--visually\" id=\"sk-estimator-id-1\" type=\"checkbox\" checked><label for=\"sk-estimator-id-1\" class=\"sk-toggleable__label sk-toggleable__label-arrow\">LogisticRegression</label><div class=\"sk-toggleable__content\"><pre>LogisticRegression()</pre></div></div></div></div></div>"
      ],
      "text/plain": [
       "LogisticRegression()"
      ]
     },
     "execution_count": 15,
     "metadata": {},
     "output_type": "execute_result"
    }
   ],
   "source": [
    "model = LogisticRegression()\n",
    "model.fit(X_train, y_train)"
   ]
  },
  {
   "cell_type": "code",
   "execution_count": 19,
   "id": "05758d10",
   "metadata": {},
   "outputs": [],
   "source": [
    "y_pred = model.predict(X_test)\n",
    "y_pred_prob = model.predict_proba(X_test)[:, 1]"
   ]
  },
  {
   "cell_type": "code",
   "execution_count": 22,
   "id": "94b2f56d",
   "metadata": {},
   "outputs": [
    {
     "name": "stdout",
     "output_type": "stream",
     "text": [
      "Confusion Matrix:\n",
      " [[4286  236]\n",
      " [ 433 1045]]\n",
      "Accuracy: 0.8885\n",
      "Precision: 0.8157689305230289\n",
      "Recall: 0.7070365358592693\n",
      "F1 Score: 0.7575208408843785\n",
      "AUC: 0.9425657094259967\n"
     ]
    }
   ],
   "source": [
    "# 1. Confusion Matrix\n",
    "cm = confusion_matrix(y_test, y_pred)\n",
    "print(\"Confusion Matrix:\\n\", cm)\n",
    "\n",
    "# 2. Accuracy\n",
    "accuracy = accuracy_score(y_test, y_pred)\n",
    "print(\"Accuracy:\", accuracy)\n",
    "\n",
    "# 3. Precision\n",
    "precision = precision_score(y_test, y_pred)\n",
    "print(\"Precision:\", precision)\n",
    "\n",
    "# 4. Recall\n",
    "recall = recall_score(y_test, y_pred)\n",
    "print(\"Recall:\", recall)\n",
    "\n",
    "# 5. F1 Score\n",
    "f1 = f1_score(y_test, y_pred)\n",
    "print(\"F1 Score:\", f1)\n",
    "\n",
    "# 6. ROC Curve and AUC\n",
    "fpr, tpr, thresholds = roc_curve(y_test, y_pred_prob)\n",
    "roc_auc = auc(fpr, tpr)\n",
    "print(\"AUC:\", roc_auc)"
   ]
  },
  {
   "cell_type": "code",
   "execution_count": 23,
   "id": "ef351f8c",
   "metadata": {},
   "outputs": [
    {
     "data": {
      "image/png": "[encoded data removed]",
      "text/plain": [
       "<Figure size 640x480 with 1 Axes>"
      ]
     },
     "metadata": {},
     "output_type": "display_data"
    }
   ],
   "source": [
    "plt.figure()\n",
    "plt.plot(fpr, tpr, color='blue', lw=2, label='ROC curve (AUC = %0.2f)' % roc_auc)\n",
    "plt.plot([0, 1], [0, 1], color='gray', lw=2, linestyle='--')\n",
    "plt.xlim([0.0, 1.0])\n",
    "plt.ylim([0.0, 1.05])\n",
    "plt.xlabel('False Positive Rate (FPR)')\n",
    "plt.ylabel('True Positive Rate (TPR)')\n",
    "plt.title('Receiver Operating Characteristic (ROC) Curve')\n",
    "plt.legend(loc=\"lower right\")\n",
    "plt.show()"
   ]
  },
  {
   "cell_type": "code",
   "execution_count": null,
   "id": "e5771c55",
   "metadata": {},
   "outputs": [],
   "source": []
  }
 ],
 "metadata": {
  "kernelspec": {
   "display_name": "Python 3 (ipykernel)",
   "language": "python",
   "name": "python3"
  },
  "language_info": {
   "codemirror_mode": {
    "name": "ipython",
    "version": 3
   },
   "file_extension": ".py",
   "mimetype": "text/x-python",
   "name": "python",
   "nbconvert_exporter": "python",
   "pygments_lexer": "ipython3",
   "version": "3.11.5"
  }
 },
 "nbformat": 4,
 "nbformat_minor": 5
}
