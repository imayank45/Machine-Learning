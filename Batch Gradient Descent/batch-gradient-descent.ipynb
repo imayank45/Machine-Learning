{
 "cells": [
  {
   "cell_type": "code",
   "execution_count": 1,
   "id": "742bdf22",
   "metadata": {
    "_cell_guid": "b1076dfc-b9ad-4769-8c92-a6c4dae69d19",
    "_uuid": "8f2839f25d086af736a60e9eeb907d3b93b6e0e5",
    "execution": {
     "iopub.execute_input": "2024-08-25T10:39:47.560363Z",
     "iopub.status.busy": "2024-08-25T10:39:47.559818Z",
     "iopub.status.idle": "2024-08-25T10:39:49.343604Z",
     "shell.execute_reply": "2024-08-25T10:39:49.342086Z"
    },
    "papermill": {
     "duration": 1.795249,
     "end_time": "2024-08-25T10:39:49.346939",
     "exception": false,
     "start_time": "2024-08-25T10:39:47.551690",
     "status": "completed"
    },
    "tags": []
   },
   "outputs": [],
   "source": [
    "from sklearn.datasets import load_diabetes\n",
    "import numpy as np\n",
    "from sklearn.linear_model import LinearRegression\n",
    "from sklearn.metrics import r2_score\n",
    "from sklearn.model_selection import train_test_split"
   ]
  },
  {
   "cell_type": "code",
   "execution_count": 2,
   "id": "f481fd62",
   "metadata": {
    "execution": {
     "iopub.execute_input": "2024-08-25T10:39:49.360727Z",
     "iopub.status.busy": "2024-08-25T10:39:49.360028Z",
     "iopub.status.idle": "2024-08-25T10:39:49.383291Z",
     "shell.execute_reply": "2024-08-25T10:39:49.381825Z"
    },
    "papermill": {
     "duration": 0.033828,
     "end_time": "2024-08-25T10:39:49.386511",
     "exception": false,
     "start_time": "2024-08-25T10:39:49.352683",
     "status": "completed"
    },
    "tags": []
   },
   "outputs": [],
   "source": [
    "X,y = load_diabetes(return_X_y=True)"
   ]
  },
  {
   "cell_type": "code",
   "execution_count": 3,
   "id": "499951a8",
   "metadata": {
    "execution": {
     "iopub.execute_input": "2024-08-25T10:39:49.399466Z",
     "iopub.status.busy": "2024-08-25T10:39:49.398905Z",
     "iopub.status.idle": "2024-08-25T10:39:49.406315Z",
     "shell.execute_reply": "2024-08-25T10:39:49.404790Z"
    },
    "papermill": {
     "duration": 0.018261,
     "end_time": "2024-08-25T10:39:49.410238",
     "exception": false,
     "start_time": "2024-08-25T10:39:49.391977",
     "status": "completed"
    },
    "tags": []
   },
   "outputs": [
    {
     "name": "stdout",
     "output_type": "stream",
     "text": [
      "(442, 10)\n",
      "(442,)\n"
     ]
    }
   ],
   "source": [
    "print(X.shape)\n",
    "print(y.shape)"
   ]
  },
  {
   "cell_type": "code",
   "execution_count": 4,
   "id": "271e43d2",
   "metadata": {
    "execution": {
     "iopub.execute_input": "2024-08-25T10:39:49.424502Z",
     "iopub.status.busy": "2024-08-25T10:39:49.423982Z",
     "iopub.status.idle": "2024-08-25T10:39:49.433024Z",
     "shell.execute_reply": "2024-08-25T10:39:49.431582Z"
    },
    "papermill": {
     "duration": 0.019885,
     "end_time": "2024-08-25T10:39:49.436084",
     "exception": false,
     "start_time": "2024-08-25T10:39:49.416199",
     "status": "completed"
    },
    "tags": []
   },
   "outputs": [],
   "source": [
    "X_train,X_test,y_train,y_test = train_test_split(X,y,test_size=0.2,random_state=2)"
   ]
  },
  {
   "cell_type": "code",
   "execution_count": 5,
   "id": "617859c6",
   "metadata": {
    "execution": {
     "iopub.execute_input": "2024-08-25T10:39:49.449165Z",
     "iopub.status.busy": "2024-08-25T10:39:49.448682Z",
     "iopub.status.idle": "2024-08-25T10:39:49.481027Z",
     "shell.execute_reply": "2024-08-25T10:39:49.479458Z"
    },
    "papermill": {
     "duration": 0.04225,
     "end_time": "2024-08-25T10:39:49.483848",
     "exception": false,
     "start_time": "2024-08-25T10:39:49.441598",
     "status": "completed"
    },
    "tags": []
   },
   "outputs": [
    {
     "data": {
      "text/html": [
       "<style>#sk-container-id-1 {color: black;background-color: white;}#sk-container-id-1 pre{padding: 0;}#sk-container-id-1 div.sk-toggleable {background-color: white;}#sk-container-id-1 label.sk-toggleable__label {cursor: pointer;display: block;width: 100%;margin-bottom: 0;padding: 0.3em;box-sizing: border-box;text-align: center;}#sk-container-id-1 label.sk-toggleable__label-arrow:before {content: \"▸\";float: left;margin-right: 0.25em;color: #696969;}#sk-container-id-1 label.sk-toggleable__label-arrow:hover:before {color: black;}#sk-container-id-1 div.sk-estimator:hover label.sk-toggleable__label-arrow:before {color: black;}#sk-container-id-1 div.sk-toggleable__content {max-height: 0;max-width: 0;overflow: hidden;text-align: left;background-color: #f0f8ff;}#sk-container-id-1 div.sk-toggleable__content pre {margin: 0.2em;color: black;border-radius: 0.25em;background-color: #f0f8ff;}#sk-container-id-1 input.sk-toggleable__control:checked~div.sk-toggleable__content {max-height: 200px;max-width: 100%;overflow: auto;}#sk-container-id-1 input.sk-toggleable__control:checked~label.sk-toggleable__label-arrow:before {content: \"▾\";}#sk-container-id-1 div.sk-estimator input.sk-toggleable__control:checked~label.sk-toggleable__label {background-color: #d4ebff;}#sk-container-id-1 div.sk-label input.sk-toggleable__control:checked~label.sk-toggleable__label {background-color: #d4ebff;}#sk-container-id-1 input.sk-hidden--visually {border: 0;clip: rect(1px 1px 1px 1px);clip: rect(1px, 1px, 1px, 1px);height: 1px;margin: -1px;overflow: hidden;padding: 0;position: absolute;width: 1px;}#sk-container-id-1 div.sk-estimator {font-family: monospace;background-color: #f0f8ff;border: 1px dotted black;border-radius: 0.25em;box-sizing: border-box;margin-bottom: 0.5em;}#sk-container-id-1 div.sk-estimator:hover {background-color: #d4ebff;}#sk-container-id-1 div.sk-parallel-item::after {content: \"\";width: 100%;border-bottom: 1px solid gray;flex-grow: 1;}#sk-container-id-1 div.sk-label:hover label.sk-toggleable__label {background-color: #d4ebff;}#sk-container-id-1 div.sk-serial::before {content: \"\";position: absolute;border-left: 1px solid gray;box-sizing: border-box;top: 0;bottom: 0;left: 50%;z-index: 0;}#sk-container-id-1 div.sk-serial {display: flex;flex-direction: column;align-items: center;background-color: white;padding-right: 0.2em;padding-left: 0.2em;position: relative;}#sk-container-id-1 div.sk-item {position: relative;z-index: 1;}#sk-container-id-1 div.sk-parallel {display: flex;align-items: stretch;justify-content: center;background-color: white;position: relative;}#sk-container-id-1 div.sk-item::before, #sk-container-id-1 div.sk-parallel-item::before {content: \"\";position: absolute;border-left: 1px solid gray;box-sizing: border-box;top: 0;bottom: 0;left: 50%;z-index: -1;}#sk-container-id-1 div.sk-parallel-item {display: flex;flex-direction: column;z-index: 1;position: relative;background-color: white;}#sk-container-id-1 div.sk-parallel-item:first-child::after {align-self: flex-end;width: 50%;}#sk-container-id-1 div.sk-parallel-item:last-child::after {align-self: flex-start;width: 50%;}#sk-container-id-1 div.sk-parallel-item:only-child::after {width: 0;}#sk-container-id-1 div.sk-dashed-wrapped {border: 1px dashed gray;margin: 0 0.4em 0.5em 0.4em;box-sizing: border-box;padding-bottom: 0.4em;background-color: white;}#sk-container-id-1 div.sk-label label {font-family: monospace;font-weight: bold;display: inline-block;line-height: 1.2em;}#sk-container-id-1 div.sk-label-container {text-align: center;}#sk-container-id-1 div.sk-container {/* jupyter's `normalize.less` sets `[hidden] { display: none; }` but bootstrap.min.css set `[hidden] { display: none !important; }` so we also need the `!important` here to be able to override the default hidden behavior on the sphinx rendered scikit-learn.org. See: https://github.com/scikit-learn/scikit-learn/issues/21755 */display: inline-block !important;position: relative;}#sk-container-id-1 div.sk-text-repr-fallback {display: none;}</style><div id=\"sk-container-id-1\" class=\"sk-top-container\"><div class=\"sk-text-repr-fallback\"><pre>LinearRegression()</pre><b>In a Jupyter environment, please rerun this cell to show the HTML representation or trust the notebook. <br />On GitHub, the HTML representation is unable to render, please try loading this page with nbviewer.org.</b></div><div class=\"sk-container\" hidden><div class=\"sk-item\"><div class=\"sk-estimator sk-toggleable\"><input class=\"sk-toggleable__control sk-hidden--visually\" id=\"sk-estimator-id-1\" type=\"checkbox\" checked><label for=\"sk-estimator-id-1\" class=\"sk-toggleable__label sk-toggleable__label-arrow\">LinearRegression</label><div class=\"sk-toggleable__content\"><pre>LinearRegression()</pre></div></div></div></div></div>"
      ],
      "text/plain": [
       "LinearRegression()"
      ]
     },
     "execution_count": 5,
     "metadata": {},
     "output_type": "execute_result"
    }
   ],
   "source": [
    "reg = LinearRegression()\n",
    "reg.fit(X_train,y_train)"
   ]
  },
  {
   "cell_type": "code",
   "execution_count": 6,
   "id": "42968b7a",
   "metadata": {
    "execution": {
     "iopub.execute_input": "2024-08-25T10:39:49.497130Z",
     "iopub.status.busy": "2024-08-25T10:39:49.496643Z",
     "iopub.status.idle": "2024-08-25T10:39:49.504024Z",
     "shell.execute_reply": "2024-08-25T10:39:49.502806Z"
    },
    "papermill": {
     "duration": 0.017305,
     "end_time": "2024-08-25T10:39:49.506799",
     "exception": false,
     "start_time": "2024-08-25T10:39:49.489494",
     "status": "completed"
    },
    "tags": []
   },
   "outputs": [
    {
     "name": "stdout",
     "output_type": "stream",
     "text": [
      "[  -9.15865318 -205.45432163  516.69374454  340.61999905 -895.5520019\n",
      "  561.22067904  153.89310954  126.73139688  861.12700152   52.42112238]\n",
      "151.88331005254167\n"
     ]
    }
   ],
   "source": [
    "print(reg.coef_)\n",
    "print(reg.intercept_)"
   ]
  },
  {
   "cell_type": "code",
   "execution_count": 7,
   "id": "26ce3888",
   "metadata": {
    "execution": {
     "iopub.execute_input": "2024-08-25T10:39:49.519946Z",
     "iopub.status.busy": "2024-08-25T10:39:49.519442Z",
     "iopub.status.idle": "2024-08-25T10:39:49.529491Z",
     "shell.execute_reply": "2024-08-25T10:39:49.528024Z"
    },
    "papermill": {
     "duration": 0.019919,
     "end_time": "2024-08-25T10:39:49.532271",
     "exception": false,
     "start_time": "2024-08-25T10:39:49.512352",
     "status": "completed"
    },
    "tags": []
   },
   "outputs": [
    {
     "data": {
      "text/plain": [
       "0.4399338661568968"
      ]
     },
     "execution_count": 7,
     "metadata": {},
     "output_type": "execute_result"
    }
   ],
   "source": [
    "ypred = reg.predict(X_test)\n",
    "r2_score(y_test,ypred)"
   ]
  },
  {
   "cell_type": "code",
   "execution_count": 8,
   "id": "0f908318",
   "metadata": {
    "execution": {
     "iopub.execute_input": "2024-08-25T10:39:49.546483Z",
     "iopub.status.busy": "2024-08-25T10:39:49.545970Z",
     "iopub.status.idle": "2024-08-25T10:39:49.557917Z",
     "shell.execute_reply": "2024-08-25T10:39:49.556556Z"
    },
    "papermill": {
     "duration": 0.02238,
     "end_time": "2024-08-25T10:39:49.560632",
     "exception": false,
     "start_time": "2024-08-25T10:39:49.538252",
     "status": "completed"
    },
    "tags": []
   },
   "outputs": [],
   "source": [
    "class BGDRegressor:\n",
    "    \n",
    "    def __init__(self,learning_rate=0.01,epochs=100):\n",
    "        \n",
    "        self.lr = learning_rate\n",
    "        self.epochs = epochs\n",
    "        self.coef_ = None\n",
    "        self.intercept_ = None\n",
    "        \n",
    "    def fit(self,X_train,y_train):\n",
    "        \n",
    "        self.intercept_ = 0\n",
    "        self.coef_ = np.ones(X_train.shape[1])\n",
    "        \n",
    "        for i in range(self.epochs):\n",
    "            \n",
    "            y_hat = np.dot(X_train,self.coef_) + self.intercept_\n",
    "            # print('Shape of y_hat',y_hat.shape)\n",
    "            intercept_der = -2 * np.mean(y_train - y_hat)\n",
    "            self.intercept_ = self.intercept_ - (self.lr * intercept_der)\n",
    "            \n",
    "            coef_der = -2 * np.dot((y_train-y_hat),X_train) / X_train.shape[0]\n",
    "            self.coef_ = self.coef_ - (self.lr * coef_der)\n",
    "        \n",
    "        print(self.intercept_,self.coef_)\n",
    "        \n",
    "    def predict(self,X_test):\n",
    "        return np.dot(X_test,self.coef_) + self.intercept_"
   ]
  },
  {
   "cell_type": "code",
   "execution_count": 9,
   "id": "8d5718a3",
   "metadata": {
    "execution": {
     "iopub.execute_input": "2024-08-25T10:39:49.574845Z",
     "iopub.status.busy": "2024-08-25T10:39:49.574324Z",
     "iopub.status.idle": "2024-08-25T10:39:49.580617Z",
     "shell.execute_reply": "2024-08-25T10:39:49.579247Z"
    },
    "papermill": {
     "duration": 0.01634,
     "end_time": "2024-08-25T10:39:49.583295",
     "exception": false,
     "start_time": "2024-08-25T10:39:49.566955",
     "status": "completed"
    },
    "tags": []
   },
   "outputs": [],
   "source": [
    "bgdr = BGDRegressor(epochs=1000,learning_rate=0.4)"
   ]
  },
  {
   "cell_type": "code",
   "execution_count": 10,
   "id": "8fdb56e5",
   "metadata": {
    "execution": {
     "iopub.execute_input": "2024-08-25T10:39:49.597177Z",
     "iopub.status.busy": "2024-08-25T10:39:49.596679Z",
     "iopub.status.idle": "2024-08-25T10:39:49.649822Z",
     "shell.execute_reply": "2024-08-25T10:39:49.648431Z"
    },
    "papermill": {
     "duration": 0.063346,
     "end_time": "2024-08-25T10:39:49.652417",
     "exception": false,
     "start_time": "2024-08-25T10:39:49.589071",
     "status": "completed"
    },
    "tags": []
   },
   "outputs": [
    {
     "name": "stdout",
     "output_type": "stream",
     "text": [
      "152.04695545523967 [  23.72258115 -153.73159869  468.33623372  312.6634481   -29.57078448\n",
      " -101.98457793 -193.13547041  109.88215911  425.62365976  108.08959706]\n"
     ]
    }
   ],
   "source": [
    "bgdr.fit(X_train,y_train)"
   ]
  },
  {
   "cell_type": "code",
   "execution_count": 11,
   "id": "f15d1917",
   "metadata": {
    "execution": {
     "iopub.execute_input": "2024-08-25T10:39:49.666723Z",
     "iopub.status.busy": "2024-08-25T10:39:49.666212Z",
     "iopub.status.idle": "2024-08-25T10:39:49.671888Z",
     "shell.execute_reply": "2024-08-25T10:39:49.670744Z"
    },
    "papermill": {
     "duration": 0.01624,
     "end_time": "2024-08-25T10:39:49.674647",
     "exception": false,
     "start_time": "2024-08-25T10:39:49.658407",
     "status": "completed"
    },
    "tags": []
   },
   "outputs": [],
   "source": [
    "ypred = bgdr.predict(X_test)"
   ]
  },
  {
   "cell_type": "code",
   "execution_count": 12,
   "id": "d2652920",
   "metadata": {
    "execution": {
     "iopub.execute_input": "2024-08-25T10:39:49.688982Z",
     "iopub.status.busy": "2024-08-25T10:39:49.688520Z",
     "iopub.status.idle": "2024-08-25T10:39:49.698650Z",
     "shell.execute_reply": "2024-08-25T10:39:49.697135Z"
    },
    "papermill": {
     "duration": 0.021001,
     "end_time": "2024-08-25T10:39:49.701792",
     "exception": false,
     "start_time": "2024-08-25T10:39:49.680791",
     "status": "completed"
    },
    "tags": []
   },
   "outputs": [
    {
     "data": {
      "text/plain": [
       "0.45392659741468355"
      ]
     },
     "execution_count": 12,
     "metadata": {},
     "output_type": "execute_result"
    }
   ],
   "source": [
    "r2_score(y_test,ypred)"
   ]
  },
  {
   "cell_type": "code",
   "execution_count": null,
   "id": "2a4e3120",
   "metadata": {
    "papermill": {
     "duration": 0.005681,
     "end_time": "2024-08-25T10:39:49.713817",
     "exception": false,
     "start_time": "2024-08-25T10:39:49.708136",
     "status": "completed"
    },
    "tags": []
   },
   "outputs": [],
   "source": []
  }
 ],
 "metadata": {
  "kaggle": {
   "accelerator": "none",
   "dataSources": [],
   "dockerImageVersionId": 30761,
   "isGpuEnabled": false,
   "isInternetEnabled": true,
   "language": "python",
   "sourceType": "notebook"
  },
  "kernelspec": {
   "display_name": "Python 3",
   "language": "python",
   "name": "python3"
  },
  "language_info": {
   "codemirror_mode": {
    "name": "ipython",
    "version": 3
   },
   "file_extension": ".py",
   "mimetype": "text/x-python",
   "name": "python",
   "nbconvert_exporter": "python",
   "pygments_lexer": "ipython3",
   "version": "3.10.14"
  },
  "papermill": {
   "default_parameters": {},
   "duration": 6.252381,
   "end_time": "2024-08-25T10:39:50.243181",
   "environment_variables": {},
   "exception": null,
   "input_path": "__notebook__.ipynb",
   "output_path": "__notebook__.ipynb",
   "parameters": {},
   "start_time": "2024-08-25T10:39:43.990800",
   "version": "2.6.0"
  }
 },
 "nbformat": 4,
 "nbformat_minor": 5
}
